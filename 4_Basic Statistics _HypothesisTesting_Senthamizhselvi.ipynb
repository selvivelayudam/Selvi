{
 "cells": [
  {
   "cell_type": "code",
   "execution_count": 1,
   "id": "6826bb86",
   "metadata": {},
   "outputs": [],
   "source": [
    "import pandas as pd\n",
    "import numpy as np\n",
    "import matplotlib.pyplot as plt\n",
    "import seaborn as sns\n",
    "import datetime as dt\n",
    "\n",
    "\n",
    "# for hypothesis testing\n",
    "import scipy.stats as stats"
   ]
  },
  {
   "cell_type": "markdown",
   "id": "d1dd4aaf",
   "metadata": {},
   "source": [
    "# BUSINESS PROBLEM 1"
   ]
  },
  {
   "cell_type": "code",
   "execution_count": 2,
   "id": "35d1b81a",
   "metadata": {},
   "outputs": [],
   "source": [
    "loans = pd.read_csv(r\"D:\\Analytix lab\\Senthamizhselvi Datascience_360\\PYTHON\\CASE STUDY\\4. Basic Statistics - Hypothesis Testing\\LoansData.csv\")"
   ]
  },
  {
   "cell_type": "code",
   "execution_count": 3,
   "id": "b08cb06d",
   "metadata": {
    "scrolled": true
   },
   "outputs": [
    {
     "data": {
      "text/html": [
       "<div>\n",
       "<style scoped>\n",
       "    .dataframe tbody tr th:only-of-type {\n",
       "        vertical-align: middle;\n",
       "    }\n",
       "\n",
       "    .dataframe tbody tr th {\n",
       "        vertical-align: top;\n",
       "    }\n",
       "\n",
       "    .dataframe thead th {\n",
       "        text-align: right;\n",
       "    }\n",
       "</style>\n",
       "<table border=\"1\" class=\"dataframe\">\n",
       "  <thead>\n",
       "    <tr style=\"text-align: right;\">\n",
       "      <th></th>\n",
       "      <th>Amount.Requested</th>\n",
       "      <th>Amount.Funded.By.Investors</th>\n",
       "      <th>Interest.Rate</th>\n",
       "      <th>Loan.Length</th>\n",
       "      <th>Loan.Purpose</th>\n",
       "      <th>Debt.To.Income.Ratio</th>\n",
       "      <th>State</th>\n",
       "      <th>Home.Ownership</th>\n",
       "      <th>Monthly.Income</th>\n",
       "      <th>FICO.Range</th>\n",
       "      <th>Open.CREDIT.Lines</th>\n",
       "      <th>Revolving.CREDIT.Balance</th>\n",
       "      <th>Inquiries.in.the.Last.6.Months</th>\n",
       "      <th>Employment.Length</th>\n",
       "    </tr>\n",
       "  </thead>\n",
       "  <tbody>\n",
       "    <tr>\n",
       "      <th>0</th>\n",
       "      <td>20000.0</td>\n",
       "      <td>20000.00</td>\n",
       "      <td>8.90%</td>\n",
       "      <td>36 months</td>\n",
       "      <td>debt_consolidation</td>\n",
       "      <td>14.90%</td>\n",
       "      <td>SC</td>\n",
       "      <td>MORTGAGE</td>\n",
       "      <td>6541.67</td>\n",
       "      <td>735-739</td>\n",
       "      <td>14.0</td>\n",
       "      <td>14272.0</td>\n",
       "      <td>2.0</td>\n",
       "      <td>&lt; 1 year</td>\n",
       "    </tr>\n",
       "    <tr>\n",
       "      <th>1</th>\n",
       "      <td>19200.0</td>\n",
       "      <td>19200.00</td>\n",
       "      <td>12.12%</td>\n",
       "      <td>36 months</td>\n",
       "      <td>debt_consolidation</td>\n",
       "      <td>28.36%</td>\n",
       "      <td>TX</td>\n",
       "      <td>MORTGAGE</td>\n",
       "      <td>4583.33</td>\n",
       "      <td>715-719</td>\n",
       "      <td>12.0</td>\n",
       "      <td>11140.0</td>\n",
       "      <td>1.0</td>\n",
       "      <td>2 years</td>\n",
       "    </tr>\n",
       "    <tr>\n",
       "      <th>2</th>\n",
       "      <td>35000.0</td>\n",
       "      <td>35000.00</td>\n",
       "      <td>21.98%</td>\n",
       "      <td>60 months</td>\n",
       "      <td>debt_consolidation</td>\n",
       "      <td>23.81%</td>\n",
       "      <td>CA</td>\n",
       "      <td>MORTGAGE</td>\n",
       "      <td>11500.00</td>\n",
       "      <td>690-694</td>\n",
       "      <td>14.0</td>\n",
       "      <td>21977.0</td>\n",
       "      <td>1.0</td>\n",
       "      <td>2 years</td>\n",
       "    </tr>\n",
       "    <tr>\n",
       "      <th>3</th>\n",
       "      <td>10000.0</td>\n",
       "      <td>9975.00</td>\n",
       "      <td>9.99%</td>\n",
       "      <td>36 months</td>\n",
       "      <td>debt_consolidation</td>\n",
       "      <td>14.30%</td>\n",
       "      <td>KS</td>\n",
       "      <td>MORTGAGE</td>\n",
       "      <td>3833.33</td>\n",
       "      <td>695-699</td>\n",
       "      <td>10.0</td>\n",
       "      <td>9346.0</td>\n",
       "      <td>0.0</td>\n",
       "      <td>5 years</td>\n",
       "    </tr>\n",
       "    <tr>\n",
       "      <th>4</th>\n",
       "      <td>12000.0</td>\n",
       "      <td>12000.00</td>\n",
       "      <td>11.71%</td>\n",
       "      <td>36 months</td>\n",
       "      <td>credit_card</td>\n",
       "      <td>18.78%</td>\n",
       "      <td>NJ</td>\n",
       "      <td>RENT</td>\n",
       "      <td>3195.00</td>\n",
       "      <td>695-699</td>\n",
       "      <td>11.0</td>\n",
       "      <td>14469.0</td>\n",
       "      <td>0.0</td>\n",
       "      <td>9 years</td>\n",
       "    </tr>\n",
       "    <tr>\n",
       "      <th>...</th>\n",
       "      <td>...</td>\n",
       "      <td>...</td>\n",
       "      <td>...</td>\n",
       "      <td>...</td>\n",
       "      <td>...</td>\n",
       "      <td>...</td>\n",
       "      <td>...</td>\n",
       "      <td>...</td>\n",
       "      <td>...</td>\n",
       "      <td>...</td>\n",
       "      <td>...</td>\n",
       "      <td>...</td>\n",
       "      <td>...</td>\n",
       "      <td>...</td>\n",
       "    </tr>\n",
       "    <tr>\n",
       "      <th>2495</th>\n",
       "      <td>30000.0</td>\n",
       "      <td>29950.00</td>\n",
       "      <td>16.77%</td>\n",
       "      <td>60 months</td>\n",
       "      <td>debt_consolidation</td>\n",
       "      <td>19.23%</td>\n",
       "      <td>NY</td>\n",
       "      <td>MORTGAGE</td>\n",
       "      <td>9250.00</td>\n",
       "      <td>705-709</td>\n",
       "      <td>15.0</td>\n",
       "      <td>45880.0</td>\n",
       "      <td>1.0</td>\n",
       "      <td>8 years</td>\n",
       "    </tr>\n",
       "    <tr>\n",
       "      <th>2496</th>\n",
       "      <td>16000.0</td>\n",
       "      <td>16000.00</td>\n",
       "      <td>14.09%</td>\n",
       "      <td>60 months</td>\n",
       "      <td>home_improvement</td>\n",
       "      <td>21.54%</td>\n",
       "      <td>MD</td>\n",
       "      <td>OWN</td>\n",
       "      <td>8903.25</td>\n",
       "      <td>740-744</td>\n",
       "      <td>18.0</td>\n",
       "      <td>18898.0</td>\n",
       "      <td>1.0</td>\n",
       "      <td>10+ years</td>\n",
       "    </tr>\n",
       "    <tr>\n",
       "      <th>2497</th>\n",
       "      <td>10000.0</td>\n",
       "      <td>10000.00</td>\n",
       "      <td>13.99%</td>\n",
       "      <td>36 months</td>\n",
       "      <td>debt_consolidation</td>\n",
       "      <td>4.89%</td>\n",
       "      <td>PA</td>\n",
       "      <td>MORTGAGE</td>\n",
       "      <td>2166.67</td>\n",
       "      <td>680-684</td>\n",
       "      <td>4.0</td>\n",
       "      <td>4544.0</td>\n",
       "      <td>0.0</td>\n",
       "      <td>10+ years</td>\n",
       "    </tr>\n",
       "    <tr>\n",
       "      <th>2498</th>\n",
       "      <td>6000.0</td>\n",
       "      <td>6000.00</td>\n",
       "      <td>12.42%</td>\n",
       "      <td>36 months</td>\n",
       "      <td>major_purchase</td>\n",
       "      <td>16.66%</td>\n",
       "      <td>NJ</td>\n",
       "      <td>RENT</td>\n",
       "      <td>3500.00</td>\n",
       "      <td>675-679</td>\n",
       "      <td>8.0</td>\n",
       "      <td>7753.0</td>\n",
       "      <td>0.0</td>\n",
       "      <td>5 years</td>\n",
       "    </tr>\n",
       "    <tr>\n",
       "      <th>2499</th>\n",
       "      <td>9000.0</td>\n",
       "      <td>5242.75</td>\n",
       "      <td>13.79%</td>\n",
       "      <td>36 months</td>\n",
       "      <td>debt_consolidation</td>\n",
       "      <td>6.76%</td>\n",
       "      <td>NY</td>\n",
       "      <td>RENT</td>\n",
       "      <td>3875.00</td>\n",
       "      <td>670-674</td>\n",
       "      <td>7.0</td>\n",
       "      <td>7589.0</td>\n",
       "      <td>0.0</td>\n",
       "      <td>10+ years</td>\n",
       "    </tr>\n",
       "  </tbody>\n",
       "</table>\n",
       "<p>2500 rows × 14 columns</p>\n",
       "</div>"
      ],
      "text/plain": [
       "      Amount.Requested  Amount.Funded.By.Investors Interest.Rate Loan.Length  \\\n",
       "0              20000.0                    20000.00         8.90%   36 months   \n",
       "1              19200.0                    19200.00        12.12%   36 months   \n",
       "2              35000.0                    35000.00        21.98%   60 months   \n",
       "3              10000.0                     9975.00         9.99%   36 months   \n",
       "4              12000.0                    12000.00        11.71%   36 months   \n",
       "...                ...                         ...           ...         ...   \n",
       "2495           30000.0                    29950.00        16.77%   60 months   \n",
       "2496           16000.0                    16000.00        14.09%   60 months   \n",
       "2497           10000.0                    10000.00        13.99%   36 months   \n",
       "2498            6000.0                     6000.00        12.42%   36 months   \n",
       "2499            9000.0                     5242.75        13.79%   36 months   \n",
       "\n",
       "            Loan.Purpose Debt.To.Income.Ratio State Home.Ownership  \\\n",
       "0     debt_consolidation               14.90%    SC       MORTGAGE   \n",
       "1     debt_consolidation               28.36%    TX       MORTGAGE   \n",
       "2     debt_consolidation               23.81%    CA       MORTGAGE   \n",
       "3     debt_consolidation               14.30%    KS       MORTGAGE   \n",
       "4            credit_card               18.78%    NJ           RENT   \n",
       "...                  ...                  ...   ...            ...   \n",
       "2495  debt_consolidation               19.23%    NY       MORTGAGE   \n",
       "2496    home_improvement               21.54%    MD            OWN   \n",
       "2497  debt_consolidation                4.89%    PA       MORTGAGE   \n",
       "2498      major_purchase               16.66%    NJ           RENT   \n",
       "2499  debt_consolidation                6.76%    NY           RENT   \n",
       "\n",
       "      Monthly.Income FICO.Range  Open.CREDIT.Lines  Revolving.CREDIT.Balance  \\\n",
       "0            6541.67    735-739               14.0                   14272.0   \n",
       "1            4583.33    715-719               12.0                   11140.0   \n",
       "2           11500.00    690-694               14.0                   21977.0   \n",
       "3            3833.33    695-699               10.0                    9346.0   \n",
       "4            3195.00    695-699               11.0                   14469.0   \n",
       "...              ...        ...                ...                       ...   \n",
       "2495         9250.00    705-709               15.0                   45880.0   \n",
       "2496         8903.25    740-744               18.0                   18898.0   \n",
       "2497         2166.67    680-684                4.0                    4544.0   \n",
       "2498         3500.00    675-679                8.0                    7753.0   \n",
       "2499         3875.00    670-674                7.0                    7589.0   \n",
       "\n",
       "      Inquiries.in.the.Last.6.Months Employment.Length  \n",
       "0                                2.0          < 1 year  \n",
       "1                                1.0           2 years  \n",
       "2                                1.0           2 years  \n",
       "3                                0.0           5 years  \n",
       "4                                0.0           9 years  \n",
       "...                              ...               ...  \n",
       "2495                             1.0           8 years  \n",
       "2496                             1.0         10+ years  \n",
       "2497                             0.0         10+ years  \n",
       "2498                             0.0           5 years  \n",
       "2499                             0.0         10+ years  \n",
       "\n",
       "[2500 rows x 14 columns]"
      ]
     },
     "execution_count": 3,
     "metadata": {},
     "output_type": "execute_result"
    }
   ],
   "source": [
    "loans"
   ]
  },
  {
   "cell_type": "code",
   "execution_count": 4,
   "id": "2a8dbbc4",
   "metadata": {},
   "outputs": [
    {
     "data": {
      "text/html": [
       "<div>\n",
       "<style scoped>\n",
       "    .dataframe tbody tr th:only-of-type {\n",
       "        vertical-align: middle;\n",
       "    }\n",
       "\n",
       "    .dataframe tbody tr th {\n",
       "        vertical-align: top;\n",
       "    }\n",
       "\n",
       "    .dataframe thead th {\n",
       "        text-align: right;\n",
       "    }\n",
       "</style>\n",
       "<table border=\"1\" class=\"dataframe\">\n",
       "  <thead>\n",
       "    <tr style=\"text-align: right;\">\n",
       "      <th></th>\n",
       "      <th>Amount.Requested</th>\n",
       "      <th>Amount.Funded.By.Investors</th>\n",
       "      <th>Interest.Rate</th>\n",
       "      <th>Loan.Length</th>\n",
       "      <th>Loan.Purpose</th>\n",
       "      <th>Debt.To.Income.Ratio</th>\n",
       "      <th>State</th>\n",
       "      <th>Home.Ownership</th>\n",
       "      <th>Monthly.Income</th>\n",
       "      <th>FICO.Range</th>\n",
       "      <th>Open.CREDIT.Lines</th>\n",
       "      <th>Revolving.CREDIT.Balance</th>\n",
       "      <th>Inquiries.in.the.Last.6.Months</th>\n",
       "      <th>Employment.Length</th>\n",
       "    </tr>\n",
       "  </thead>\n",
       "  <tbody>\n",
       "    <tr>\n",
       "      <th>0</th>\n",
       "      <td>20000.0</td>\n",
       "      <td>20000.0</td>\n",
       "      <td>8.90%</td>\n",
       "      <td>36 months</td>\n",
       "      <td>debt_consolidation</td>\n",
       "      <td>14.90%</td>\n",
       "      <td>SC</td>\n",
       "      <td>MORTGAGE</td>\n",
       "      <td>6541.67</td>\n",
       "      <td>735-739</td>\n",
       "      <td>14.0</td>\n",
       "      <td>14272.0</td>\n",
       "      <td>2.0</td>\n",
       "      <td>&lt; 1 year</td>\n",
       "    </tr>\n",
       "    <tr>\n",
       "      <th>1</th>\n",
       "      <td>19200.0</td>\n",
       "      <td>19200.0</td>\n",
       "      <td>12.12%</td>\n",
       "      <td>36 months</td>\n",
       "      <td>debt_consolidation</td>\n",
       "      <td>28.36%</td>\n",
       "      <td>TX</td>\n",
       "      <td>MORTGAGE</td>\n",
       "      <td>4583.33</td>\n",
       "      <td>715-719</td>\n",
       "      <td>12.0</td>\n",
       "      <td>11140.0</td>\n",
       "      <td>1.0</td>\n",
       "      <td>2 years</td>\n",
       "    </tr>\n",
       "    <tr>\n",
       "      <th>2</th>\n",
       "      <td>35000.0</td>\n",
       "      <td>35000.0</td>\n",
       "      <td>21.98%</td>\n",
       "      <td>60 months</td>\n",
       "      <td>debt_consolidation</td>\n",
       "      <td>23.81%</td>\n",
       "      <td>CA</td>\n",
       "      <td>MORTGAGE</td>\n",
       "      <td>11500.00</td>\n",
       "      <td>690-694</td>\n",
       "      <td>14.0</td>\n",
       "      <td>21977.0</td>\n",
       "      <td>1.0</td>\n",
       "      <td>2 years</td>\n",
       "    </tr>\n",
       "  </tbody>\n",
       "</table>\n",
       "</div>"
      ],
      "text/plain": [
       "   Amount.Requested  Amount.Funded.By.Investors Interest.Rate Loan.Length  \\\n",
       "0           20000.0                     20000.0         8.90%   36 months   \n",
       "1           19200.0                     19200.0        12.12%   36 months   \n",
       "2           35000.0                     35000.0        21.98%   60 months   \n",
       "\n",
       "         Loan.Purpose Debt.To.Income.Ratio State Home.Ownership  \\\n",
       "0  debt_consolidation               14.90%    SC       MORTGAGE   \n",
       "1  debt_consolidation               28.36%    TX       MORTGAGE   \n",
       "2  debt_consolidation               23.81%    CA       MORTGAGE   \n",
       "\n",
       "   Monthly.Income FICO.Range  Open.CREDIT.Lines  Revolving.CREDIT.Balance  \\\n",
       "0         6541.67    735-739               14.0                   14272.0   \n",
       "1         4583.33    715-719               12.0                   11140.0   \n",
       "2        11500.00    690-694               14.0                   21977.0   \n",
       "\n",
       "   Inquiries.in.the.Last.6.Months Employment.Length  \n",
       "0                             2.0          < 1 year  \n",
       "1                             1.0           2 years  \n",
       "2                             1.0           2 years  "
      ]
     },
     "execution_count": 4,
     "metadata": {},
     "output_type": "execute_result"
    }
   ],
   "source": [
    "loans.head(3)"
   ]
  },
  {
   "cell_type": "code",
   "execution_count": 5,
   "id": "c8fbef64",
   "metadata": {
    "scrolled": true
   },
   "outputs": [
    {
     "data": {
      "text/html": [
       "<div>\n",
       "<style scoped>\n",
       "    .dataframe tbody tr th:only-of-type {\n",
       "        vertical-align: middle;\n",
       "    }\n",
       "\n",
       "    .dataframe tbody tr th {\n",
       "        vertical-align: top;\n",
       "    }\n",
       "\n",
       "    .dataframe thead th {\n",
       "        text-align: right;\n",
       "    }\n",
       "</style>\n",
       "<table border=\"1\" class=\"dataframe\">\n",
       "  <thead>\n",
       "    <tr style=\"text-align: right;\">\n",
       "      <th></th>\n",
       "      <th>Amount_Requested</th>\n",
       "      <th>Amount_Funded_By_Investors</th>\n",
       "      <th>Interest_Rate</th>\n",
       "      <th>Loan_Length</th>\n",
       "      <th>Loan_Purpose</th>\n",
       "      <th>Debt_To_Income_Ratio</th>\n",
       "      <th>State</th>\n",
       "      <th>Home_Ownership</th>\n",
       "      <th>Monthly_Income</th>\n",
       "      <th>FICO_Range</th>\n",
       "      <th>Open_CREDIT_Lines</th>\n",
       "      <th>Revolving_CREDIT_Balance</th>\n",
       "      <th>Inquiries_in_the_Last_6_Months</th>\n",
       "      <th>Employment_Length</th>\n",
       "    </tr>\n",
       "  </thead>\n",
       "  <tbody>\n",
       "    <tr>\n",
       "      <th>0</th>\n",
       "      <td>20000.0</td>\n",
       "      <td>20000.0</td>\n",
       "      <td>8.90%</td>\n",
       "      <td>36 months</td>\n",
       "      <td>debt_consolidation</td>\n",
       "      <td>14.90%</td>\n",
       "      <td>SC</td>\n",
       "      <td>MORTGAGE</td>\n",
       "      <td>6541.67</td>\n",
       "      <td>735-739</td>\n",
       "      <td>14.0</td>\n",
       "      <td>14272.0</td>\n",
       "      <td>2.0</td>\n",
       "      <td>&lt; 1 year</td>\n",
       "    </tr>\n",
       "    <tr>\n",
       "      <th>1</th>\n",
       "      <td>19200.0</td>\n",
       "      <td>19200.0</td>\n",
       "      <td>12.12%</td>\n",
       "      <td>36 months</td>\n",
       "      <td>debt_consolidation</td>\n",
       "      <td>28.36%</td>\n",
       "      <td>TX</td>\n",
       "      <td>MORTGAGE</td>\n",
       "      <td>4583.33</td>\n",
       "      <td>715-719</td>\n",
       "      <td>12.0</td>\n",
       "      <td>11140.0</td>\n",
       "      <td>1.0</td>\n",
       "      <td>2 years</td>\n",
       "    </tr>\n",
       "    <tr>\n",
       "      <th>2</th>\n",
       "      <td>35000.0</td>\n",
       "      <td>35000.0</td>\n",
       "      <td>21.98%</td>\n",
       "      <td>60 months</td>\n",
       "      <td>debt_consolidation</td>\n",
       "      <td>23.81%</td>\n",
       "      <td>CA</td>\n",
       "      <td>MORTGAGE</td>\n",
       "      <td>11500.00</td>\n",
       "      <td>690-694</td>\n",
       "      <td>14.0</td>\n",
       "      <td>21977.0</td>\n",
       "      <td>1.0</td>\n",
       "      <td>2 years</td>\n",
       "    </tr>\n",
       "  </tbody>\n",
       "</table>\n",
       "</div>"
      ],
      "text/plain": [
       "   Amount_Requested  Amount_Funded_By_Investors Interest_Rate Loan_Length  \\\n",
       "0           20000.0                     20000.0         8.90%   36 months   \n",
       "1           19200.0                     19200.0        12.12%   36 months   \n",
       "2           35000.0                     35000.0        21.98%   60 months   \n",
       "\n",
       "         Loan_Purpose Debt_To_Income_Ratio State Home_Ownership  \\\n",
       "0  debt_consolidation               14.90%    SC       MORTGAGE   \n",
       "1  debt_consolidation               28.36%    TX       MORTGAGE   \n",
       "2  debt_consolidation               23.81%    CA       MORTGAGE   \n",
       "\n",
       "   Monthly_Income FICO_Range  Open_CREDIT_Lines  Revolving_CREDIT_Balance  \\\n",
       "0         6541.67    735-739               14.0                   14272.0   \n",
       "1         4583.33    715-719               12.0                   11140.0   \n",
       "2        11500.00    690-694               14.0                   21977.0   \n",
       "\n",
       "   Inquiries_in_the_Last_6_Months Employment_Length  \n",
       "0                             2.0          < 1 year  \n",
       "1                             1.0           2 years  \n",
       "2                             1.0           2 years  "
      ]
     },
     "execution_count": 5,
     "metadata": {},
     "output_type": "execute_result"
    }
   ],
   "source": [
    "loans.columns=loans.columns.str.replace('.','_')\n",
    "loans.head(3)"
   ]
  },
  {
   "cell_type": "code",
   "execution_count": 6,
   "id": "2a10c416",
   "metadata": {},
   "outputs": [
    {
     "data": {
      "text/plain": [
       "Amount_Requested                  float64\n",
       "Amount_Funded_By_Investors        float64\n",
       "Interest_Rate                     float64\n",
       "Loan_Length                        object\n",
       "Loan_Purpose                       object\n",
       "Debt_To_Income_Ratio               object\n",
       "State                              object\n",
       "Home_Ownership                     object\n",
       "Monthly_Income                    float64\n",
       "FICO_Range                         object\n",
       "Open_CREDIT_Lines                 float64\n",
       "Revolving_CREDIT_Balance          float64\n",
       "Inquiries_in_the_Last_6_Months    float64\n",
       "Employment_Length                  object\n",
       "dtype: object"
      ]
     },
     "execution_count": 6,
     "metadata": {},
     "output_type": "execute_result"
    }
   ],
   "source": [
    "loans.Interest_Rate=loans.Interest_Rate.str.replace('%',' ').apply(pd.to_numeric)\n",
    "loans.dtypes"
   ]
  },
  {
   "cell_type": "code",
   "execution_count": 7,
   "id": "a31534a3",
   "metadata": {
    "scrolled": true
   },
   "outputs": [
    {
     "data": {
      "text/plain": [
       "Amount_Requested                  1\n",
       "Amount_Funded_By_Investors        1\n",
       "Interest_Rate                     2\n",
       "Loan_Length                       0\n",
       "Loan_Purpose                      0\n",
       "Debt_To_Income_Ratio              1\n",
       "State                             0\n",
       "Home_Ownership                    1\n",
       "Monthly_Income                    1\n",
       "FICO_Range                        2\n",
       "Open_CREDIT_Lines                 3\n",
       "Revolving_CREDIT_Balance          3\n",
       "Inquiries_in_the_Last_6_Months    3\n",
       "dtype: int64"
      ]
     },
     "execution_count": 7,
     "metadata": {},
     "output_type": "execute_result"
    }
   ],
   "source": [
    "# employment length column is not required for this problem and it has many null values so drop column\n",
    "loans=loans.drop(columns='Employment_Length')\n",
    "loans.isna().sum()"
   ]
  },
  {
   "cell_type": "code",
   "execution_count": 8,
   "id": "852fa93a",
   "metadata": {},
   "outputs": [],
   "source": [
    "# null values count is very less ,so drop the rows with nullvalues\n",
    "loans=loans.dropna()\n",
    "loans['FICO_Score']=((loans.FICO_Range.str[0:3].astype(int))+(loans.FICO_Range.str[4:].astype(int)))/2"
   ]
  },
  {
   "cell_type": "code",
   "execution_count": 9,
   "id": "4c6bd9a8",
   "metadata": {
    "scrolled": true
   },
   "outputs": [
    {
     "data": {
      "text/plain": [
       "Loan_Length\n",
       "36 months    1941\n",
       "60 months     548\n",
       "Name: count, dtype: int64"
      ]
     },
     "execution_count": 9,
     "metadata": {},
     "output_type": "execute_result"
    }
   ],
   "source": [
    "# b. Loan length is directly effecting interest rate.\n",
    "loans.Loan_Length.value_counts()"
   ]
  },
  {
   "cell_type": "code",
   "execution_count": 10,
   "id": "0dfaef24",
   "metadata": {},
   "outputs": [
    {
     "data": {
      "text/plain": [
       "12.128907779495107"
      ]
     },
     "execution_count": 10,
     "metadata": {},
     "output_type": "execute_result"
    }
   ],
   "source": [
    "length_36months=loans.query('Loan_Length==\"36 months\"').Interest_Rate\n",
    "length_60months=loans.query('Loan_Length==\"60 months\"').Interest_Rate\n",
    "length_36months.mean()"
   ]
  },
  {
   "cell_type": "code",
   "execution_count": 11,
   "id": "95f3972a",
   "metadata": {},
   "outputs": [
    {
     "data": {
      "text/plain": [
       "16.407463503649634"
      ]
     },
     "execution_count": 11,
     "metadata": {},
     "output_type": "execute_result"
    }
   ],
   "source": [
    "length_60months.mean()"
   ]
  },
  {
   "cell_type": "code",
   "execution_count": 12,
   "id": "8f9e73ee",
   "metadata": {},
   "outputs": [
    {
     "data": {
      "text/plain": [
       "TtestResult(statistic=23.37963620691779, pvalue=1.9132344351585912e-109, df=2487.0)"
      ]
     },
     "execution_count": 12,
     "metadata": {},
     "output_type": "execute_result"
    }
   ],
   "source": [
    "stats.ttest_ind(length_60months,length_36months)"
   ]
  },
  {
   "cell_type": "code",
   "execution_count": 13,
   "id": "f7defc91",
   "metadata": {
    "scrolled": false
   },
   "outputs": [
    {
     "data": {
      "text/plain": [
       "Loan_Purpose\n",
       "debt_consolidation    1301\n",
       "credit_card            443\n",
       "other                  199\n",
       "home_improvement       152\n",
       "major_purchase         101\n",
       "small_business          86\n",
       "car                     50\n",
       "wedding                 38\n",
       "medical                 30\n",
       "moving                  29\n",
       "vacation                21\n",
       "house                   20\n",
       "educational             15\n",
       "renewable_energy         4\n",
       "Name: count, dtype: int64"
      ]
     },
     "execution_count": 13,
     "metadata": {},
     "output_type": "execute_result"
    }
   ],
   "source": [
    "#c. Interest rate varies for different purpose of loans\n",
    "loans.Loan_Purpose.value_counts()"
   ]
  },
  {
   "cell_type": "code",
   "execution_count": 14,
   "id": "5b702b22",
   "metadata": {},
   "outputs": [],
   "source": [
    "debt_consolidation=loans.query('Loan_Purpose==\"debt_consolidation\"').Interest_Rate\n",
    "credit_card=loans.query('Loan_Purpose==\"credit_card\"').Interest_Rate\n",
    "other=loans.query('Loan_Purpose==\"other\"').Interest_Rate\n",
    "home_improvement=loans.query('Loan_Purpose==\"home_improvement\"').Interest_Rate\n",
    "major_purchase=loans.query('Loan_Purpose==\"major_purchase\"').Interest_Rate\n",
    "small_business=loans.query('Loan_Purpose==\"small_business\"').Interest_Rate            \n",
    "car=loans.query('Loan_Purpose==\"car\"').Interest_Rate\n",
    "wedding=loans.query('Loan_Purpose==\"wedding\"').Interest_Rate\n",
    "medical=loans.query('Loan_Purpose==\"medical\"').Interest_Rate\n",
    "moving=loans.query('Loan_Purpose==\"moving\"').Interest_Rate\n",
    "vacation=loans.query('Loan_Purpose==\"vacation\"').Interest_Rate\n",
    "house=loans.query('Loan_Purpose==\"house\"').Interest_Rate\n",
    "educational=loans.query('Loan_Purpose==\"educational\"').Interest_Rate\n",
    "renewable_energy=loans.query('Loan_Purpose==\"renewable_energy\"').Interest_Rate "
   ]
  },
  {
   "cell_type": "code",
   "execution_count": 15,
   "id": "96492e25",
   "metadata": {},
   "outputs": [
    {
     "data": {
      "text/plain": [
       "F_onewayResult(statistic=7.487175499510107, pvalue=1.1346364693350775e-14)"
      ]
     },
     "execution_count": 15,
     "metadata": {},
     "output_type": "execute_result"
    }
   ],
   "source": [
    "stats.f_oneway(debt_consolidation,credit_card,other,home_improvement,major_purchase,small_business,car,wedding,medical,moving,vacation,house,educational,renewable_energy)"
   ]
  },
  {
   "cell_type": "code",
   "execution_count": 16,
   "id": "f9d66c0c",
   "metadata": {},
   "outputs": [
    {
     "data": {
      "text/plain": [
       "Home_Ownership\n",
       "MORTGAGE    1144\n",
       "RENT        1140\n",
       "OWN          200\n",
       "OTHER          5\n",
       "Name: count, dtype: int64"
      ]
     },
     "execution_count": 16,
     "metadata": {},
     "output_type": "execute_result"
    }
   ],
   "source": [
    "#d. There is relationship between FICO scores and Home Ownership. It means that, People with owning home will have high FICO scores.\n",
    "loans.Home_Ownership.value_counts()"
   ]
  },
  {
   "cell_type": "code",
   "execution_count": 17,
   "id": "cea62f2b",
   "metadata": {},
   "outputs": [
    {
     "data": {
      "text/plain": [
       "F_onewayResult(statistic=23.067768208374645, pvalue=1.001016973422469e-14)"
      ]
     },
     "execution_count": 17,
     "metadata": {},
     "output_type": "execute_result"
    }
   ],
   "source": [
    "MORTGAGE=loans.query('Home_Ownership==\"MORTGAGE\"').FICO_Score\n",
    "RENT=loans.query('Home_Ownership==\"RENT\"').FICO_Score\n",
    "OWN=loans.query('Home_Ownership==\"OWN\"').FICO_Score            \n",
    "OTHER=loans.query('Home_Ownership==\"OTHER\"').FICO_Score\n",
    "stats.f_oneway(MORTGAGE,RENT,OWN,OTHER)"
   ]
  },
  {
   "cell_type": "markdown",
   "id": "6e4dc325",
   "metadata": {},
   "source": [
    "# BUSINESS PROBLEM 2"
   ]
  },
  {
   "cell_type": "code",
   "execution_count": 18,
   "id": "d8c70718",
   "metadata": {},
   "outputs": [],
   "source": [
    "price_quotes = pd.read_csv(r\"D:\\Analytix lab\\Senthamizhselvi Datascience_360\\PYTHON\\CASE STUDY\\4. Basic Statistics - Hypothesis Testing\\Price_Quotes.csv\")"
   ]
  },
  {
   "cell_type": "code",
   "execution_count": 19,
   "id": "68af5678",
   "metadata": {
    "scrolled": false
   },
   "outputs": [
    {
     "data": {
      "text/html": [
       "<div>\n",
       "<style scoped>\n",
       "    .dataframe tbody tr th:only-of-type {\n",
       "        vertical-align: middle;\n",
       "    }\n",
       "\n",
       "    .dataframe tbody tr th {\n",
       "        vertical-align: top;\n",
       "    }\n",
       "\n",
       "    .dataframe thead th {\n",
       "        text-align: right;\n",
       "    }\n",
       "</style>\n",
       "<table border=\"1\" class=\"dataframe\">\n",
       "  <thead>\n",
       "    <tr style=\"text-align: right;\">\n",
       "      <th></th>\n",
       "      <th>Order_Number</th>\n",
       "      <th>Barry_Price</th>\n",
       "      <th>Mary_Price</th>\n",
       "    </tr>\n",
       "  </thead>\n",
       "  <tbody>\n",
       "    <tr>\n",
       "      <th>0</th>\n",
       "      <td>1</td>\n",
       "      <td>126</td>\n",
       "      <td>114</td>\n",
       "    </tr>\n",
       "    <tr>\n",
       "      <th>1</th>\n",
       "      <td>2</td>\n",
       "      <td>110</td>\n",
       "      <td>118</td>\n",
       "    </tr>\n",
       "    <tr>\n",
       "      <th>2</th>\n",
       "      <td>3</td>\n",
       "      <td>138</td>\n",
       "      <td>114</td>\n",
       "    </tr>\n",
       "    <tr>\n",
       "      <th>3</th>\n",
       "      <td>4</td>\n",
       "      <td>142</td>\n",
       "      <td>111</td>\n",
       "    </tr>\n",
       "    <tr>\n",
       "      <th>4</th>\n",
       "      <td>5</td>\n",
       "      <td>146</td>\n",
       "      <td>129</td>\n",
       "    </tr>\n",
       "    <tr>\n",
       "      <th>5</th>\n",
       "      <td>6</td>\n",
       "      <td>136</td>\n",
       "      <td>119</td>\n",
       "    </tr>\n",
       "    <tr>\n",
       "      <th>6</th>\n",
       "      <td>7</td>\n",
       "      <td>94</td>\n",
       "      <td>97</td>\n",
       "    </tr>\n",
       "    <tr>\n",
       "      <th>7</th>\n",
       "      <td>8</td>\n",
       "      <td>103</td>\n",
       "      <td>104</td>\n",
       "    </tr>\n",
       "    <tr>\n",
       "      <th>8</th>\n",
       "      <td>9</td>\n",
       "      <td>140</td>\n",
       "      <td>127</td>\n",
       "    </tr>\n",
       "    <tr>\n",
       "      <th>9</th>\n",
       "      <td>10</td>\n",
       "      <td>152</td>\n",
       "      <td>133</td>\n",
       "    </tr>\n",
       "    <tr>\n",
       "      <th>10</th>\n",
       "      <td>11</td>\n",
       "      <td>108</td>\n",
       "      <td>103</td>\n",
       "    </tr>\n",
       "    <tr>\n",
       "      <th>11</th>\n",
       "      <td>12</td>\n",
       "      <td>97</td>\n",
       "      <td>108</td>\n",
       "    </tr>\n",
       "  </tbody>\n",
       "</table>\n",
       "</div>"
      ],
      "text/plain": [
       "    Order_Number  Barry_Price  Mary_Price\n",
       "0              1          126         114\n",
       "1              2          110         118\n",
       "2              3          138         114\n",
       "3              4          142         111\n",
       "4              5          146         129\n",
       "5              6          136         119\n",
       "6              7           94          97\n",
       "7              8          103         104\n",
       "8              9          140         127\n",
       "9             10          152         133\n",
       "10            11          108         103\n",
       "11            12           97         108"
      ]
     },
     "execution_count": 19,
     "metadata": {},
     "output_type": "execute_result"
    }
   ],
   "source": [
    "price_quotes"
   ]
  },
  {
   "cell_type": "code",
   "execution_count": 20,
   "id": "74efd7fa",
   "metadata": {},
   "outputs": [
    {
     "data": {
      "text/html": [
       "<div>\n",
       "<style scoped>\n",
       "    .dataframe tbody tr th:only-of-type {\n",
       "        vertical-align: middle;\n",
       "    }\n",
       "\n",
       "    .dataframe tbody tr th {\n",
       "        vertical-align: top;\n",
       "    }\n",
       "\n",
       "    .dataframe thead th {\n",
       "        text-align: right;\n",
       "    }\n",
       "</style>\n",
       "<table border=\"1\" class=\"dataframe\">\n",
       "  <thead>\n",
       "    <tr style=\"text-align: right;\">\n",
       "      <th></th>\n",
       "      <th>Order_Number</th>\n",
       "      <th>Barry_Price</th>\n",
       "      <th>Mary_Price</th>\n",
       "    </tr>\n",
       "  </thead>\n",
       "  <tbody>\n",
       "    <tr>\n",
       "      <th>0</th>\n",
       "      <td>1</td>\n",
       "      <td>126</td>\n",
       "      <td>114</td>\n",
       "    </tr>\n",
       "    <tr>\n",
       "      <th>1</th>\n",
       "      <td>2</td>\n",
       "      <td>110</td>\n",
       "      <td>118</td>\n",
       "    </tr>\n",
       "    <tr>\n",
       "      <th>2</th>\n",
       "      <td>3</td>\n",
       "      <td>138</td>\n",
       "      <td>114</td>\n",
       "    </tr>\n",
       "  </tbody>\n",
       "</table>\n",
       "</div>"
      ],
      "text/plain": [
       "   Order_Number  Barry_Price  Mary_Price\n",
       "0             1          126         114\n",
       "1             2          110         118\n",
       "2             3          138         114"
      ]
     },
     "execution_count": 20,
     "metadata": {},
     "output_type": "execute_result"
    }
   ],
   "source": [
    "price_quotes.head(3)"
   ]
  },
  {
   "cell_type": "code",
   "execution_count": 21,
   "id": "7a37b0bb",
   "metadata": {},
   "outputs": [
    {
     "data": {
      "text/plain": [
       "124.33333333333333"
      ]
     },
     "execution_count": 21,
     "metadata": {},
     "output_type": "execute_result"
    }
   ],
   "source": [
    "# there is any difference in the average price quotes provided by Mary and Barry.\n",
    "price_quotes.Barry_Price.mean()"
   ]
  },
  {
   "cell_type": "code",
   "execution_count": 22,
   "id": "30692222",
   "metadata": {},
   "outputs": [
    {
     "data": {
      "text/plain": [
       "114.75"
      ]
     },
     "execution_count": 22,
     "metadata": {},
     "output_type": "execute_result"
    }
   ],
   "source": [
    "price_quotes.Mary_Price.mean()"
   ]
  },
  {
   "cell_type": "code",
   "execution_count": 23,
   "id": "4f3b58ce",
   "metadata": {},
   "outputs": [
    {
     "data": {
      "text/plain": [
       "TtestResult(statistic=-1.4147436739281787, pvalue=0.17114226132118285, df=22.0)"
      ]
     },
     "execution_count": 23,
     "metadata": {},
     "output_type": "execute_result"
    }
   ],
   "source": [
    "stats.ttest_ind(price_quotes.Mary_Price,price_quotes.Barry_Price)"
   ]
  },
  {
   "cell_type": "code",
   "execution_count": 24,
   "id": "6badb21a",
   "metadata": {},
   "outputs": [],
   "source": [
    "#pvalue=0.17114226132118285 which is greater than 0.05, we cannot reject null hypothesis. With 95 percent confidence interval,we cannot say that there is difference in the average price quotes provided by Mary and Barry with the help of this data ."
   ]
  },
  {
   "cell_type": "markdown",
   "id": "84490f0c",
   "metadata": {},
   "source": [
    "# BUSINESS PROBLEM 3"
   ]
  },
  {
   "cell_type": "code",
   "execution_count": 25,
   "id": "1c8859a3",
   "metadata": {},
   "outputs": [],
   "source": [
    "data = pd.read_csv(r\"D:\\Analytix lab\\Senthamizhselvi Datascience_360\\PYTHON\\CASE STUDY\\4. Basic Statistics - Hypothesis Testing\\Treatment_Facility.csv\")"
   ]
  },
  {
   "cell_type": "code",
   "execution_count": 26,
   "id": "446d6da4",
   "metadata": {
    "scrolled": true
   },
   "outputs": [
    {
     "data": {
      "text/html": [
       "<div>\n",
       "<style scoped>\n",
       "    .dataframe tbody tr th:only-of-type {\n",
       "        vertical-align: middle;\n",
       "    }\n",
       "\n",
       "    .dataframe tbody tr th {\n",
       "        vertical-align: top;\n",
       "    }\n",
       "\n",
       "    .dataframe thead th {\n",
       "        text-align: right;\n",
       "    }\n",
       "</style>\n",
       "<table border=\"1\" class=\"dataframe\">\n",
       "  <thead>\n",
       "    <tr style=\"text-align: right;\">\n",
       "      <th></th>\n",
       "      <th>Month</th>\n",
       "      <th>Reengineer</th>\n",
       "      <th>Employee_Turnover</th>\n",
       "      <th>VAR4</th>\n",
       "      <th>VAR5</th>\n",
       "    </tr>\n",
       "  </thead>\n",
       "  <tbody>\n",
       "    <tr>\n",
       "      <th>0</th>\n",
       "      <td>1</td>\n",
       "      <td>Prior</td>\n",
       "      <td>0.0000</td>\n",
       "      <td>24.390244</td>\n",
       "      <td>42.682927</td>\n",
       "    </tr>\n",
       "    <tr>\n",
       "      <th>1</th>\n",
       "      <td>2</td>\n",
       "      <td>Prior</td>\n",
       "      <td>6.0606</td>\n",
       "      <td>19.354839</td>\n",
       "      <td>25.806452</td>\n",
       "    </tr>\n",
       "    <tr>\n",
       "      <th>2</th>\n",
       "      <td>3</td>\n",
       "      <td>Prior</td>\n",
       "      <td>12.1212</td>\n",
       "      <td>35.087719</td>\n",
       "      <td>146.198830</td>\n",
       "    </tr>\n",
       "    <tr>\n",
       "      <th>3</th>\n",
       "      <td>4</td>\n",
       "      <td>Prior</td>\n",
       "      <td>3.3333</td>\n",
       "      <td>18.404908</td>\n",
       "      <td>110.429448</td>\n",
       "    </tr>\n",
       "    <tr>\n",
       "      <th>4</th>\n",
       "      <td>5</td>\n",
       "      <td>Prior</td>\n",
       "      <td>12.9032</td>\n",
       "      <td>17.964072</td>\n",
       "      <td>23.952096</td>\n",
       "    </tr>\n",
       "    <tr>\n",
       "      <th>5</th>\n",
       "      <td>6</td>\n",
       "      <td>Prior</td>\n",
       "      <td>9.6774</td>\n",
       "      <td>41.176471</td>\n",
       "      <td>47.058824</td>\n",
       "    </tr>\n",
       "    <tr>\n",
       "      <th>6</th>\n",
       "      <td>7</td>\n",
       "      <td>Prior</td>\n",
       "      <td>11.7647</td>\n",
       "      <td>13.422819</td>\n",
       "      <td>0.000000</td>\n",
       "    </tr>\n",
       "    <tr>\n",
       "      <th>7</th>\n",
       "      <td>8</td>\n",
       "      <td>Prior</td>\n",
       "      <td>11.4286</td>\n",
       "      <td>31.250000</td>\n",
       "      <td>25.000000</td>\n",
       "    </tr>\n",
       "    <tr>\n",
       "      <th>8</th>\n",
       "      <td>9</td>\n",
       "      <td>Prior</td>\n",
       "      <td>23.0769</td>\n",
       "      <td>17.241379</td>\n",
       "      <td>132.183908</td>\n",
       "    </tr>\n",
       "    <tr>\n",
       "      <th>9</th>\n",
       "      <td>10</td>\n",
       "      <td>Prior</td>\n",
       "      <td>15.0000</td>\n",
       "      <td>16.574586</td>\n",
       "      <td>16.574586</td>\n",
       "    </tr>\n",
       "    <tr>\n",
       "      <th>10</th>\n",
       "      <td>11</td>\n",
       "      <td>Prior</td>\n",
       "      <td>10.0000</td>\n",
       "      <td>5.917160</td>\n",
       "      <td>88.757396</td>\n",
       "    </tr>\n",
       "    <tr>\n",
       "      <th>11</th>\n",
       "      <td>12</td>\n",
       "      <td>Prior</td>\n",
       "      <td>26.0870</td>\n",
       "      <td>21.164021</td>\n",
       "      <td>31.746032</td>\n",
       "    </tr>\n",
       "    <tr>\n",
       "      <th>12</th>\n",
       "      <td>13</td>\n",
       "      <td>Prior</td>\n",
       "      <td>11.1111</td>\n",
       "      <td>5.076142</td>\n",
       "      <td>10.152284</td>\n",
       "    </tr>\n",
       "    <tr>\n",
       "      <th>13</th>\n",
       "      <td>14</td>\n",
       "      <td>Post</td>\n",
       "      <td>26.6667</td>\n",
       "      <td>9.708738</td>\n",
       "      <td>29.126214</td>\n",
       "    </tr>\n",
       "    <tr>\n",
       "      <th>14</th>\n",
       "      <td>15</td>\n",
       "      <td>Post</td>\n",
       "      <td>17.9487</td>\n",
       "      <td>4.201681</td>\n",
       "      <td>21.008403</td>\n",
       "    </tr>\n",
       "    <tr>\n",
       "      <th>15</th>\n",
       "      <td>16</td>\n",
       "      <td>Post</td>\n",
       "      <td>12.8205</td>\n",
       "      <td>13.043478</td>\n",
       "      <td>34.782609</td>\n",
       "    </tr>\n",
       "    <tr>\n",
       "      <th>16</th>\n",
       "      <td>17</td>\n",
       "      <td>Post</td>\n",
       "      <td>15.7895</td>\n",
       "      <td>9.950249</td>\n",
       "      <td>19.900498</td>\n",
       "    </tr>\n",
       "    <tr>\n",
       "      <th>17</th>\n",
       "      <td>18</td>\n",
       "      <td>Post</td>\n",
       "      <td>0.0000</td>\n",
       "      <td>9.950249</td>\n",
       "      <td>9.950249</td>\n",
       "    </tr>\n",
       "    <tr>\n",
       "      <th>18</th>\n",
       "      <td>19</td>\n",
       "      <td>Post</td>\n",
       "      <td>30.7692</td>\n",
       "      <td>8.510638</td>\n",
       "      <td>25.531915</td>\n",
       "    </tr>\n",
       "    <tr>\n",
       "      <th>19</th>\n",
       "      <td>20</td>\n",
       "      <td>Post</td>\n",
       "      <td>26.8293</td>\n",
       "      <td>9.259259</td>\n",
       "      <td>23.148148</td>\n",
       "    </tr>\n",
       "  </tbody>\n",
       "</table>\n",
       "</div>"
      ],
      "text/plain": [
       "    Month Reengineer  Employee_Turnover       VAR4        VAR5\n",
       "0       1      Prior             0.0000  24.390244   42.682927\n",
       "1       2      Prior             6.0606  19.354839   25.806452\n",
       "2       3      Prior            12.1212  35.087719  146.198830\n",
       "3       4      Prior             3.3333  18.404908  110.429448\n",
       "4       5      Prior            12.9032  17.964072   23.952096\n",
       "5       6      Prior             9.6774  41.176471   47.058824\n",
       "6       7      Prior            11.7647  13.422819    0.000000\n",
       "7       8      Prior            11.4286  31.250000   25.000000\n",
       "8       9      Prior            23.0769  17.241379  132.183908\n",
       "9      10      Prior            15.0000  16.574586   16.574586\n",
       "10     11      Prior            10.0000   5.917160   88.757396\n",
       "11     12      Prior            26.0870  21.164021   31.746032\n",
       "12     13      Prior            11.1111   5.076142   10.152284\n",
       "13     14       Post            26.6667   9.708738   29.126214\n",
       "14     15       Post            17.9487   4.201681   21.008403\n",
       "15     16       Post            12.8205  13.043478   34.782609\n",
       "16     17       Post            15.7895   9.950249   19.900498\n",
       "17     18       Post             0.0000   9.950249    9.950249\n",
       "18     19       Post            30.7692   8.510638   25.531915\n",
       "19     20       Post            26.8293   9.259259   23.148148"
      ]
     },
     "execution_count": 26,
     "metadata": {},
     "output_type": "execute_result"
    }
   ],
   "source": [
    "data"
   ]
  },
  {
   "cell_type": "code",
   "execution_count": 27,
   "id": "2215f028",
   "metadata": {},
   "outputs": [
    {
     "data": {
      "text/html": [
       "<div>\n",
       "<style scoped>\n",
       "    .dataframe tbody tr th:only-of-type {\n",
       "        vertical-align: middle;\n",
       "    }\n",
       "\n",
       "    .dataframe tbody tr th {\n",
       "        vertical-align: top;\n",
       "    }\n",
       "\n",
       "    .dataframe thead th {\n",
       "        text-align: right;\n",
       "    }\n",
       "</style>\n",
       "<table border=\"1\" class=\"dataframe\">\n",
       "  <thead>\n",
       "    <tr style=\"text-align: right;\">\n",
       "      <th></th>\n",
       "      <th>Month</th>\n",
       "      <th>Reengineer</th>\n",
       "      <th>Employee_Turnover</th>\n",
       "      <th>VAR4</th>\n",
       "      <th>VAR5</th>\n",
       "    </tr>\n",
       "  </thead>\n",
       "  <tbody>\n",
       "    <tr>\n",
       "      <th>0</th>\n",
       "      <td>1</td>\n",
       "      <td>Prior</td>\n",
       "      <td>0.0000</td>\n",
       "      <td>24.390244</td>\n",
       "      <td>42.682927</td>\n",
       "    </tr>\n",
       "    <tr>\n",
       "      <th>1</th>\n",
       "      <td>2</td>\n",
       "      <td>Prior</td>\n",
       "      <td>6.0606</td>\n",
       "      <td>19.354839</td>\n",
       "      <td>25.806452</td>\n",
       "    </tr>\n",
       "    <tr>\n",
       "      <th>2</th>\n",
       "      <td>3</td>\n",
       "      <td>Prior</td>\n",
       "      <td>12.1212</td>\n",
       "      <td>35.087719</td>\n",
       "      <td>146.198830</td>\n",
       "    </tr>\n",
       "  </tbody>\n",
       "</table>\n",
       "</div>"
      ],
      "text/plain": [
       "   Month Reengineer  Employee_Turnover       VAR4        VAR5\n",
       "0      1      Prior             0.0000  24.390244   42.682927\n",
       "1      2      Prior             6.0606  19.354839   25.806452\n",
       "2      3      Prior            12.1212  35.087719  146.198830"
      ]
     },
     "execution_count": 27,
     "metadata": {},
     "output_type": "execute_result"
    }
   ],
   "source": [
    "data.head(3)"
   ]
  },
  {
   "cell_type": "code",
   "execution_count": 28,
   "id": "ab021e9c",
   "metadata": {},
   "outputs": [
    {
     "data": {
      "text/html": [
       "<div>\n",
       "<style scoped>\n",
       "    .dataframe tbody tr th:only-of-type {\n",
       "        vertical-align: middle;\n",
       "    }\n",
       "\n",
       "    .dataframe tbody tr th {\n",
       "        vertical-align: top;\n",
       "    }\n",
       "\n",
       "    .dataframe thead th {\n",
       "        text-align: right;\n",
       "    }\n",
       "</style>\n",
       "<table border=\"1\" class=\"dataframe\">\n",
       "  <thead>\n",
       "    <tr style=\"text-align: right;\">\n",
       "      <th></th>\n",
       "      <th>Month</th>\n",
       "      <th>Reengineer</th>\n",
       "      <th>Employee_Turnover</th>\n",
       "      <th>TRFF</th>\n",
       "      <th>CI</th>\n",
       "    </tr>\n",
       "  </thead>\n",
       "  <tbody>\n",
       "    <tr>\n",
       "      <th>0</th>\n",
       "      <td>1</td>\n",
       "      <td>Prior</td>\n",
       "      <td>0.0000</td>\n",
       "      <td>24.390244</td>\n",
       "      <td>42.682927</td>\n",
       "    </tr>\n",
       "    <tr>\n",
       "      <th>1</th>\n",
       "      <td>2</td>\n",
       "      <td>Prior</td>\n",
       "      <td>6.0606</td>\n",
       "      <td>19.354839</td>\n",
       "      <td>25.806452</td>\n",
       "    </tr>\n",
       "    <tr>\n",
       "      <th>2</th>\n",
       "      <td>3</td>\n",
       "      <td>Prior</td>\n",
       "      <td>12.1212</td>\n",
       "      <td>35.087719</td>\n",
       "      <td>146.198830</td>\n",
       "    </tr>\n",
       "  </tbody>\n",
       "</table>\n",
       "</div>"
      ],
      "text/plain": [
       "   Month Reengineer  Employee_Turnover       TRFF          CI\n",
       "0      1      Prior             0.0000  24.390244   42.682927\n",
       "1      2      Prior             6.0606  19.354839   25.806452\n",
       "2      3      Prior            12.1212  35.087719  146.198830"
      ]
     },
     "execution_count": 28,
     "metadata": {},
     "output_type": "execute_result"
    }
   ],
   "source": [
    "data=data.rename(columns={'VAR4':'TRFF','VAR5':'CI'})\n",
    "data.head(3)"
   ]
  },
  {
   "cell_type": "code",
   "execution_count": 29,
   "id": "13d77b87",
   "metadata": {},
   "outputs": [
    {
     "data": {
      "text/plain": [
       "TtestResult(statistic=-1.770306704753604, pvalue=0.09361109345535304, df=18.0)"
      ]
     },
     "execution_count": 29,
     "metadata": {},
     "output_type": "execute_result"
    }
   ],
   "source": [
    "# Determine what effect, if any, the reengineering effort had on the incidence behavioral problems and staff turnover. i.e To determine if the reengineering effort changed the critical incidence rate. Is there evidence that the critical incidence rate improved?\n",
    "#a. is there any effect in staff turnover\n",
    "prior_turnover=data.query('Reengineer==\"Prior\"').Employee_Turnover\n",
    "post_turnover=data.query('Reengineer==\"Post\"').Employee_Turnover\n",
    "stats.ttest_ind(prior_turnover,post_turnover)"
   ]
  },
  {
   "cell_type": "code",
   "execution_count": 30,
   "id": "fdc3ef29",
   "metadata": {},
   "outputs": [],
   "source": [
    "#conclusion\n",
    "#pvalue=0.09361109345535304 which is greater than 0.05, we cannot reject null hypothesis. With 95 percent confidence interval,we cannot say that there is effect in staff turnover with this data."
   ]
  },
  {
   "cell_type": "code",
   "execution_count": 31,
   "id": "9c70a602",
   "metadata": {},
   "outputs": [
    {
     "data": {
      "text/plain": [
       "TtestResult(statistic=1.627914425352865, pvalue=0.12091989189884148, df=18.0)"
      ]
     },
     "execution_count": 31,
     "metadata": {},
     "output_type": "execute_result"
    }
   ],
   "source": [
    "# b.if the reengineering effort changed the critical incidence rate.\n",
    "prior_CI=data.query('Reengineer==\"Prior\"').CI\n",
    "post_CI=data.query('Reengineer==\"Post\"').CI\n",
    "stats.ttest_ind(prior_CI,post_CI)"
   ]
  },
  {
   "cell_type": "code",
   "execution_count": 32,
   "id": "3f4d17d8",
   "metadata": {},
   "outputs": [],
   "source": [
    "#cocclusion\n",
    "#pvalue=0.12091989189884149 which is greater than 0.05, we cannot reject null hypothesis. With 95 percent confidence interval,we cannot say that the reengineering effort changed the critical incidence rate with this data."
   ]
  },
  {
   "cell_type": "markdown",
   "id": "125cad45",
   "metadata": {},
   "source": [
    "# BUSINESS PROBLEM 4"
   ]
  },
  {
   "cell_type": "code",
   "execution_count": 33,
   "id": "cce2a8ee",
   "metadata": {},
   "outputs": [],
   "source": [
    "priority = pd.read_csv(r\"D:\\Analytix lab\\Senthamizhselvi Datascience_360\\PYTHON\\CASE STUDY\\4. Basic Statistics - Hypothesis Testing\\Priority_Assessment.csv\")"
   ]
  },
  {
   "cell_type": "code",
   "execution_count": 34,
   "id": "f597f2b7",
   "metadata": {
    "scrolled": false
   },
   "outputs": [
    {
     "data": {
      "text/html": [
       "<div>\n",
       "<style scoped>\n",
       "    .dataframe tbody tr th:only-of-type {\n",
       "        vertical-align: middle;\n",
       "    }\n",
       "\n",
       "    .dataframe tbody tr th {\n",
       "        vertical-align: top;\n",
       "    }\n",
       "\n",
       "    .dataframe thead th {\n",
       "        text-align: right;\n",
       "    }\n",
       "</style>\n",
       "<table border=\"1\" class=\"dataframe\">\n",
       "  <thead>\n",
       "    <tr style=\"text-align: right;\">\n",
       "      <th></th>\n",
       "      <th>Days</th>\n",
       "      <th>Priority</th>\n",
       "    </tr>\n",
       "  </thead>\n",
       "  <tbody>\n",
       "    <tr>\n",
       "      <th>0</th>\n",
       "      <td>3.3</td>\n",
       "      <td>High</td>\n",
       "    </tr>\n",
       "    <tr>\n",
       "      <th>1</th>\n",
       "      <td>7.9</td>\n",
       "      <td>Medium</td>\n",
       "    </tr>\n",
       "    <tr>\n",
       "      <th>2</th>\n",
       "      <td>0.3</td>\n",
       "      <td>High</td>\n",
       "    </tr>\n",
       "    <tr>\n",
       "      <th>3</th>\n",
       "      <td>0.7</td>\n",
       "      <td>Medium</td>\n",
       "    </tr>\n",
       "    <tr>\n",
       "      <th>4</th>\n",
       "      <td>8.6</td>\n",
       "      <td>Medium</td>\n",
       "    </tr>\n",
       "    <tr>\n",
       "      <th>...</th>\n",
       "      <td>...</td>\n",
       "      <td>...</td>\n",
       "    </tr>\n",
       "    <tr>\n",
       "      <th>637</th>\n",
       "      <td>2.5</td>\n",
       "      <td>Low</td>\n",
       "    </tr>\n",
       "    <tr>\n",
       "      <th>638</th>\n",
       "      <td>0.3</td>\n",
       "      <td>High</td>\n",
       "    </tr>\n",
       "    <tr>\n",
       "      <th>639</th>\n",
       "      <td>0.3</td>\n",
       "      <td>Medium</td>\n",
       "    </tr>\n",
       "    <tr>\n",
       "      <th>640</th>\n",
       "      <td>1.3</td>\n",
       "      <td>Medium</td>\n",
       "    </tr>\n",
       "    <tr>\n",
       "      <th>641</th>\n",
       "      <td>0.5</td>\n",
       "      <td>High</td>\n",
       "    </tr>\n",
       "  </tbody>\n",
       "</table>\n",
       "<p>642 rows × 2 columns</p>\n",
       "</div>"
      ],
      "text/plain": [
       "     Days Priority\n",
       "0     3.3     High\n",
       "1     7.9   Medium\n",
       "2     0.3     High\n",
       "3     0.7   Medium\n",
       "4     8.6   Medium\n",
       "..    ...      ...\n",
       "637   2.5      Low\n",
       "638   0.3     High\n",
       "639   0.3   Medium\n",
       "640   1.3   Medium\n",
       "641   0.5     High\n",
       "\n",
       "[642 rows x 2 columns]"
      ]
     },
     "execution_count": 34,
     "metadata": {},
     "output_type": "execute_result"
    }
   ],
   "source": [
    "priority"
   ]
  },
  {
   "cell_type": "code",
   "execution_count": 35,
   "id": "5ea4fc01",
   "metadata": {},
   "outputs": [
    {
     "data": {
      "text/html": [
       "<div>\n",
       "<style scoped>\n",
       "    .dataframe tbody tr th:only-of-type {\n",
       "        vertical-align: middle;\n",
       "    }\n",
       "\n",
       "    .dataframe tbody tr th {\n",
       "        vertical-align: top;\n",
       "    }\n",
       "\n",
       "    .dataframe thead th {\n",
       "        text-align: right;\n",
       "    }\n",
       "</style>\n",
       "<table border=\"1\" class=\"dataframe\">\n",
       "  <thead>\n",
       "    <tr style=\"text-align: right;\">\n",
       "      <th></th>\n",
       "      <th>Days</th>\n",
       "      <th>Priority</th>\n",
       "    </tr>\n",
       "  </thead>\n",
       "  <tbody>\n",
       "    <tr>\n",
       "      <th>0</th>\n",
       "      <td>3.3</td>\n",
       "      <td>High</td>\n",
       "    </tr>\n",
       "    <tr>\n",
       "      <th>1</th>\n",
       "      <td>7.9</td>\n",
       "      <td>Medium</td>\n",
       "    </tr>\n",
       "    <tr>\n",
       "      <th>2</th>\n",
       "      <td>0.3</td>\n",
       "      <td>High</td>\n",
       "    </tr>\n",
       "  </tbody>\n",
       "</table>\n",
       "</div>"
      ],
      "text/plain": [
       "   Days Priority\n",
       "0   3.3     High\n",
       "1   7.9   Medium\n",
       "2   0.3     High"
      ]
     },
     "execution_count": 35,
     "metadata": {},
     "output_type": "execute_result"
    }
   ],
   "source": [
    "priority.head(3)"
   ]
  },
  {
   "cell_type": "code",
   "execution_count": 36,
   "id": "c4140ac0",
   "metadata": {},
   "outputs": [
    {
     "data": {
      "text/plain": [
       "F_onewayResult(statistic=1.812311010076072, pvalue=0.16411459461716182)"
      ]
     },
     "execution_count": 36,
     "metadata": {},
     "output_type": "execute_result"
    }
   ],
   "source": [
    "# If the system is working, then high priority jobs, on average, should be completed more quickly than medium priority jobs, and medium priority jobs should be completed more quickly than low priority jobs\n",
    "High=priority.query('Priority==\"High\"').Days\n",
    "Medium=priority.query('Priority==\"Medium\"').Days\n",
    "Low=priority.query('Priority==\"Low\"').Days\n",
    "stats.f_oneway(High,Medium,Low)"
   ]
  },
  {
   "cell_type": "code",
   "execution_count": 37,
   "id": "64c8c049",
   "metadata": {},
   "outputs": [],
   "source": [
    "#conclusion:\n",
    "\n",
    "#pvalue=0.16411459461716182 which is greater than 0.05, we cannot reject null hypothesis. With 95 percent confidence interval,we cannot say that that high priority jobs are completed more quickly than medium priority jobs, and medium priority jobs are completed more quickly than low priority jobs with the help of this data."
   ]
  },
  {
   "cell_type": "markdown",
   "id": "66a674b6",
   "metadata": {},
   "source": [
    "# BUSINESS PROBLEM 5"
   ]
  },
  {
   "cell_type": "code",
   "execution_count": 38,
   "id": "7d9c3898",
   "metadata": {},
   "outputs": [],
   "source": [
    "films = pd.read_csv(r\"D:\\Analytix lab\\Senthamizhselvi Datascience_360\\PYTHON\\CASE STUDY\\4. Basic Statistics - Hypothesis Testing\\Films.csv\")"
   ]
  },
  {
   "cell_type": "code",
   "execution_count": 39,
   "id": "a7ce21a9",
   "metadata": {
    "scrolled": true
   },
   "outputs": [
    {
     "data": {
      "text/html": [
       "<div>\n",
       "<style scoped>\n",
       "    .dataframe tbody tr th:only-of-type {\n",
       "        vertical-align: middle;\n",
       "    }\n",
       "\n",
       "    .dataframe tbody tr th {\n",
       "        vertical-align: top;\n",
       "    }\n",
       "\n",
       "    .dataframe thead th {\n",
       "        text-align: right;\n",
       "    }\n",
       "</style>\n",
       "<table border=\"1\" class=\"dataframe\">\n",
       "  <thead>\n",
       "    <tr style=\"text-align: right;\">\n",
       "      <th></th>\n",
       "      <th>_rowstate_</th>\n",
       "      <th>Movie</th>\n",
       "      <th>Gender</th>\n",
       "      <th>Marital_Status</th>\n",
       "      <th>Sinage</th>\n",
       "      <th>Parking</th>\n",
       "      <th>Clean</th>\n",
       "      <th>Overall</th>\n",
       "      <th>Age</th>\n",
       "      <th>Income</th>\n",
       "      <th>Hear_About</th>\n",
       "    </tr>\n",
       "  </thead>\n",
       "  <tbody>\n",
       "    <tr>\n",
       "      <th>0</th>\n",
       "      <td>0</td>\n",
       "      <td>Ferris Buellers Day Off</td>\n",
       "      <td>Female</td>\n",
       "      <td>Married</td>\n",
       "      <td>2.0</td>\n",
       "      <td>2.0</td>\n",
       "      <td>2.0</td>\n",
       "      <td>2.0</td>\n",
       "      <td>3.0</td>\n",
       "      <td>1.0</td>\n",
       "      <td>5</td>\n",
       "    </tr>\n",
       "    <tr>\n",
       "      <th>1</th>\n",
       "      <td>0</td>\n",
       "      <td>Ferris Buellers Day Off</td>\n",
       "      <td>Female</td>\n",
       "      <td>Single</td>\n",
       "      <td>1.0</td>\n",
       "      <td>1.0</td>\n",
       "      <td>1.0</td>\n",
       "      <td>1.0</td>\n",
       "      <td>2.0</td>\n",
       "      <td>1.0</td>\n",
       "      <td>5</td>\n",
       "    </tr>\n",
       "    <tr>\n",
       "      <th>2</th>\n",
       "      <td>0</td>\n",
       "      <td>Ferris Buellers Day Off</td>\n",
       "      <td>Male</td>\n",
       "      <td>Married</td>\n",
       "      <td>2.0</td>\n",
       "      <td>4.0</td>\n",
       "      <td>3.0</td>\n",
       "      <td>2.0</td>\n",
       "      <td>4.0</td>\n",
       "      <td>1.0</td>\n",
       "      <td>5</td>\n",
       "    </tr>\n",
       "    <tr>\n",
       "      <th>3</th>\n",
       "      <td>0</td>\n",
       "      <td>Ferris Buellers Day Off</td>\n",
       "      <td>Female</td>\n",
       "      <td>Married</td>\n",
       "      <td>1.0</td>\n",
       "      <td>3.0</td>\n",
       "      <td>2.0</td>\n",
       "      <td>2.0</td>\n",
       "      <td>4.0</td>\n",
       "      <td>1.0</td>\n",
       "      <td>5</td>\n",
       "    </tr>\n",
       "    <tr>\n",
       "      <th>4</th>\n",
       "      <td>0</td>\n",
       "      <td>Ferris Buellers Day Off</td>\n",
       "      <td>Female</td>\n",
       "      <td>Married</td>\n",
       "      <td>1.0</td>\n",
       "      <td>1.0</td>\n",
       "      <td>1.0</td>\n",
       "      <td>1.0</td>\n",
       "      <td>3.0</td>\n",
       "      <td>3.0</td>\n",
       "      <td>1</td>\n",
       "    </tr>\n",
       "    <tr>\n",
       "      <th>...</th>\n",
       "      <td>...</td>\n",
       "      <td>...</td>\n",
       "      <td>...</td>\n",
       "      <td>...</td>\n",
       "      <td>...</td>\n",
       "      <td>...</td>\n",
       "      <td>...</td>\n",
       "      <td>...</td>\n",
       "      <td>...</td>\n",
       "      <td>...</td>\n",
       "      <td>...</td>\n",
       "    </tr>\n",
       "    <tr>\n",
       "      <th>325</th>\n",
       "      <td>0</td>\n",
       "      <td>Old School</td>\n",
       "      <td>2</td>\n",
       "      <td>2</td>\n",
       "      <td>1.0</td>\n",
       "      <td>2.0</td>\n",
       "      <td>1.0</td>\n",
       "      <td>1.0</td>\n",
       "      <td>2.0</td>\n",
       "      <td>1.0</td>\n",
       "      <td>1</td>\n",
       "    </tr>\n",
       "    <tr>\n",
       "      <th>326</th>\n",
       "      <td>0</td>\n",
       "      <td>Old School</td>\n",
       "      <td>1</td>\n",
       "      <td>1</td>\n",
       "      <td>2.0</td>\n",
       "      <td>2.0</td>\n",
       "      <td>2.0</td>\n",
       "      <td>2.0</td>\n",
       "      <td>3.0</td>\n",
       "      <td>3.0</td>\n",
       "      <td>5</td>\n",
       "    </tr>\n",
       "    <tr>\n",
       "      <th>327</th>\n",
       "      <td>0</td>\n",
       "      <td>Old School</td>\n",
       "      <td>2</td>\n",
       "      <td>1</td>\n",
       "      <td>2.0</td>\n",
       "      <td>1.0</td>\n",
       "      <td>1.0</td>\n",
       "      <td>2.0</td>\n",
       "      <td>2.0</td>\n",
       "      <td>2.0</td>\n",
       "      <td>5</td>\n",
       "    </tr>\n",
       "    <tr>\n",
       "      <th>328</th>\n",
       "      <td>0</td>\n",
       "      <td>Old School</td>\n",
       "      <td>1</td>\n",
       "      <td>1</td>\n",
       "      <td>1.0</td>\n",
       "      <td>1.0</td>\n",
       "      <td>1.0</td>\n",
       "      <td>1.0</td>\n",
       "      <td>2.0</td>\n",
       "      <td>1.0</td>\n",
       "      <td>3</td>\n",
       "    </tr>\n",
       "    <tr>\n",
       "      <th>329</th>\n",
       "      <td>0</td>\n",
       "      <td>Old School</td>\n",
       "      <td>2</td>\n",
       "      <td>2</td>\n",
       "      <td>2.0</td>\n",
       "      <td>2.0</td>\n",
       "      <td>3.0</td>\n",
       "      <td>1.0</td>\n",
       "      <td>2.0</td>\n",
       "      <td>1.0</td>\n",
       "      <td>5</td>\n",
       "    </tr>\n",
       "  </tbody>\n",
       "</table>\n",
       "<p>330 rows × 11 columns</p>\n",
       "</div>"
      ],
      "text/plain": [
       "     _rowstate_                    Movie  Gender Marital_Status  Sinage  \\\n",
       "0             0  Ferris Buellers Day Off  Female        Married     2.0   \n",
       "1             0  Ferris Buellers Day Off  Female         Single     1.0   \n",
       "2             0  Ferris Buellers Day Off    Male        Married     2.0   \n",
       "3             0  Ferris Buellers Day Off  Female        Married     1.0   \n",
       "4             0  Ferris Buellers Day Off  Female        Married     1.0   \n",
       "..          ...                      ...     ...            ...     ...   \n",
       "325           0               Old School       2              2     1.0   \n",
       "326           0               Old School       1              1     2.0   \n",
       "327           0               Old School       2              1     2.0   \n",
       "328           0               Old School       1              1     1.0   \n",
       "329           0               Old School       2              2     2.0   \n",
       "\n",
       "     Parking  Clean  Overall  Age  Income Hear_About  \n",
       "0        2.0    2.0      2.0  3.0     1.0          5  \n",
       "1        1.0    1.0      1.0  2.0     1.0          5  \n",
       "2        4.0    3.0      2.0  4.0     1.0          5  \n",
       "3        3.0    2.0      2.0  4.0     1.0          5  \n",
       "4        1.0    1.0      1.0  3.0     3.0          1  \n",
       "..       ...    ...      ...  ...     ...        ...  \n",
       "325      2.0    1.0      1.0  2.0     1.0          1  \n",
       "326      2.0    2.0      2.0  3.0     3.0          5  \n",
       "327      1.0    1.0      2.0  2.0     2.0          5  \n",
       "328      1.0    1.0      1.0  2.0     1.0          3  \n",
       "329      2.0    3.0      1.0  2.0     1.0          5  \n",
       "\n",
       "[330 rows x 11 columns]"
      ]
     },
     "execution_count": 39,
     "metadata": {},
     "output_type": "execute_result"
    }
   ],
   "source": [
    "films"
   ]
  },
  {
   "cell_type": "code",
   "execution_count": 40,
   "id": "30b64c58",
   "metadata": {
    "scrolled": true
   },
   "outputs": [
    {
     "data": {
      "text/html": [
       "<div>\n",
       "<style scoped>\n",
       "    .dataframe tbody tr th:only-of-type {\n",
       "        vertical-align: middle;\n",
       "    }\n",
       "\n",
       "    .dataframe tbody tr th {\n",
       "        vertical-align: top;\n",
       "    }\n",
       "\n",
       "    .dataframe thead th {\n",
       "        text-align: right;\n",
       "    }\n",
       "</style>\n",
       "<table border=\"1\" class=\"dataframe\">\n",
       "  <thead>\n",
       "    <tr style=\"text-align: right;\">\n",
       "      <th></th>\n",
       "      <th>_rowstate_</th>\n",
       "      <th>Movie</th>\n",
       "      <th>Gender</th>\n",
       "      <th>Marital_Status</th>\n",
       "      <th>Sinage</th>\n",
       "      <th>Parking</th>\n",
       "      <th>Clean</th>\n",
       "      <th>Overall</th>\n",
       "      <th>Age</th>\n",
       "      <th>Income</th>\n",
       "      <th>Hear_About</th>\n",
       "    </tr>\n",
       "  </thead>\n",
       "  <tbody>\n",
       "    <tr>\n",
       "      <th>0</th>\n",
       "      <td>0</td>\n",
       "      <td>Ferris Buellers Day Off</td>\n",
       "      <td>Female</td>\n",
       "      <td>Married</td>\n",
       "      <td>2.0</td>\n",
       "      <td>2.0</td>\n",
       "      <td>2.0</td>\n",
       "      <td>2.0</td>\n",
       "      <td>3.0</td>\n",
       "      <td>1.0</td>\n",
       "      <td>5</td>\n",
       "    </tr>\n",
       "    <tr>\n",
       "      <th>1</th>\n",
       "      <td>0</td>\n",
       "      <td>Ferris Buellers Day Off</td>\n",
       "      <td>Female</td>\n",
       "      <td>Single</td>\n",
       "      <td>1.0</td>\n",
       "      <td>1.0</td>\n",
       "      <td>1.0</td>\n",
       "      <td>1.0</td>\n",
       "      <td>2.0</td>\n",
       "      <td>1.0</td>\n",
       "      <td>5</td>\n",
       "    </tr>\n",
       "    <tr>\n",
       "      <th>2</th>\n",
       "      <td>0</td>\n",
       "      <td>Ferris Buellers Day Off</td>\n",
       "      <td>Male</td>\n",
       "      <td>Married</td>\n",
       "      <td>2.0</td>\n",
       "      <td>4.0</td>\n",
       "      <td>3.0</td>\n",
       "      <td>2.0</td>\n",
       "      <td>4.0</td>\n",
       "      <td>1.0</td>\n",
       "      <td>5</td>\n",
       "    </tr>\n",
       "  </tbody>\n",
       "</table>\n",
       "</div>"
      ],
      "text/plain": [
       "   _rowstate_                    Movie  Gender Marital_Status  Sinage  \\\n",
       "0           0  Ferris Buellers Day Off  Female        Married     2.0   \n",
       "1           0  Ferris Buellers Day Off  Female         Single     1.0   \n",
       "2           0  Ferris Buellers Day Off    Male        Married     2.0   \n",
       "\n",
       "   Parking  Clean  Overall  Age  Income Hear_About  \n",
       "0      2.0    2.0      2.0  3.0     1.0          5  \n",
       "1      1.0    1.0      1.0  2.0     1.0          5  \n",
       "2      4.0    3.0      2.0  4.0     1.0          5  "
      ]
     },
     "execution_count": 40,
     "metadata": {},
     "output_type": "execute_result"
    }
   ],
   "source": [
    "films.head(3)"
   ]
  },
  {
   "cell_type": "code",
   "execution_count": 41,
   "id": "3ef36899",
   "metadata": {},
   "outputs": [
    {
     "data": {
      "text/plain": [
       "Gender\n",
       "2         194\n",
       "1         104\n",
       "Female     19\n",
       "Male       13\n",
       "Name: count, dtype: int64"
      ]
     },
     "execution_count": 41,
     "metadata": {},
     "output_type": "execute_result"
    }
   ],
   "source": [
    "films.Gender.value_counts()"
   ]
  },
  {
   "cell_type": "code",
   "execution_count": 42,
   "id": "ecc6fa97",
   "metadata": {},
   "outputs": [
    {
     "data": {
      "text/plain": [
       "Marital_Status\n",
       "2          208\n",
       "1           88\n",
       "Single      18\n",
       "Married     12\n",
       "Slngle       2\n",
       "Name: count, dtype: int64"
      ]
     },
     "execution_count": 42,
     "metadata": {},
     "output_type": "execute_result"
    }
   ],
   "source": [
    "films.Gender=np.where((films.Gender == 'Male') | (films.Gender == '1'),\"Male\",\"Female\")\n",
    "films.Marital_Status.value_counts()"
   ]
  },
  {
   "cell_type": "code",
   "execution_count": 43,
   "id": "350b0ad5",
   "metadata": {
    "scrolled": true
   },
   "outputs": [
    {
     "data": {
      "text/html": [
       "<div>\n",
       "<style scoped>\n",
       "    .dataframe tbody tr th:only-of-type {\n",
       "        vertical-align: middle;\n",
       "    }\n",
       "\n",
       "    .dataframe tbody tr th {\n",
       "        vertical-align: top;\n",
       "    }\n",
       "\n",
       "    .dataframe thead th {\n",
       "        text-align: right;\n",
       "    }\n",
       "</style>\n",
       "<table border=\"1\" class=\"dataframe\">\n",
       "  <thead>\n",
       "    <tr style=\"text-align: right;\">\n",
       "      <th></th>\n",
       "      <th>_rowstate_</th>\n",
       "      <th>Sinage</th>\n",
       "      <th>Parking</th>\n",
       "      <th>Clean</th>\n",
       "      <th>Overall</th>\n",
       "      <th>Age</th>\n",
       "      <th>Income</th>\n",
       "    </tr>\n",
       "  </thead>\n",
       "  <tbody>\n",
       "    <tr>\n",
       "      <th>count</th>\n",
       "      <td>330.0</td>\n",
       "      <td>328.000000</td>\n",
       "      <td>328.000000</td>\n",
       "      <td>327.000000</td>\n",
       "      <td>328.000000</td>\n",
       "      <td>328.000000</td>\n",
       "      <td>314.000000</td>\n",
       "    </tr>\n",
       "    <tr>\n",
       "      <th>mean</th>\n",
       "      <td>0.0</td>\n",
       "      <td>1.884146</td>\n",
       "      <td>1.756098</td>\n",
       "      <td>1.681957</td>\n",
       "      <td>1.618902</td>\n",
       "      <td>2.338415</td>\n",
       "      <td>1.834395</td>\n",
       "    </tr>\n",
       "    <tr>\n",
       "      <th>std</th>\n",
       "      <td>0.0</td>\n",
       "      <td>0.830603</td>\n",
       "      <td>0.798484</td>\n",
       "      <td>0.728313</td>\n",
       "      <td>0.689286</td>\n",
       "      <td>0.666902</td>\n",
       "      <td>0.844808</td>\n",
       "    </tr>\n",
       "    <tr>\n",
       "      <th>min</th>\n",
       "      <td>0.0</td>\n",
       "      <td>1.000000</td>\n",
       "      <td>1.000000</td>\n",
       "      <td>1.000000</td>\n",
       "      <td>1.000000</td>\n",
       "      <td>1.000000</td>\n",
       "      <td>1.000000</td>\n",
       "    </tr>\n",
       "    <tr>\n",
       "      <th>25%</th>\n",
       "      <td>0.0</td>\n",
       "      <td>1.000000</td>\n",
       "      <td>1.000000</td>\n",
       "      <td>1.000000</td>\n",
       "      <td>1.000000</td>\n",
       "      <td>2.000000</td>\n",
       "      <td>1.000000</td>\n",
       "    </tr>\n",
       "    <tr>\n",
       "      <th>50%</th>\n",
       "      <td>0.0</td>\n",
       "      <td>2.000000</td>\n",
       "      <td>2.000000</td>\n",
       "      <td>2.000000</td>\n",
       "      <td>2.000000</td>\n",
       "      <td>2.000000</td>\n",
       "      <td>2.000000</td>\n",
       "    </tr>\n",
       "    <tr>\n",
       "      <th>75%</th>\n",
       "      <td>0.0</td>\n",
       "      <td>2.000000</td>\n",
       "      <td>2.000000</td>\n",
       "      <td>2.000000</td>\n",
       "      <td>2.000000</td>\n",
       "      <td>3.000000</td>\n",
       "      <td>3.000000</td>\n",
       "    </tr>\n",
       "    <tr>\n",
       "      <th>max</th>\n",
       "      <td>0.0</td>\n",
       "      <td>5.000000</td>\n",
       "      <td>5.000000</td>\n",
       "      <td>5.000000</td>\n",
       "      <td>5.000000</td>\n",
       "      <td>4.000000</td>\n",
       "      <td>3.000000</td>\n",
       "    </tr>\n",
       "  </tbody>\n",
       "</table>\n",
       "</div>"
      ],
      "text/plain": [
       "       _rowstate_      Sinage     Parking       Clean     Overall         Age  \\\n",
       "count       330.0  328.000000  328.000000  327.000000  328.000000  328.000000   \n",
       "mean          0.0    1.884146    1.756098    1.681957    1.618902    2.338415   \n",
       "std           0.0    0.830603    0.798484    0.728313    0.689286    0.666902   \n",
       "min           0.0    1.000000    1.000000    1.000000    1.000000    1.000000   \n",
       "25%           0.0    1.000000    1.000000    1.000000    1.000000    2.000000   \n",
       "50%           0.0    2.000000    2.000000    2.000000    2.000000    2.000000   \n",
       "75%           0.0    2.000000    2.000000    2.000000    2.000000    3.000000   \n",
       "max           0.0    5.000000    5.000000    5.000000    5.000000    4.000000   \n",
       "\n",
       "           Income  \n",
       "count  314.000000  \n",
       "mean     1.834395  \n",
       "std      0.844808  \n",
       "min      1.000000  \n",
       "25%      1.000000  \n",
       "50%      2.000000  \n",
       "75%      3.000000  \n",
       "max      3.000000  "
      ]
     },
     "execution_count": 43,
     "metadata": {},
     "output_type": "execute_result"
    }
   ],
   "source": [
    "films.Marital_Status=np.where((films.Marital_Status=='1') | (films.Marital_Status=='Married') ,\"Married\",\"Single\" )\n",
    "films.describe()"
   ]
  },
  {
   "cell_type": "code",
   "execution_count": 44,
   "id": "8e2d0e11",
   "metadata": {},
   "outputs": [
    {
     "data": {
      "text/plain": [
       "_rowstate_        0\n",
       "Movie             0\n",
       "Gender            0\n",
       "Marital_Status    0\n",
       "Sinage            0\n",
       "Parking           0\n",
       "Clean             0\n",
       "Overall           0\n",
       "Age               0\n",
       "Income            0\n",
       "Hear_About        0\n",
       "dtype: int64"
      ]
     },
     "execution_count": 44,
     "metadata": {},
     "output_type": "execute_result"
    }
   ],
   "source": [
    "for i in films.columns:\n",
    "    films[i]=films[i].fillna(films[i].mode()[0])  \n",
    "films.isna().sum()"
   ]
  },
  {
   "cell_type": "code",
   "execution_count": 45,
   "id": "d1ae0b13",
   "metadata": {},
   "outputs": [
    {
     "name": "stdout",
     "output_type": "stream",
     "text": [
      "with 95% confidence levels,the overall level of customer satisfaction will be in the range (1.5469994901816928,1.6954247522425494)\n"
     ]
    }
   ],
   "source": [
    "# What is the overall level of customer satisfaction?\n",
    "mean=films.Overall.mean()\n",
    "std=films.Overall.std()\n",
    "SE=std/(np.sqrt(films.shape[0]))\n",
    "print(f'with 95% confidence levels,the overall level of customer satisfaction will be in the range ({mean-(1.96*SE)},{mean+(1.96*SE)})')"
   ]
  },
  {
   "cell_type": "code",
   "execution_count": 46,
   "id": "cf27c1c7",
   "metadata": {},
   "outputs": [
    {
     "data": {
      "text/html": [
       "<div>\n",
       "<style scoped>\n",
       "    .dataframe tbody tr th:only-of-type {\n",
       "        vertical-align: middle;\n",
       "    }\n",
       "\n",
       "    .dataframe tbody tr th {\n",
       "        vertical-align: top;\n",
       "    }\n",
       "\n",
       "    .dataframe thead th {\n",
       "        text-align: right;\n",
       "    }\n",
       "</style>\n",
       "<table border=\"1\" class=\"dataframe\">\n",
       "  <thead>\n",
       "    <tr style=\"text-align: right;\">\n",
       "      <th></th>\n",
       "      <th>_rowstate_</th>\n",
       "      <th>Movie</th>\n",
       "      <th>Gender</th>\n",
       "      <th>Marital_Status</th>\n",
       "      <th>Sinage</th>\n",
       "      <th>Parking</th>\n",
       "      <th>Clean</th>\n",
       "      <th>Overall</th>\n",
       "      <th>Age</th>\n",
       "      <th>Income</th>\n",
       "      <th>Hear_About</th>\n",
       "    </tr>\n",
       "  </thead>\n",
       "  <tbody>\n",
       "    <tr>\n",
       "      <th>0</th>\n",
       "      <td>0</td>\n",
       "      <td>Ferris Buellers Day Off</td>\n",
       "      <td>Female</td>\n",
       "      <td>Married</td>\n",
       "      <td>2.0</td>\n",
       "      <td>2.0</td>\n",
       "      <td>2.0</td>\n",
       "      <td>2.0</td>\n",
       "      <td>3.0</td>\n",
       "      <td>1.0</td>\n",
       "      <td>5</td>\n",
       "    </tr>\n",
       "    <tr>\n",
       "      <th>1</th>\n",
       "      <td>0</td>\n",
       "      <td>Ferris Buellers Day Off</td>\n",
       "      <td>Female</td>\n",
       "      <td>Single</td>\n",
       "      <td>1.0</td>\n",
       "      <td>1.0</td>\n",
       "      <td>1.0</td>\n",
       "      <td>1.0</td>\n",
       "      <td>2.0</td>\n",
       "      <td>1.0</td>\n",
       "      <td>5</td>\n",
       "    </tr>\n",
       "    <tr>\n",
       "      <th>2</th>\n",
       "      <td>0</td>\n",
       "      <td>Ferris Buellers Day Off</td>\n",
       "      <td>Male</td>\n",
       "      <td>Married</td>\n",
       "      <td>2.0</td>\n",
       "      <td>4.0</td>\n",
       "      <td>3.0</td>\n",
       "      <td>2.0</td>\n",
       "      <td>4.0</td>\n",
       "      <td>1.0</td>\n",
       "      <td>5</td>\n",
       "    </tr>\n",
       "  </tbody>\n",
       "</table>\n",
       "</div>"
      ],
      "text/plain": [
       "   _rowstate_                    Movie  Gender Marital_Status  Sinage  \\\n",
       "0           0  Ferris Buellers Day Off  Female        Married     2.0   \n",
       "1           0  Ferris Buellers Day Off  Female         Single     1.0   \n",
       "2           0  Ferris Buellers Day Off    Male        Married     2.0   \n",
       "\n",
       "   Parking  Clean  Overall  Age  Income Hear_About  \n",
       "0      2.0    2.0      2.0  3.0     1.0          5  \n",
       "1      1.0    1.0      1.0  2.0     1.0          5  \n",
       "2      4.0    3.0      2.0  4.0     1.0          5  "
      ]
     },
     "execution_count": 46,
     "metadata": {},
     "output_type": "execute_result"
    }
   ],
   "source": [
    "# What factors are linked to satisfaction?\n",
    "films.head(3)"
   ]
  },
  {
   "cell_type": "code",
   "execution_count": 47,
   "id": "1914cf79",
   "metadata": {},
   "outputs": [
    {
     "data": {
      "text/plain": [
       "Movie\n",
       "Willy Wonka                161\n",
       "Ferris Buellers Day Off    137\n",
       "Old School                  32\n",
       "Name: count, dtype: int64"
      ]
     },
     "execution_count": 47,
     "metadata": {},
     "output_type": "execute_result"
    }
   ],
   "source": [
    "# # factor 1 = Movie\n",
    "films.Movie.value_counts()"
   ]
  },
  {
   "cell_type": "code",
   "execution_count": 48,
   "id": "17589973",
   "metadata": {},
   "outputs": [
    {
     "data": {
      "text/plain": [
       "F_onewayResult(statistic=1.335243752886233, pvalue=0.2645245972839759)"
      ]
     },
     "execution_count": 48,
     "metadata": {},
     "output_type": "execute_result"
    }
   ],
   "source": [
    "Willy_Wonka=films.query('Movie==\"Willy Wonka\"').Overall\n",
    "Ferris_Buellers_Day_Off=films.query('Movie==\"Ferris Buellers Day Off\"').Overall\n",
    "Old_School=films.query('Movie==\"Old School\"').Overall\n",
    "stats.f_oneway(Willy_Wonka,Ferris_Buellers_Day_Off,Old_School)"
   ]
  },
  {
   "cell_type": "code",
   "execution_count": 49,
   "id": "ed56a798",
   "metadata": {},
   "outputs": [],
   "source": [
    "#pvalue=0.2645245972839759 which is greater than 0.05, we cannot reject null hypothesis . With 95 percent confidence interval,we cannot say that Movie is a factor linked to satisfaction with this data."
   ]
  },
  {
   "cell_type": "code",
   "execution_count": 50,
   "id": "8023adb7",
   "metadata": {},
   "outputs": [
    {
     "data": {
      "text/plain": [
       "TtestResult(statistic=1.393621669674226, pvalue=0.16437541932112798, df=328.0)"
      ]
     },
     "execution_count": 50,
     "metadata": {},
     "output_type": "execute_result"
    }
   ],
   "source": [
    "# # factor 2 = Gender\n",
    "Male=films.query('Gender==\"Male\"').Overall\n",
    "Female=films.query('Gender==\"Female\"').Overall\n",
    "stats.ttest_ind(Male,Female)"
   ]
  },
  {
   "cell_type": "code",
   "execution_count": 51,
   "id": "36449552",
   "metadata": {},
   "outputs": [],
   "source": [
    "#pvalue=0.1643754193211279 which is greater than 0.05,so, we cannot reject null hypothesis . With 95 percent confidence interval,we cannot say that Gender is a factor linked to satisfaction with this data."
   ]
  },
  {
   "cell_type": "code",
   "execution_count": 52,
   "id": "ad10b8df",
   "metadata": {},
   "outputs": [
    {
     "data": {
      "text/plain": [
       "TtestResult(statistic=0.7171640309514444, pvalue=0.47378328196635067, df=328.0)"
      ]
     },
     "execution_count": 52,
     "metadata": {},
     "output_type": "execute_result"
    }
   ],
   "source": [
    "# factor 3 = Marital_Status\n",
    "Married=films.query('Marital_Status==\"Married\"').Overall\n",
    "Single=films.query('Marital_Status==\"Single\"').Overall\n",
    "stats.ttest_ind(Single,Married)"
   ]
  },
  {
   "cell_type": "code",
   "execution_count": 53,
   "id": "a5840336",
   "metadata": {},
   "outputs": [],
   "source": [
    "#pvalue=0.47378328196635067,which is greater than 0.05,so, we cannot reject null hypothesis . With 95 percent confidence interval,we cannot say that Marital_status is a factor linked to satisfaction with this data."
   ]
  },
  {
   "cell_type": "code",
   "execution_count": 54,
   "id": "eedd5950",
   "metadata": {},
   "outputs": [
    {
     "data": {
      "text/plain": [
       "Sinage\n",
       "2.0    158\n",
       "1.0    113\n",
       "3.0     48\n",
       "4.0      6\n",
       "5.0      5\n",
       "Name: count, dtype: int64"
      ]
     },
     "execution_count": 54,
     "metadata": {},
     "output_type": "execute_result"
    }
   ],
   "source": [
    "# factor 4 = Sinage\n",
    "films.Sinage.value_counts()"
   ]
  },
  {
   "cell_type": "code",
   "execution_count": 55,
   "id": "90e766f2",
   "metadata": {},
   "outputs": [
    {
     "data": {
      "text/plain": [
       "PearsonRResult(statistic=0.3821028042239567, pvalue=6.501065434766993e-13)"
      ]
     },
     "execution_count": 55,
     "metadata": {},
     "output_type": "execute_result"
    }
   ],
   "source": [
    "stats.pearsonr(films.Sinage,films.Overall)"
   ]
  },
  {
   "cell_type": "code",
   "execution_count": 56,
   "id": "3b6bac2d",
   "metadata": {},
   "outputs": [],
   "source": [
    "#pvalue=6.501065434766499e-13,,which is less than 0.05,we can reject null hypothesis . With 95 percent confidence interval,we can say that Sinage is a factor linked to satisfaction with this data."
   ]
  },
  {
   "cell_type": "code",
   "execution_count": 57,
   "id": "1300f4ac",
   "metadata": {},
   "outputs": [
    {
     "data": {
      "text/plain": [
       "PearsonRResult(statistic=0.5144289487855271, pvalue=1.0840276087790176e-23)"
      ]
     },
     "execution_count": 57,
     "metadata": {},
     "output_type": "execute_result"
    }
   ],
   "source": [
    "# factor 5 = Parking\n",
    "stats.pearsonr(films.Parking,films.Overall)"
   ]
  },
  {
   "cell_type": "code",
   "execution_count": 58,
   "id": "d9641c1a",
   "metadata": {},
   "outputs": [],
   "source": [
    "#pvalue=1.0840276087789895e-23 ,,which is less than 0.05,so, we can reject null hypothesis . With 95 percent confidence interval,we can say that Parking is a factor linked to satisfaction with this data."
   ]
  },
  {
   "cell_type": "code",
   "execution_count": 59,
   "id": "7460b178",
   "metadata": {},
   "outputs": [
    {
     "data": {
      "text/plain": [
       "PearsonRResult(statistic=0.35082227890709206, pvalue=5.4375500074401733e-11)"
      ]
     },
     "execution_count": 59,
     "metadata": {},
     "output_type": "execute_result"
    }
   ],
   "source": [
    "# factor 6 = Clean\n",
    "stats.pearsonr(films.Clean,films.Overall)"
   ]
  },
  {
   "cell_type": "code",
   "execution_count": 60,
   "id": "3cd5f44a",
   "metadata": {},
   "outputs": [],
   "source": [
    "#pvalue=5.437550007439627e-11 ,,which is less than 0.05,so, we can reject null hypothesis . With 95 percent confidence interval,we can say that Clean is a factor linked to satisfaction with this data."
   ]
  },
  {
   "cell_type": "code",
   "execution_count": 61,
   "id": "ee35001d",
   "metadata": {},
   "outputs": [
    {
     "data": {
      "text/plain": [
       "Age\n",
       "2.0    177\n",
       "3.0    117\n",
       "1.0     26\n",
       "4.0     10\n",
       "Name: count, dtype: int64"
      ]
     },
     "execution_count": 61,
     "metadata": {},
     "output_type": "execute_result"
    }
   ],
   "source": [
    "# factor 7 = Age\n",
    "films.Age.value_counts()"
   ]
  },
  {
   "cell_type": "code",
   "execution_count": 62,
   "id": "aa21373b",
   "metadata": {},
   "outputs": [
    {
     "name": "stdout",
     "output_type": "stream",
     "text": [
      "1.5384615384615385\n",
      "1.6779661016949152\n",
      "1.547008547008547\n",
      "1.7\n"
     ]
    }
   ],
   "source": [
    "one=films.query('Age==1').Overall\n",
    "two=films.query('Age==2').Overall\n",
    "three=films.query('Age==3').Overall\n",
    "four=films.query('Age==4').Overall\n",
    "print(one.mean())\n",
    "print(two.mean())\n",
    "print(three.mean())\n",
    "print(four.mean())"
   ]
  },
  {
   "cell_type": "code",
   "execution_count": 63,
   "id": "40813211",
   "metadata": {},
   "outputs": [
    {
     "data": {
      "text/plain": [
       "F_onewayResult(statistic=1.0249927945692117, pvalue=0.3816737451872579)"
      ]
     },
     "execution_count": 63,
     "metadata": {},
     "output_type": "execute_result"
    }
   ],
   "source": [
    "stats.f_oneway(one,two,three,four)"
   ]
  },
  {
   "cell_type": "code",
   "execution_count": 64,
   "id": "45d34aa2",
   "metadata": {},
   "outputs": [],
   "source": [
    "#pvalue=0.3816737451872579,which is greater than 0.05,so, we cannot reject null hypothesis . With 95 percent confidence interval,we cannot say that Age is a factor linked to satisfaction with this data."
   ]
  },
  {
   "cell_type": "code",
   "execution_count": 65,
   "id": "81105a16",
   "metadata": {},
   "outputs": [
    {
     "data": {
      "text/plain": [
       "Income\n",
       "1.0    158\n",
       "3.0     90\n",
       "2.0     82\n",
       "Name: count, dtype: int64"
      ]
     },
     "execution_count": 65,
     "metadata": {},
     "output_type": "execute_result"
    }
   ],
   "source": [
    "# factor 8= Income\n",
    "films.Income.value_counts()"
   ]
  },
  {
   "cell_type": "code",
   "execution_count": 66,
   "id": "7b131558",
   "metadata": {},
   "outputs": [
    {
     "data": {
      "text/plain": [
       "F_onewayResult(statistic=0.16488481054397225, pvalue=0.8480618362664597)"
      ]
     },
     "execution_count": 66,
     "metadata": {},
     "output_type": "execute_result"
    }
   ],
   "source": [
    "income1=films.query('Income==1').Overall\n",
    "income2=films.query('Income==2').Overall\n",
    "income3=films.query('Income==3').Overall\n",
    "stats.f_oneway(income1,income2,income3)"
   ]
  },
  {
   "cell_type": "code",
   "execution_count": 67,
   "id": "677cd669",
   "metadata": {},
   "outputs": [],
   "source": [
    "#pvalue=0.3816737451872579,which is greater than 0.05,so, we cannot reject null hypothesis . With 95 percent confidence interval,we cannot say that Age is a factor linked to satisfaction with this data."
   ]
  },
  {
   "cell_type": "code",
   "execution_count": 68,
   "id": "15567452",
   "metadata": {},
   "outputs": [
    {
     "data": {
      "text/plain": [
       "Hear_About\n",
       "5      233\n",
       "4       41\n",
       "1       22\n",
       "3       14\n",
       "2       12\n",
       "2,5      2\n",
       "3,4      2\n",
       "4,5      1\n",
       "1,5      1\n",
       "5,4      1\n",
       "3,5      1\n",
       "Name: count, dtype: int64"
      ]
     },
     "execution_count": 68,
     "metadata": {},
     "output_type": "execute_result"
    }
   ],
   "source": [
    "# factor 9 = Hear_About\n",
    "films.Hear_About.value_counts()"
   ]
  },
  {
   "cell_type": "code",
   "execution_count": 69,
   "id": "8b51ac76",
   "metadata": {},
   "outputs": [
    {
     "data": {
      "text/plain": [
       "F_onewayResult(statistic=1.457397539085138, pvalue=0.15433478299883888)"
      ]
     },
     "execution_count": 69,
     "metadata": {},
     "output_type": "execute_result"
    }
   ],
   "source": [
    "Hear_About_5=films.query('Hear_About==\"5\"').Overall\n",
    "Hear_About_4=films.query('Hear_About==\"4\"').Overall\n",
    "Hear_About_3=films.query('Hear_About==\"3\"').Overall\n",
    "Hear_About_2=films.query('Hear_About==\"2\"').Overall\n",
    "Hear_About_1=films.query('Hear_About==\"1\"').Overall\n",
    "Hear_About_2_5=films.query('Hear_About==\"2,5\"').Overall\n",
    "Hear_About_3_4=films.query('Hear_About==\"3,4\"').Overall\n",
    "Hear_About_4_5=films.query('Hear_About==\"4,5\"').Overall\n",
    "Hear_About_1_5=films.query('Hear_About==\"1,5\"').Overall\n",
    "Hear_About_5_4=films.query('Hear_About==\"5,4\"').Overall\n",
    "Hear_About_3_5=films.query('Hear_About==\"3,5\"').Overall\n",
    "stats.f_oneway(Hear_About_5,Hear_About_4,Hear_About_3,Hear_About_2,Hear_About_1,Hear_About_2_5,Hear_About_3_4,Hear_About_4_5,Hear_About_1_5,Hear_About_5_4,Hear_About_3_5)"
   ]
  },
  {
   "cell_type": "code",
   "execution_count": 70,
   "id": "41a37a90",
   "metadata": {},
   "outputs": [],
   "source": [
    "#pvalue=0.15433478299883888,which is greater than 0.05,so, we cannot reject null hypothesis . With 95 percent confidence interval,we cannot say that Hear_about is a factor linked to satisfaction with this data.\n",
    "\n",
    "#therefore, sinage,parking and clean are factors linked to satisfaction"
   ]
  },
  {
   "cell_type": "markdown",
   "id": "b5b19eef",
   "metadata": {},
   "source": [
    "# What is the demographic profile of Film on the Rocks patrons?"
   ]
  },
  {
   "cell_type": "code",
   "execution_count": 71,
   "id": "3ecd6104",
   "metadata": {},
   "outputs": [
    {
     "data": {
      "image/png": "[encoded data removed]",
      "text/plain": [
       "<Figure size 640x480 with 1 Axes>"
      ]
     },
     "metadata": {},
     "output_type": "display_data"
    }
   ],
   "source": [
    "sns.countplot(x='Gender',data=films)\n",
    "plt.show()"
   ]
  },
  {
   "cell_type": "code",
   "execution_count": 75,
   "id": "74909744",
   "metadata": {},
   "outputs": [
    {
     "data": {
      "image/png": "[encoded data removed]",
      "text/plain": [
       "<Figure size 640x480 with 1 Axes>"
      ]
     },
     "metadata": {},
     "output_type": "display_data"
    }
   ],
   "source": [
    "sns.countplot(x='Marital_Status',data=films)\n",
    "plt.show()"
   ]
  },
  {
   "cell_type": "code",
   "execution_count": 76,
   "id": "5cd0a253",
   "metadata": {},
   "outputs": [
    {
     "data": {
      "text/plain": [
       "<bound method DataFrame.count of   Marital_Status     count\n",
       "0         Single  69.69697\n",
       "1        Married  30.30303>"
      ]
     },
     "execution_count": 76,
     "metadata": {},
     "output_type": "execute_result"
    }
   ],
   "source": [
    "b.count"
   ]
  },
  {
   "cell_type": "code",
   "execution_count": 77,
   "id": "e03fcc17",
   "metadata": {},
   "outputs": [
    {
     "data": {
      "text/html": [
       "<div>\n",
       "<style scoped>\n",
       "    .dataframe tbody tr th:only-of-type {\n",
       "        vertical-align: middle;\n",
       "    }\n",
       "\n",
       "    .dataframe tbody tr th {\n",
       "        vertical-align: top;\n",
       "    }\n",
       "\n",
       "    .dataframe thead th {\n",
       "        text-align: right;\n",
       "    }\n",
       "</style>\n",
       "<table border=\"1\" class=\"dataframe\">\n",
       "  <thead>\n",
       "    <tr style=\"text-align: right;\">\n",
       "      <th></th>\n",
       "      <th>Age</th>\n",
       "      <th>count</th>\n",
       "    </tr>\n",
       "  </thead>\n",
       "  <tbody>\n",
       "    <tr>\n",
       "      <th>0</th>\n",
       "      <td>2.0</td>\n",
       "      <td>53.636364</td>\n",
       "    </tr>\n",
       "    <tr>\n",
       "      <th>1</th>\n",
       "      <td>3.0</td>\n",
       "      <td>35.454545</td>\n",
       "    </tr>\n",
       "    <tr>\n",
       "      <th>2</th>\n",
       "      <td>1.0</td>\n",
       "      <td>7.878788</td>\n",
       "    </tr>\n",
       "    <tr>\n",
       "      <th>3</th>\n",
       "      <td>4.0</td>\n",
       "      <td>3.030303</td>\n",
       "    </tr>\n",
       "  </tbody>\n",
       "</table>\n",
       "</div>"
      ],
      "text/plain": [
       "   Age      count\n",
       "0  2.0  53.636364\n",
       "1  3.0  35.454545\n",
       "2  1.0   7.878788\n",
       "3  4.0   3.030303"
      ]
     },
     "execution_count": 77,
     "metadata": {},
     "output_type": "execute_result"
    }
   ],
   "source": [
    "c=(((films.Age.value_counts())/(films.shape[0])*100)).reset_index()\n",
    "c"
   ]
  },
  {
   "cell_type": "code",
   "execution_count": 78,
   "id": "b6aeb932",
   "metadata": {
    "scrolled": true
   },
   "outputs": [
    {
     "data": {
      "image/png": "[encoded data removed]",
      "text/plain": [
       "<Figure size 640x480 with 1 Axes>"
      ]
     },
     "metadata": {},
     "output_type": "display_data"
    }
   ],
   "source": [
    "c=(((films.Age.value_counts())/(films.shape[0])*100)).reset_index()\n",
    "c\n",
    "#.reset_index().set_index('index')\n",
    "plt.pie(c.Age,labels=['13-30','31-60','1-12','60+'],autopct='%0.2f %%')\n",
    "plt.show()"
   ]
  },
  {
   "cell_type": "code",
   "execution_count": 79,
   "id": "43e32ae7",
   "metadata": {},
   "outputs": [
    {
     "data": {
      "image/png": "[encoded data removed]",
      "text/plain": [
       "<Figure size 640x480 with 1 Axes>"
      ]
     },
     "metadata": {},
     "output_type": "display_data"
    }
   ],
   "source": [
    "d=(((films.Income.value_counts())/(films.shape[0])*100)).reset_index()\n",
    "d\n",
    "# .reset_index().set_index('index')\n",
    "plt.pie(d.Income,labels=['Less than $50,000','$100,000+','$50-$100,000'],autopct='%0.2f %%')\n",
    "plt.show()"
   ]
  },
  {
   "cell_type": "markdown",
   "id": "37b1ea53",
   "metadata": {},
   "source": [
    "# In what media outlet(s) should the film series be advertised?"
   ]
  },
  {
   "cell_type": "code",
   "execution_count": 80,
   "id": "b28faf96",
   "metadata": {},
   "outputs": [
    {
     "data": {
      "text/plain": [
       "'5'"
      ]
     },
     "execution_count": 80,
     "metadata": {},
     "output_type": "execute_result"
    }
   ],
   "source": [
    "films.Hear_About.value_counts().reset_index().iloc[0,0]"
   ]
  },
  {
   "cell_type": "code",
   "execution_count": 81,
   "id": "b729f5d8",
   "metadata": {},
   "outputs": [],
   "source": [
    "#conclusion\n",
    "\n",
    "#5 means 'word of mouth'.the film series that should be advertised by 'word of mouth'"
   ]
  }
 ],
 "metadata": {
  "kernelspec": {
   "display_name": "Python 3 (ipykernel)",
   "language": "python",
   "name": "python3"
  },
  "language_info": {
   "codemirror_mode": {
    "name": "ipython",
    "version": 3
   },
   "file_extension": ".py",
   "mimetype": "text/x-python",
   "name": "python",
   "nbconvert_exporter": "python",
   "pygments_lexer": "ipython3",
   "version": "3.11.5"
  }
 },
 "nbformat": 4,
 "nbformat_minor": 5
}
