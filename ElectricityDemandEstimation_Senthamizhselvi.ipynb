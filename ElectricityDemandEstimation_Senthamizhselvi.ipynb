{
 "cells": [
  {
   "cell_type": "code",
   "execution_count": 97,
   "id": "e1a9e23b",
   "metadata": {},
   "outputs": [],
   "source": [
    "import pandas as pd\n",
    "import numpy as np\n",
    "import matplotlib.pyplot as plt\n",
    "import seaborn as sns\n",
    "import scipy.stats as stats\n",
    "\n",
    "%matplotlib inline"
   ]
  },
  {
   "cell_type": "code",
   "execution_count": 98,
   "id": "4b962eb0",
   "metadata": {},
   "outputs": [
    {
     "name": "stdout",
     "output_type": "stream",
     "text": [
      "Requirement already satisfied: pmdarima in c:\\users\\dell\\anaconda3\\lib\\site-packages (2.0.4)\n",
      "Requirement already satisfied: joblib>=0.11 in c:\\users\\dell\\anaconda3\\lib\\site-packages (from pmdarima) (1.1.1)\n",
      "Requirement already satisfied: Cython!=0.29.18,!=0.29.31,>=0.29 in c:\\users\\dell\\anaconda3\\lib\\site-packages (from pmdarima) (3.0.11)\n",
      "Requirement already satisfied: numpy>=1.21.2 in c:\\users\\dell\\anaconda3\\lib\\site-packages (from pmdarima) (1.24.3)\n",
      "Requirement already satisfied: pandas>=0.19 in c:\\users\\dell\\anaconda3\\lib\\site-packages (from pmdarima) (2.0.3)\n",
      "Requirement already satisfied: scikit-learn>=0.22 in c:\\users\\dell\\anaconda3\\lib\\site-packages (from pmdarima) (1.3.0)\n",
      "Requirement already satisfied: scipy>=1.3.2 in c:\\users\\dell\\anaconda3\\lib\\site-packages (from pmdarima) (1.11.1)\n",
      "Requirement already satisfied: statsmodels>=0.13.2 in c:\\users\\dell\\anaconda3\\lib\\site-packages (from pmdarima) (0.14.0)\n",
      "Requirement already satisfied: urllib3 in c:\\users\\dell\\anaconda3\\lib\\site-packages (from pmdarima) (1.26.16)\n",
      "Requirement already satisfied: setuptools!=50.0.0,>=38.6.0 in c:\\users\\dell\\anaconda3\\lib\\site-packages (from pmdarima) (68.0.0)\n",
      "Requirement already satisfied: packaging>=17.1 in c:\\users\\dell\\anaconda3\\lib\\site-packages (from pmdarima) (23.1)\n",
      "Requirement already satisfied: python-dateutil>=2.8.2 in c:\\users\\dell\\anaconda3\\lib\\site-packages (from pandas>=0.19->pmdarima) (2.8.2)\n",
      "Requirement already satisfied: pytz>=2020.1 in c:\\users\\dell\\anaconda3\\lib\\site-packages (from pandas>=0.19->pmdarima) (2023.3.post1)\n",
      "Requirement already satisfied: tzdata>=2022.1 in c:\\users\\dell\\anaconda3\\lib\\site-packages (from pandas>=0.19->pmdarima) (2023.3)\n",
      "Requirement already satisfied: threadpoolctl>=2.0.0 in c:\\users\\dell\\anaconda3\\lib\\site-packages (from scikit-learn>=0.22->pmdarima) (2.2.0)\n",
      "Requirement already satisfied: patsy>=0.5.2 in c:\\users\\dell\\anaconda3\\lib\\site-packages (from statsmodels>=0.13.2->pmdarima) (0.5.3)\n",
      "Requirement already satisfied: six in c:\\users\\dell\\anaconda3\\lib\\site-packages (from patsy>=0.5.2->statsmodels>=0.13.2->pmdarima) (1.16.0)\n"
     ]
    }
   ],
   "source": [
    "# Installing packages\n",
    "!pip install pmdarima"
   ]
  },
  {
   "cell_type": "code",
   "execution_count": 99,
   "id": "f68651c9",
   "metadata": {},
   "outputs": [],
   "source": [
    "import statsmodels.api as sm\n",
    "import statsmodels.tsa.api as smt\n",
    "import statsmodels.formula.api as smf\n",
    "from sklearn.model_selection import train_test_split\n",
    "from sklearn.utils import resample\n",
    "from statsmodels.tsa.stattools import adfuller\n",
    "from statsmodels.tsa.holtwinters import ExponentialSmoothing\n",
    "from statsmodels.tsa.arima.model import ARIMA\n",
    "from pmdarima import auto_arima\n",
    "from sklearn.metrics import r2_score, mean_squared_error, mean_absolute_percentage_error\n",
    "import itertools"
   ]
  },
  {
   "cell_type": "code",
   "execution_count": 100,
   "id": "00caf88b",
   "metadata": {},
   "outputs": [],
   "source": [
    "data=pd.read_csv(\"..//input_data/Electricity Consumption.csv\")"
   ]
  },
  {
   "cell_type": "code",
   "execution_count": 101,
   "id": "515b03f9",
   "metadata": {},
   "outputs": [
    {
     "data": {
      "text/plain": [
       "<bound method NDFrame.head of          DATE  Electricty_Consumption_in_TW\n",
       "0    1/1/1973                       35.9728\n",
       "1    2/1/1973                       36.1334\n",
       "2    3/1/1973                       35.0625\n",
       "3    4/1/1973                       33.8416\n",
       "4    5/1/1973                       33.5107\n",
       "..        ...                           ...\n",
       "556  5/1/2019                       97.5860\n",
       "557  6/1/2019                      110.8580\n",
       "558  7/1/2019                      122.1014\n",
       "559  8/1/2019                      121.7765\n",
       "560  9/1/2019                      109.7190\n",
       "\n",
       "[561 rows x 2 columns]>"
      ]
     },
     "execution_count": 101,
     "metadata": {},
     "output_type": "execute_result"
    }
   ],
   "source": [
    "data.head"
   ]
  },
  {
   "cell_type": "code",
   "execution_count": 102,
   "id": "6fbc1d7c",
   "metadata": {},
   "outputs": [
    {
     "data": {
      "text/plain": [
       "<bound method DataFrame.info of          DATE  Electricty_Consumption_in_TW\n",
       "0    1/1/1973                       35.9728\n",
       "1    2/1/1973                       36.1334\n",
       "2    3/1/1973                       35.0625\n",
       "3    4/1/1973                       33.8416\n",
       "4    5/1/1973                       33.5107\n",
       "..        ...                           ...\n",
       "556  5/1/2019                       97.5860\n",
       "557  6/1/2019                      110.8580\n",
       "558  7/1/2019                      122.1014\n",
       "559  8/1/2019                      121.7765\n",
       "560  9/1/2019                      109.7190\n",
       "\n",
       "[561 rows x 2 columns]>"
      ]
     },
     "execution_count": 102,
     "metadata": {},
     "output_type": "execute_result"
    }
   ],
   "source": [
    "data.info"
   ]
  },
  {
   "cell_type": "code",
   "execution_count": 103,
   "id": "dbf6a613",
   "metadata": {},
   "outputs": [
    {
     "data": {
      "text/plain": [
       "Index(['DATE', 'Electricty_Consumption_in_TW'], dtype='object')"
      ]
     },
     "execution_count": 103,
     "metadata": {},
     "output_type": "execute_result"
    }
   ],
   "source": [
    "data.columns"
   ]
  },
  {
   "cell_type": "code",
   "execution_count": 104,
   "id": "13b5b325",
   "metadata": {},
   "outputs": [],
   "source": [
    "data['DATE'] = pd.to_datetime(data['DATE'])"
   ]
  },
  {
   "cell_type": "code",
   "execution_count": 105,
   "id": "708856df",
   "metadata": {},
   "outputs": [
    {
     "data": {
      "text/html": [
       "<div>\n",
       "<style scoped>\n",
       "    .dataframe tbody tr th:only-of-type {\n",
       "        vertical-align: middle;\n",
       "    }\n",
       "\n",
       "    .dataframe tbody tr th {\n",
       "        vertical-align: top;\n",
       "    }\n",
       "\n",
       "    .dataframe thead th {\n",
       "        text-align: right;\n",
       "    }\n",
       "</style>\n",
       "<table border=\"1\" class=\"dataframe\">\n",
       "  <thead>\n",
       "    <tr style=\"text-align: right;\">\n",
       "      <th></th>\n",
       "      <th>Electricty_Consumption_in_TW</th>\n",
       "    </tr>\n",
       "    <tr>\n",
       "      <th>DATE</th>\n",
       "      <th></th>\n",
       "    </tr>\n",
       "  </thead>\n",
       "  <tbody>\n",
       "    <tr>\n",
       "      <th>1973-01-01</th>\n",
       "      <td>35.9728</td>\n",
       "    </tr>\n",
       "    <tr>\n",
       "      <th>1973-02-01</th>\n",
       "      <td>36.1334</td>\n",
       "    </tr>\n",
       "    <tr>\n",
       "      <th>1973-03-01</th>\n",
       "      <td>35.0625</td>\n",
       "    </tr>\n",
       "    <tr>\n",
       "      <th>1973-04-01</th>\n",
       "      <td>33.8416</td>\n",
       "    </tr>\n",
       "    <tr>\n",
       "      <th>1973-05-01</th>\n",
       "      <td>33.5107</td>\n",
       "    </tr>\n",
       "    <tr>\n",
       "      <th>...</th>\n",
       "      <td>...</td>\n",
       "    </tr>\n",
       "    <tr>\n",
       "      <th>2019-05-01</th>\n",
       "      <td>97.5860</td>\n",
       "    </tr>\n",
       "    <tr>\n",
       "      <th>2019-06-01</th>\n",
       "      <td>110.8580</td>\n",
       "    </tr>\n",
       "    <tr>\n",
       "      <th>2019-07-01</th>\n",
       "      <td>122.1014</td>\n",
       "    </tr>\n",
       "    <tr>\n",
       "      <th>2019-08-01</th>\n",
       "      <td>121.7765</td>\n",
       "    </tr>\n",
       "    <tr>\n",
       "      <th>2019-09-01</th>\n",
       "      <td>109.7190</td>\n",
       "    </tr>\n",
       "  </tbody>\n",
       "</table>\n",
       "<p>561 rows × 1 columns</p>\n",
       "</div>"
      ],
      "text/plain": [
       "            Electricty_Consumption_in_TW\n",
       "DATE                                    \n",
       "1973-01-01                       35.9728\n",
       "1973-02-01                       36.1334\n",
       "1973-03-01                       35.0625\n",
       "1973-04-01                       33.8416\n",
       "1973-05-01                       33.5107\n",
       "...                                  ...\n",
       "2019-05-01                       97.5860\n",
       "2019-06-01                      110.8580\n",
       "2019-07-01                      122.1014\n",
       "2019-08-01                      121.7765\n",
       "2019-09-01                      109.7190\n",
       "\n",
       "[561 rows x 1 columns]"
      ]
     },
     "execution_count": 105,
     "metadata": {},
     "output_type": "execute_result"
    }
   ],
   "source": [
    "# Transform \"DATA\" column into index\n",
    "data.set_index('DATE', inplace=True)\n",
    "data"
   ]
  },
  {
   "cell_type": "code",
   "execution_count": 106,
   "id": "65f70b7a",
   "metadata": {},
   "outputs": [
    {
     "data": {
      "image/png": "[encoded data removed]",
      "text/plain": [
       "<Figure size 1000x600 with 1 Axes>"
      ]
     },
     "metadata": {},
     "output_type": "display_data"
    }
   ],
   "source": [
    "# View the data\n",
    "plt.figure(figsize=(10, 6))\n",
    "plt.plot(data, label='Monthly Average Electricity Consumption (TW)')\n",
    "plt.title('Monthly Average Electricity Consumption')\n",
    "plt.xlabel('Date')\n",
    "plt.ylabel('Consumption in Trillion Watts')\n",
    "plt.legend()\n",
    "plt.show()"
   ]
  },
  {
   "cell_type": "markdown",
   "id": "08305239",
   "metadata": {},
   "source": [
    "#  Monthly Average Electricity Consumption\n",
    "The graph illustrates the monthly average electricity consumption over a span of several decades, from the 1970s to around 2020. Here are the key components and insights from the graph:\n",
    "Key Components:\n",
    "\n",
    "X-axis (Date):\n",
    "\n",
    "The x-axis represents the timeline from the 1970s to around 2020.\n",
    "Each point on the x-axis corresponds to a month within this time frame.\n",
    "\n",
    "Y-axis (Consumption in Trillion Watts):\n",
    "\n",
    "The y-axis measures the monthly average electricity consumption in trillion watts (TW).\n",
    "The values range from approximately 40 TW to over 120 TW.\n",
    "\n",
    "Line Plot:\n",
    "\n",
    "The blue line represents the monthly average electricity consumption.\n",
    "The line shows the trend and seasonal patterns in electricity consumption over time.\n",
    "\n",
    "Observations:\n",
    "\n",
    "Overall Trend:\n",
    "\n",
    "There is a clear upward trend in electricity consumption from the 1970s to 2020.\n",
    "This indicates a general increase in electricity usage over the decades, likely due to population growth, industrialization, and increased use of electronic devices.\n",
    "\n",
    "Seasonal Variation:\n",
    "\n",
    "The graph exhibits regular fluctuations within each year, indicating seasonal variation in electricity consumption.\n",
    "Peaks and troughs can be observed, which may correspond to higher consumption during winter and summer months due to heating and cooling needs.\n",
    "\n",
    "Significant Events:\n",
    "\n",
    "There are some noticeable spikes and drops that deviate from the overall trend.\n",
    "These could be due to significant events such as economic crises, policy changes, or extraordinary weather conditions affecting electricity consumption.\n",
    "\n",
    "Summary:\n",
    "\n",
    "This graph provides a comprehensive view of the historical patterns in monthly average electricity consumption. It highlights the overall increase in consumption over the years, as well as the consistent seasonal variations. Understanding these patterns is crucial for energy planning, policy-making, and forecasting future electricity demand.\n"
   ]
  },
  {
   "cell_type": "markdown",
   "id": "033669c4",
   "metadata": {},
   "source": [
    "### Outlier Treatment"
   ]
  },
  {
   "cell_type": "code",
   "execution_count": 107,
   "id": "26adee1c",
   "metadata": {},
   "outputs": [
    {
     "data": {
      "text/plain": [
       "<Axes: >"
      ]
     },
     "execution_count": 107,
     "metadata": {},
     "output_type": "execute_result"
    },
    {
     "data": {
      "image/png": "[encoded data removed]",
      "text/plain": [
       "<Figure size 2000x600 with 1 Axes>"
      ]
     },
     "metadata": {},
     "output_type": "display_data"
    }
   ],
   "source": [
    "plt.figure(figsize=(20,6))\n",
    "data.pivot_table(values = 'Electricty_Consumption_in_TW',\n",
    "                 columns = data.index.month, \n",
    "                 index = data.index.year).boxplot()"
   ]
  },
  {
   "cell_type": "markdown",
   "id": "90f835ac",
   "metadata": {},
   "source": [
    "### Decomposition"
   ]
  },
  {
   "cell_type": "code",
   "execution_count": 108,
   "id": "6ac54918",
   "metadata": {},
   "outputs": [
    {
     "name": "stdout",
     "output_type": "stream",
     "text": [
      "<class 'pandas.core.frame.DataFrame'>\n",
      "DatetimeIndex: 561 entries, 1973-01-01 to 2019-09-01\n",
      "Data columns (total 1 columns):\n",
      " #   Column                        Non-Null Count  Dtype  \n",
      "---  ------                        --------------  -----  \n",
      " 0   Electricty_Consumption_in_TW  561 non-null    float64\n",
      "dtypes: float64(1)\n",
      "memory usage: 8.8 KB\n"
     ]
    }
   ],
   "source": [
    "data.info()"
   ]
  },
  {
   "cell_type": "markdown",
   "id": "5462f0a4",
   "metadata": {},
   "source": [
    "### Splitting data into Train and Test"
   ]
  },
  {
   "cell_type": "code",
   "execution_count": 109,
   "id": "b8e5c8da",
   "metadata": {},
   "outputs": [],
   "source": [
    "train=data[:393]"
   ]
  },
  {
   "cell_type": "code",
   "execution_count": 110,
   "id": "90d9dfad",
   "metadata": {},
   "outputs": [],
   "source": [
    "decompose = sm.tsa.seasonal_decompose(train, model='multiplicative',\n",
    "                                     two_sided=False, extrapolate_trend=4)"
   ]
  },
  {
   "cell_type": "code",
   "execution_count": 111,
   "id": "4b4f4fc9",
   "metadata": {},
   "outputs": [
    {
     "data": {
      "image/png": "[encoded data removed]",
      "text/plain": [
       "<Figure size 640x480 with 4 Axes>"
      ]
     },
     "metadata": {},
     "output_type": "display_data"
    }
   ],
   "source": [
    "decompose.plot();"
   ]
  },
  {
   "cell_type": "code",
   "execution_count": 112,
   "id": "e27eb85d",
   "metadata": {},
   "outputs": [
    {
     "data": {
      "text/html": [
       "<div>\n",
       "<style scoped>\n",
       "    .dataframe tbody tr th:only-of-type {\n",
       "        vertical-align: middle;\n",
       "    }\n",
       "\n",
       "    .dataframe tbody tr th {\n",
       "        vertical-align: top;\n",
       "    }\n",
       "\n",
       "    .dataframe thead th {\n",
       "        text-align: right;\n",
       "    }\n",
       "</style>\n",
       "<table border=\"1\" class=\"dataframe\">\n",
       "  <thead>\n",
       "    <tr style=\"text-align: right;\">\n",
       "      <th></th>\n",
       "      <th>observed</th>\n",
       "      <th>Trend</th>\n",
       "      <th>Seasonal</th>\n",
       "      <th>Irregular</th>\n",
       "      <th>Recalculated_Demand</th>\n",
       "    </tr>\n",
       "    <tr>\n",
       "      <th>DATE</th>\n",
       "      <th></th>\n",
       "      <th></th>\n",
       "      <th></th>\n",
       "      <th></th>\n",
       "      <th></th>\n",
       "    </tr>\n",
       "  </thead>\n",
       "  <tbody>\n",
       "    <tr>\n",
       "      <th>1973-01-01</th>\n",
       "      <td>35.9728</td>\n",
       "      <td>34.092018</td>\n",
       "      <td>1.058014</td>\n",
       "      <td>0.997310</td>\n",
       "      <td>35.9728</td>\n",
       "    </tr>\n",
       "    <tr>\n",
       "      <th>1973-02-01</th>\n",
       "      <td>36.1334</td>\n",
       "      <td>34.357224</td>\n",
       "      <td>1.005567</td>\n",
       "      <td>1.045874</td>\n",
       "      <td>36.1334</td>\n",
       "    </tr>\n",
       "    <tr>\n",
       "      <th>1973-03-01</th>\n",
       "      <td>35.0625</td>\n",
       "      <td>34.622430</td>\n",
       "      <td>0.953498</td>\n",
       "      <td>1.062100</td>\n",
       "      <td>35.0625</td>\n",
       "    </tr>\n",
       "    <tr>\n",
       "      <th>1973-04-01</th>\n",
       "      <td>33.8416</td>\n",
       "      <td>34.887636</td>\n",
       "      <td>0.900317</td>\n",
       "      <td>1.077417</td>\n",
       "      <td>33.8416</td>\n",
       "    </tr>\n",
       "    <tr>\n",
       "      <th>1973-05-01</th>\n",
       "      <td>33.5107</td>\n",
       "      <td>35.152842</td>\n",
       "      <td>0.916865</td>\n",
       "      <td>1.039723</td>\n",
       "      <td>33.5107</td>\n",
       "    </tr>\n",
       "    <tr>\n",
       "      <th>...</th>\n",
       "      <td>...</td>\n",
       "      <td>...</td>\n",
       "      <td>...</td>\n",
       "      <td>...</td>\n",
       "      <td>...</td>\n",
       "    </tr>\n",
       "    <tr>\n",
       "      <th>2005-05-01</th>\n",
       "      <td>91.8307</td>\n",
       "      <td>95.340454</td>\n",
       "      <td>0.916865</td>\n",
       "      <td>1.050522</td>\n",
       "      <td>91.8307</td>\n",
       "    </tr>\n",
       "    <tr>\n",
       "      <th>2005-06-01</th>\n",
       "      <td>101.3472</td>\n",
       "      <td>95.769579</td>\n",
       "      <td>1.016946</td>\n",
       "      <td>1.040606</td>\n",
       "      <td>101.3472</td>\n",
       "    </tr>\n",
       "    <tr>\n",
       "      <th>2005-07-01</th>\n",
       "      <td>108.6568</td>\n",
       "      <td>96.038425</td>\n",
       "      <td>1.109943</td>\n",
       "      <td>1.019321</td>\n",
       "      <td>108.6568</td>\n",
       "    </tr>\n",
       "    <tr>\n",
       "      <th>2005-08-01</th>\n",
       "      <td>106.9236</td>\n",
       "      <td>95.913775</td>\n",
       "      <td>1.125136</td>\n",
       "      <td>0.990803</td>\n",
       "      <td>106.9236</td>\n",
       "    </tr>\n",
       "    <tr>\n",
       "      <th>2005-09-01</th>\n",
       "      <td>100.0361</td>\n",
       "      <td>95.851867</td>\n",
       "      <td>1.038663</td>\n",
       "      <td>1.004804</td>\n",
       "      <td>100.0361</td>\n",
       "    </tr>\n",
       "  </tbody>\n",
       "</table>\n",
       "<p>393 rows × 5 columns</p>\n",
       "</div>"
      ],
      "text/plain": [
       "            observed      Trend  Seasonal  Irregular  Recalculated_Demand\n",
       "DATE                                                                     \n",
       "1973-01-01   35.9728  34.092018  1.058014   0.997310              35.9728\n",
       "1973-02-01   36.1334  34.357224  1.005567   1.045874              36.1334\n",
       "1973-03-01   35.0625  34.622430  0.953498   1.062100              35.0625\n",
       "1973-04-01   33.8416  34.887636  0.900317   1.077417              33.8416\n",
       "1973-05-01   33.5107  35.152842  0.916865   1.039723              33.5107\n",
       "...              ...        ...       ...        ...                  ...\n",
       "2005-05-01   91.8307  95.340454  0.916865   1.050522              91.8307\n",
       "2005-06-01  101.3472  95.769579  1.016946   1.040606             101.3472\n",
       "2005-07-01  108.6568  96.038425  1.109943   1.019321             108.6568\n",
       "2005-08-01  106.9236  95.913775  1.125136   0.990803             106.9236\n",
       "2005-09-01  100.0361  95.851867  1.038663   1.004804             100.0361\n",
       "\n",
       "[393 rows x 5 columns]"
      ]
     },
     "execution_count": 112,
     "metadata": {},
     "output_type": "execute_result"
    }
   ],
   "source": [
    "decompose_output1 = pd.DataFrame(pd.concat([decompose.observed,decompose.trend,decompose.seasonal,decompose.resid],axis=1))\n",
    "decompose_output1.columns=['observed','Trend','Seasonal','Irregular']\n",
    "decompose_output1['Recalculated_Demand'] = decompose_output1.Trend*decompose_output1.Seasonal*decompose_output1.Irregular\n",
    "decompose_output1"
   ]
  },
  {
   "cell_type": "code",
   "execution_count": 113,
   "id": "b95642c5",
   "metadata": {},
   "outputs": [],
   "source": [
    "decompose_output1['Time_Index']=pd.Series(np.array( range( 1, 394, 1 ) )).values"
   ]
  },
  {
   "cell_type": "code",
   "execution_count": 114,
   "id": "5c5f8ea0",
   "metadata": {},
   "outputs": [
    {
     "data": {
      "text/html": [
       "<div>\n",
       "<style scoped>\n",
       "    .dataframe tbody tr th:only-of-type {\n",
       "        vertical-align: middle;\n",
       "    }\n",
       "\n",
       "    .dataframe tbody tr th {\n",
       "        vertical-align: top;\n",
       "    }\n",
       "\n",
       "    .dataframe thead th {\n",
       "        text-align: right;\n",
       "    }\n",
       "</style>\n",
       "<table border=\"1\" class=\"dataframe\">\n",
       "  <thead>\n",
       "    <tr style=\"text-align: right;\">\n",
       "      <th></th>\n",
       "      <th>observed</th>\n",
       "      <th>Trend</th>\n",
       "      <th>Seasonal</th>\n",
       "      <th>Irregular</th>\n",
       "      <th>Recalculated_Demand</th>\n",
       "      <th>Time_Index</th>\n",
       "    </tr>\n",
       "    <tr>\n",
       "      <th>DATE</th>\n",
       "      <th></th>\n",
       "      <th></th>\n",
       "      <th></th>\n",
       "      <th></th>\n",
       "      <th></th>\n",
       "      <th></th>\n",
       "    </tr>\n",
       "  </thead>\n",
       "  <tbody>\n",
       "    <tr>\n",
       "      <th>1973-01-01</th>\n",
       "      <td>35.9728</td>\n",
       "      <td>34.092018</td>\n",
       "      <td>1.058014</td>\n",
       "      <td>0.997310</td>\n",
       "      <td>35.9728</td>\n",
       "      <td>1</td>\n",
       "    </tr>\n",
       "    <tr>\n",
       "      <th>1973-02-01</th>\n",
       "      <td>36.1334</td>\n",
       "      <td>34.357224</td>\n",
       "      <td>1.005567</td>\n",
       "      <td>1.045874</td>\n",
       "      <td>36.1334</td>\n",
       "      <td>2</td>\n",
       "    </tr>\n",
       "  </tbody>\n",
       "</table>\n",
       "</div>"
      ],
      "text/plain": [
       "            observed      Trend  Seasonal  Irregular  Recalculated_Demand  \\\n",
       "DATE                                                                        \n",
       "1973-01-01   35.9728  34.092018  1.058014   0.997310              35.9728   \n",
       "1973-02-01   36.1334  34.357224  1.005567   1.045874              36.1334   \n",
       "\n",
       "            Time_Index  \n",
       "DATE                    \n",
       "1973-01-01           1  \n",
       "1973-02-01           2  "
      ]
     },
     "execution_count": 114,
     "metadata": {},
     "output_type": "execute_result"
    }
   ],
   "source": [
    "decompose_output1.head(2)"
   ]
  },
  {
   "cell_type": "code",
   "execution_count": 115,
   "id": "77f55f60",
   "metadata": {},
   "outputs": [
    {
     "data": {
      "text/plain": [
       "<Axes: xlabel='Time_Index'>"
      ]
     },
     "execution_count": 115,
     "metadata": {},
     "output_type": "execute_result"
    },
    {
     "data": {
      "image/png": "[encoded data removed]",
      "text/plain": [
       "<Figure size 640x480 with 1 Axes>"
      ]
     },
     "metadata": {},
     "output_type": "display_data"
    }
   ],
   "source": [
    "decompose_output1.plot(y='Trend',x='Time_Index')"
   ]
  },
  {
   "cell_type": "code",
   "execution_count": 116,
   "id": "dab8fa32",
   "metadata": {},
   "outputs": [],
   "source": [
    "d = np.polyfit(decompose_output1['Time_Index'],decompose_output1['Trend'],1)\n",
    "f = np.poly1d(d)"
   ]
  },
  {
   "cell_type": "code",
   "execution_count": 117,
   "id": "510f35d9",
   "metadata": {},
   "outputs": [],
   "source": [
    "from sympy import Symbol,expand"
   ]
  },
  {
   "cell_type": "code",
   "execution_count": 118,
   "id": "6887c83f",
   "metadata": {},
   "outputs": [
    {
     "name": "stdout",
     "output_type": "stream",
     "text": [
      "0.153134336726621*x + 35.1375537331338\n"
     ]
    }
   ],
   "source": [
    "x=Symbol('x')\n",
    "print(expand(f(x)))"
   ]
  },
  {
   "cell_type": "code",
   "execution_count": 119,
   "id": "d689a999",
   "metadata": {},
   "outputs": [
    {
     "data": {
      "text/plain": [
       "1.0157377837767632"
      ]
     },
     "execution_count": 119,
     "metadata": {},
     "output_type": "execute_result"
    }
   ],
   "source": [
    "decompose_output1.Irregular.mean()"
   ]
  },
  {
   "cell_type": "code",
   "execution_count": 120,
   "id": "3fba83a2",
   "metadata": {},
   "outputs": [],
   "source": [
    "test=data[-168:]"
   ]
  },
  {
   "cell_type": "code",
   "execution_count": 121,
   "id": "b0751ef4",
   "metadata": {},
   "outputs": [],
   "source": [
    "decompose_output2=pd.DataFrame()"
   ]
  },
  {
   "cell_type": "code",
   "execution_count": 122,
   "id": "952e2936",
   "metadata": {},
   "outputs": [],
   "source": [
    "decompose_output2.index=test.index"
   ]
  },
  {
   "cell_type": "code",
   "execution_count": 123,
   "id": "6486af44",
   "metadata": {},
   "outputs": [],
   "source": [
    "decompose_output2['Seasonal']=decompose_output1.Seasonal[9:177].values"
   ]
  },
  {
   "cell_type": "code",
   "execution_count": 124,
   "id": "8fe7da02",
   "metadata": {},
   "outputs": [],
   "source": [
    "decompose_output2['Time_Index']=pd.Series(np.array( range( 394, 562, 1 ) )).values"
   ]
  },
  {
   "cell_type": "code",
   "execution_count": 125,
   "id": "4ca5f3bc",
   "metadata": {},
   "outputs": [],
   "source": [
    "decompose_output2['Trend']=(0.153134336726621*(decompose_output2.Time_Index) + 35.1375537331338)"
   ]
  },
  {
   "cell_type": "code",
   "execution_count": 126,
   "id": "c1d1797b",
   "metadata": {},
   "outputs": [],
   "source": [
    "decompose_output2['Irregular']=decompose_output1.Irregular.mean()"
   ]
  },
  {
   "cell_type": "code",
   "execution_count": 127,
   "id": "27f3dfc7",
   "metadata": {},
   "outputs": [
    {
     "data": {
      "text/html": [
       "<div>\n",
       "<style scoped>\n",
       "    .dataframe tbody tr th:only-of-type {\n",
       "        vertical-align: middle;\n",
       "    }\n",
       "\n",
       "    .dataframe tbody tr th {\n",
       "        vertical-align: top;\n",
       "    }\n",
       "\n",
       "    .dataframe thead th {\n",
       "        text-align: right;\n",
       "    }\n",
       "</style>\n",
       "<table border=\"1\" class=\"dataframe\">\n",
       "  <thead>\n",
       "    <tr style=\"text-align: right;\">\n",
       "      <th></th>\n",
       "      <th>Seasonal</th>\n",
       "      <th>Time_Index</th>\n",
       "      <th>Trend</th>\n",
       "      <th>Irregular</th>\n",
       "      <th>Test_Pred</th>\n",
       "    </tr>\n",
       "    <tr>\n",
       "      <th>DATE</th>\n",
       "      <th></th>\n",
       "      <th></th>\n",
       "      <th></th>\n",
       "      <th></th>\n",
       "      <th></th>\n",
       "    </tr>\n",
       "  </thead>\n",
       "  <tbody>\n",
       "    <tr>\n",
       "      <th>2005-10-01</th>\n",
       "      <td>0.941739</td>\n",
       "      <td>394</td>\n",
       "      <td>95.472482</td>\n",
       "      <td>1.015738</td>\n",
       "      <td>91.325127</td>\n",
       "    </tr>\n",
       "    <tr>\n",
       "      <th>2005-11-01</th>\n",
       "      <td>0.932422</td>\n",
       "      <td>395</td>\n",
       "      <td>95.625617</td>\n",
       "      <td>1.015738</td>\n",
       "      <td>90.566704</td>\n",
       "    </tr>\n",
       "    <tr>\n",
       "      <th>2005-12-01</th>\n",
       "      <td>1.000887</td>\n",
       "      <td>396</td>\n",
       "      <td>95.778751</td>\n",
       "      <td>1.015738</td>\n",
       "      <td>97.372429</td>\n",
       "    </tr>\n",
       "    <tr>\n",
       "      <th>2006-01-01</th>\n",
       "      <td>1.058014</td>\n",
       "      <td>397</td>\n",
       "      <td>95.931885</td>\n",
       "      <td>1.015738</td>\n",
       "      <td>103.094624</td>\n",
       "    </tr>\n",
       "    <tr>\n",
       "      <th>2006-02-01</th>\n",
       "      <td>1.005567</td>\n",
       "      <td>398</td>\n",
       "      <td>96.085020</td>\n",
       "      <td>1.015738</td>\n",
       "      <td>98.140550</td>\n",
       "    </tr>\n",
       "    <tr>\n",
       "      <th>...</th>\n",
       "      <td>...</td>\n",
       "      <td>...</td>\n",
       "      <td>...</td>\n",
       "      <td>...</td>\n",
       "      <td>...</td>\n",
       "    </tr>\n",
       "    <tr>\n",
       "      <th>2019-05-01</th>\n",
       "      <td>0.916865</td>\n",
       "      <td>557</td>\n",
       "      <td>120.433379</td>\n",
       "      <td>1.015738</td>\n",
       "      <td>112.158951</td>\n",
       "    </tr>\n",
       "    <tr>\n",
       "      <th>2019-06-01</th>\n",
       "      <td>1.016946</td>\n",
       "      <td>558</td>\n",
       "      <td>120.586514</td>\n",
       "      <td>1.015738</td>\n",
       "      <td>124.559858</td>\n",
       "    </tr>\n",
       "    <tr>\n",
       "      <th>2019-07-01</th>\n",
       "      <td>1.109943</td>\n",
       "      <td>559</td>\n",
       "      <td>120.739648</td>\n",
       "      <td>1.015738</td>\n",
       "      <td>136.123262</td>\n",
       "    </tr>\n",
       "    <tr>\n",
       "      <th>2019-08-01</th>\n",
       "      <td>1.125136</td>\n",
       "      <td>560</td>\n",
       "      <td>120.892782</td>\n",
       "      <td>1.015738</td>\n",
       "      <td>138.161547</td>\n",
       "    </tr>\n",
       "    <tr>\n",
       "      <th>2019-09-01</th>\n",
       "      <td>1.038663</td>\n",
       "      <td>561</td>\n",
       "      <td>121.045917</td>\n",
       "      <td>1.015738</td>\n",
       "      <td>127.704619</td>\n",
       "    </tr>\n",
       "  </tbody>\n",
       "</table>\n",
       "<p>168 rows × 5 columns</p>\n",
       "</div>"
      ],
      "text/plain": [
       "            Seasonal  Time_Index       Trend  Irregular   Test_Pred\n",
       "DATE                                                               \n",
       "2005-10-01  0.941739         394   95.472482   1.015738   91.325127\n",
       "2005-11-01  0.932422         395   95.625617   1.015738   90.566704\n",
       "2005-12-01  1.000887         396   95.778751   1.015738   97.372429\n",
       "2006-01-01  1.058014         397   95.931885   1.015738  103.094624\n",
       "2006-02-01  1.005567         398   96.085020   1.015738   98.140550\n",
       "...              ...         ...         ...        ...         ...\n",
       "2019-05-01  0.916865         557  120.433379   1.015738  112.158951\n",
       "2019-06-01  1.016946         558  120.586514   1.015738  124.559858\n",
       "2019-07-01  1.109943         559  120.739648   1.015738  136.123262\n",
       "2019-08-01  1.125136         560  120.892782   1.015738  138.161547\n",
       "2019-09-01  1.038663         561  121.045917   1.015738  127.704619\n",
       "\n",
       "[168 rows x 5 columns]"
      ]
     },
     "execution_count": 127,
     "metadata": {},
     "output_type": "execute_result"
    }
   ],
   "source": [
    "decompose_output2['Test_Pred']=(decompose_output2.Seasonal*decompose_output2.Trend*decompose_output2.Irregular)\n",
    "decompose_output2"
   ]
  },
  {
   "cell_type": "markdown",
   "id": "c48d13c7",
   "metadata": {},
   "source": [
    "### Evaluation"
   ]
  },
  {
   "cell_type": "code",
   "execution_count": 128,
   "id": "44d2704a",
   "metadata": {},
   "outputs": [
    {
     "name": "stdout",
     "output_type": "stream",
     "text": [
      "RMSE of training data:  0.0  |  RMSE of testing data:  11.76\n",
      "RMSPE of training data:  0.0  |  RMSPE of testing data:  0.12\n",
      "MAPE of training data:  0.0  |  MAPE of testing data:  0.1\n"
     ]
    }
   ],
   "source": [
    "RMSE_train = round(np.sqrt( mean_squared_error( decompose_output1.observed, decompose_output1.Recalculated_Demand )),2)\n",
    "RMSE_test = round(np.sqrt( mean_squared_error( test.Electricty_Consumption_in_TW, decompose_output2.Test_Pred )),2)\n",
    "\n",
    "RMSPE_train = round(np.sqrt( np.mean(np.square(((decompose_output1.observed - decompose_output1.Recalculated_Demand) / decompose_output1.observed)), axis=0)),2)\n",
    "RMSPE_test = round(np.sqrt( np.mean(np.square(((test.Electricty_Consumption_in_TW - decompose_output2.Test_Pred) / test.Electricty_Consumption_in_TW)), axis=0)),2)\n",
    "\n",
    "MAPE_train = round(mean_absolute_percentage_error( decompose_output1.observed, decompose_output1.Recalculated_Demand ), 2)\n",
    "MAPE_test = round(mean_absolute_percentage_error( test.Electricty_Consumption_in_TW, decompose_output2.Test_Pred ), 2)\n",
    "\n",
    "print('RMSE of training data: ', RMSE_train,  ' | ', 'RMSE of testing data: ', RMSE_test)\n",
    "print('RMSPE of training data: ', RMSPE_train,  ' | ', 'RMSPE of testing data: ', RMSPE_test)\n",
    "print('MAPE of training data: ', MAPE_train,  ' | ', 'MAPE of testing data: ', MAPE_test)"
   ]
  },
  {
   "cell_type": "markdown",
   "id": "26e25f80",
   "metadata": {},
   "source": [
    "## Prediction"
   ]
  },
  {
   "cell_type": "code",
   "execution_count": 129,
   "id": "c67541f7",
   "metadata": {},
   "outputs": [
    {
     "name": "stderr",
     "output_type": "stream",
     "text": [
      "C:\\Users\\DELL\\AppData\\Local\\Temp\\ipykernel_18080\\3057735539.py:2: PerformanceWarning: Non-vectorized DateOffset being applied to Series or DatetimeIndex.\n",
      "  decompose_output3.index=(decompose_output2.index[-27:].shift(28,freq='MS')+ pd.DateOffset( day = 1 ))\n"
     ]
    }
   ],
   "source": [
    "decompose_output3=pd.DataFrame()\n",
    "decompose_output3.index=(decompose_output2.index[-27:].shift(28,freq='MS')+ pd.DateOffset( day = 1 ))\n",
    "decompose_output3['Time_Index']=pd.Series(np.array( range( 562,589, 1 ) )).values"
   ]
  },
  {
   "cell_type": "code",
   "execution_count": 130,
   "id": "d3102fc4",
   "metadata": {},
   "outputs": [
    {
     "data": {
      "text/html": [
       "<div>\n",
       "<style scoped>\n",
       "    .dataframe tbody tr th:only-of-type {\n",
       "        vertical-align: middle;\n",
       "    }\n",
       "\n",
       "    .dataframe tbody tr th {\n",
       "        vertical-align: top;\n",
       "    }\n",
       "\n",
       "    .dataframe thead th {\n",
       "        text-align: right;\n",
       "    }\n",
       "</style>\n",
       "<table border=\"1\" class=\"dataframe\">\n",
       "  <thead>\n",
       "    <tr style=\"text-align: right;\">\n",
       "      <th></th>\n",
       "      <th>Time_Index</th>\n",
       "      <th>Seasonal</th>\n",
       "      <th>Trend</th>\n",
       "      <th>Irregular</th>\n",
       "      <th>Pred</th>\n",
       "    </tr>\n",
       "    <tr>\n",
       "      <th>DATE</th>\n",
       "      <th></th>\n",
       "      <th></th>\n",
       "      <th></th>\n",
       "      <th></th>\n",
       "      <th></th>\n",
       "    </tr>\n",
       "  </thead>\n",
       "  <tbody>\n",
       "    <tr>\n",
       "      <th>2019-11-01</th>\n",
       "      <td>562</td>\n",
       "      <td>0.941739</td>\n",
       "      <td>121.199051</td>\n",
       "      <td>1.015738</td>\n",
       "      <td>115.934125</td>\n",
       "    </tr>\n",
       "    <tr>\n",
       "      <th>2019-12-01</th>\n",
       "      <td>563</td>\n",
       "      <td>0.932422</td>\n",
       "      <td>121.352185</td>\n",
       "      <td>1.015738</td>\n",
       "      <td>114.932252</td>\n",
       "    </tr>\n",
       "    <tr>\n",
       "      <th>2020-01-01</th>\n",
       "      <td>564</td>\n",
       "      <td>1.000887</td>\n",
       "      <td>121.505320</td>\n",
       "      <td>1.015738</td>\n",
       "      <td>123.527066</td>\n",
       "    </tr>\n",
       "    <tr>\n",
       "      <th>2020-02-01</th>\n",
       "      <td>565</td>\n",
       "      <td>1.058014</td>\n",
       "      <td>121.658454</td>\n",
       "      <td>1.015738</td>\n",
       "      <td>130.742063</td>\n",
       "    </tr>\n",
       "    <tr>\n",
       "      <th>2020-03-01</th>\n",
       "      <td>566</td>\n",
       "      <td>1.005567</td>\n",
       "      <td>121.811588</td>\n",
       "      <td>1.015738</td>\n",
       "      <td>124.417482</td>\n",
       "    </tr>\n",
       "    <tr>\n",
       "      <th>2020-04-01</th>\n",
       "      <td>567</td>\n",
       "      <td>0.953498</td>\n",
       "      <td>121.964723</td>\n",
       "      <td>1.015738</td>\n",
       "      <td>118.123346</td>\n",
       "    </tr>\n",
       "    <tr>\n",
       "      <th>2020-05-01</th>\n",
       "      <td>568</td>\n",
       "      <td>0.900317</td>\n",
       "      <td>122.117857</td>\n",
       "      <td>1.015738</td>\n",
       "      <td>111.675132</td>\n",
       "    </tr>\n",
       "    <tr>\n",
       "      <th>2020-06-01</th>\n",
       "      <td>569</td>\n",
       "      <td>0.916865</td>\n",
       "      <td>122.270991</td>\n",
       "      <td>1.015738</td>\n",
       "      <td>113.870309</td>\n",
       "    </tr>\n",
       "    <tr>\n",
       "      <th>2020-07-01</th>\n",
       "      <td>570</td>\n",
       "      <td>1.016946</td>\n",
       "      <td>122.424126</td>\n",
       "      <td>1.015738</td>\n",
       "      <td>126.458020</td>\n",
       "    </tr>\n",
       "    <tr>\n",
       "      <th>2020-08-01</th>\n",
       "      <td>571</td>\n",
       "      <td>1.109943</td>\n",
       "      <td>122.577260</td>\n",
       "      <td>1.015738</td>\n",
       "      <td>138.195006</td>\n",
       "    </tr>\n",
       "    <tr>\n",
       "      <th>2020-09-01</th>\n",
       "      <td>572</td>\n",
       "      <td>1.125136</td>\n",
       "      <td>122.730394</td>\n",
       "      <td>1.015738</td>\n",
       "      <td>140.261650</td>\n",
       "    </tr>\n",
       "    <tr>\n",
       "      <th>2020-10-01</th>\n",
       "      <td>573</td>\n",
       "      <td>1.038663</td>\n",
       "      <td>122.883529</td>\n",
       "      <td>1.015738</td>\n",
       "      <td>129.643317</td>\n",
       "    </tr>\n",
       "    <tr>\n",
       "      <th>2020-11-01</th>\n",
       "      <td>574</td>\n",
       "      <td>0.941739</td>\n",
       "      <td>123.036663</td>\n",
       "      <td>1.015738</td>\n",
       "      <td>117.691911</td>\n",
       "    </tr>\n",
       "    <tr>\n",
       "      <th>2020-12-01</th>\n",
       "      <td>575</td>\n",
       "      <td>0.932422</td>\n",
       "      <td>123.189797</td>\n",
       "      <td>1.015738</td>\n",
       "      <td>116.672649</td>\n",
       "    </tr>\n",
       "    <tr>\n",
       "      <th>2021-01-01</th>\n",
       "      <td>576</td>\n",
       "      <td>1.000887</td>\n",
       "      <td>123.342932</td>\n",
       "      <td>1.015738</td>\n",
       "      <td>125.395255</td>\n",
       "    </tr>\n",
       "    <tr>\n",
       "      <th>2021-02-01</th>\n",
       "      <td>577</td>\n",
       "      <td>1.058014</td>\n",
       "      <td>123.496066</td>\n",
       "      <td>1.015738</td>\n",
       "      <td>132.716880</td>\n",
       "    </tr>\n",
       "    <tr>\n",
       "      <th>2021-03-01</th>\n",
       "      <td>578</td>\n",
       "      <td>1.005567</td>\n",
       "      <td>123.649200</td>\n",
       "      <td>1.015738</td>\n",
       "      <td>126.294406</td>\n",
       "    </tr>\n",
       "    <tr>\n",
       "      <th>2021-04-01</th>\n",
       "      <td>579</td>\n",
       "      <td>0.953498</td>\n",
       "      <td>123.802335</td>\n",
       "      <td>1.015738</td>\n",
       "      <td>119.903081</td>\n",
       "    </tr>\n",
       "    <tr>\n",
       "      <th>2021-05-01</th>\n",
       "      <td>580</td>\n",
       "      <td>0.900317</td>\n",
       "      <td>123.955469</td>\n",
       "      <td>1.015738</td>\n",
       "      <td>113.355603</td>\n",
       "    </tr>\n",
       "    <tr>\n",
       "      <th>2021-06-01</th>\n",
       "      <td>581</td>\n",
       "      <td>0.916865</td>\n",
       "      <td>124.108603</td>\n",
       "      <td>1.015738</td>\n",
       "      <td>115.581667</td>\n",
       "    </tr>\n",
       "    <tr>\n",
       "      <th>2021-07-01</th>\n",
       "      <td>582</td>\n",
       "      <td>1.016946</td>\n",
       "      <td>124.261738</td>\n",
       "      <td>1.015738</td>\n",
       "      <td>128.356181</td>\n",
       "    </tr>\n",
       "    <tr>\n",
       "      <th>2021-08-01</th>\n",
       "      <td>583</td>\n",
       "      <td>1.109943</td>\n",
       "      <td>124.414872</td>\n",
       "      <td>1.015738</td>\n",
       "      <td>140.266751</td>\n",
       "    </tr>\n",
       "    <tr>\n",
       "      <th>2021-09-01</th>\n",
       "      <td>584</td>\n",
       "      <td>1.125136</td>\n",
       "      <td>124.568006</td>\n",
       "      <td>1.015738</td>\n",
       "      <td>142.361753</td>\n",
       "    </tr>\n",
       "    <tr>\n",
       "      <th>2021-10-01</th>\n",
       "      <td>585</td>\n",
       "      <td>1.038663</td>\n",
       "      <td>124.721141</td>\n",
       "      <td>1.015738</td>\n",
       "      <td>131.582016</td>\n",
       "    </tr>\n",
       "    <tr>\n",
       "      <th>2021-11-01</th>\n",
       "      <td>586</td>\n",
       "      <td>0.941739</td>\n",
       "      <td>124.874275</td>\n",
       "      <td>1.015738</td>\n",
       "      <td>119.449696</td>\n",
       "    </tr>\n",
       "    <tr>\n",
       "      <th>2021-12-01</th>\n",
       "      <td>587</td>\n",
       "      <td>0.932422</td>\n",
       "      <td>125.027409</td>\n",
       "      <td>1.015738</td>\n",
       "      <td>118.413045</td>\n",
       "    </tr>\n",
       "    <tr>\n",
       "      <th>2022-01-01</th>\n",
       "      <td>588</td>\n",
       "      <td>1.000887</td>\n",
       "      <td>125.180544</td>\n",
       "      <td>1.015738</td>\n",
       "      <td>127.263443</td>\n",
       "    </tr>\n",
       "  </tbody>\n",
       "</table>\n",
       "</div>"
      ],
      "text/plain": [
       "            Time_Index  Seasonal       Trend  Irregular        Pred\n",
       "DATE                                                               \n",
       "2019-11-01         562  0.941739  121.199051   1.015738  115.934125\n",
       "2019-12-01         563  0.932422  121.352185   1.015738  114.932252\n",
       "2020-01-01         564  1.000887  121.505320   1.015738  123.527066\n",
       "2020-02-01         565  1.058014  121.658454   1.015738  130.742063\n",
       "2020-03-01         566  1.005567  121.811588   1.015738  124.417482\n",
       "2020-04-01         567  0.953498  121.964723   1.015738  118.123346\n",
       "2020-05-01         568  0.900317  122.117857   1.015738  111.675132\n",
       "2020-06-01         569  0.916865  122.270991   1.015738  113.870309\n",
       "2020-07-01         570  1.016946  122.424126   1.015738  126.458020\n",
       "2020-08-01         571  1.109943  122.577260   1.015738  138.195006\n",
       "2020-09-01         572  1.125136  122.730394   1.015738  140.261650\n",
       "2020-10-01         573  1.038663  122.883529   1.015738  129.643317\n",
       "2020-11-01         574  0.941739  123.036663   1.015738  117.691911\n",
       "2020-12-01         575  0.932422  123.189797   1.015738  116.672649\n",
       "2021-01-01         576  1.000887  123.342932   1.015738  125.395255\n",
       "2021-02-01         577  1.058014  123.496066   1.015738  132.716880\n",
       "2021-03-01         578  1.005567  123.649200   1.015738  126.294406\n",
       "2021-04-01         579  0.953498  123.802335   1.015738  119.903081\n",
       "2021-05-01         580  0.900317  123.955469   1.015738  113.355603\n",
       "2021-06-01         581  0.916865  124.108603   1.015738  115.581667\n",
       "2021-07-01         582  1.016946  124.261738   1.015738  128.356181\n",
       "2021-08-01         583  1.109943  124.414872   1.015738  140.266751\n",
       "2021-09-01         584  1.125136  124.568006   1.015738  142.361753\n",
       "2021-10-01         585  1.038663  124.721141   1.015738  131.582016\n",
       "2021-11-01         586  0.941739  124.874275   1.015738  119.449696\n",
       "2021-12-01         587  0.932422  125.027409   1.015738  118.413045\n",
       "2022-01-01         588  1.000887  125.180544   1.015738  127.263443"
      ]
     },
     "execution_count": 130,
     "metadata": {},
     "output_type": "execute_result"
    }
   ],
   "source": [
    "decompose_output3['Seasonal']=decompose_output1.Seasonal.iloc[9:36].values\n",
    "decompose_output3['Trend']=(0.153134336726621*(decompose_output3.Time_Index) + 35.1375537331338)\n",
    "decompose_output3['Irregular']=decompose_output1.Irregular.mean()\n",
    "decompose_output3['Pred']=(decompose_output3.Seasonal*decompose_output3.Trend*decompose_output3.Irregular)\n",
    "decompose_output3"
   ]
  },
  {
   "cell_type": "markdown",
   "id": "e43c78a5",
   "metadata": {},
   "source": [
    "### ETS Model"
   ]
  },
  {
   "cell_type": "code",
   "execution_count": 131,
   "id": "cace669b",
   "metadata": {},
   "outputs": [
    {
     "name": "stderr",
     "output_type": "stream",
     "text": [
      "C:\\Users\\DELL\\anaconda3\\Lib\\site-packages\\statsmodels\\tsa\\base\\tsa_model.py:473: ValueWarning: No frequency information was provided, so inferred frequency MS will be used.\n",
      "  self._init_dates(dates, freq)\n"
     ]
    }
   ],
   "source": [
    "hwmodel=ExponentialSmoothing(train,trend='add',seasonal='mul',seasonal_periods=12).fit()"
   ]
  },
  {
   "cell_type": "code",
   "execution_count": 132,
   "id": "924baace",
   "metadata": {},
   "outputs": [],
   "source": [
    "train_pred=hwmodel.predict(0)"
   ]
  },
  {
   "cell_type": "code",
   "execution_count": 133,
   "id": "c2156592",
   "metadata": {},
   "outputs": [
    {
     "data": {
      "text/plain": [
       "1973-01-01     36.682735\n",
       "1973-02-01     35.083278\n",
       "1973-03-01     33.529791\n",
       "1973-04-01     32.518302\n",
       "1973-05-01     33.108805\n",
       "                 ...    \n",
       "2005-05-01     90.104975\n",
       "2005-06-01    101.292086\n",
       "2005-07-01    111.783193\n",
       "2005-08-01    111.354900\n",
       "2005-09-01     97.909726\n",
       "Freq: MS, Length: 393, dtype: float64"
      ]
     },
     "execution_count": 133,
     "metadata": {},
     "output_type": "execute_result"
    }
   ],
   "source": [
    "train_pred"
   ]
  },
  {
   "cell_type": "code",
   "execution_count": 134,
   "id": "2be69974",
   "metadata": {},
   "outputs": [],
   "source": [
    "test_pred=hwmodel.forecast(168)"
   ]
  },
  {
   "cell_type": "code",
   "execution_count": 135,
   "id": "4004a46c",
   "metadata": {},
   "outputs": [
    {
     "data": {
      "text/plain": [
       "2005-10-01     88.947344\n",
       "2005-11-01     87.243108\n",
       "2005-12-01     95.447774\n",
       "2006-01-01    101.086047\n",
       "2006-02-01     94.509124\n",
       "                 ...    \n",
       "2019-05-01    115.414772\n",
       "2019-06-01    127.974334\n",
       "2019-07-01    140.061878\n",
       "2019-08-01    140.756560\n",
       "2019-09-01    127.279048\n",
       "Freq: MS, Length: 168, dtype: float64"
      ]
     },
     "execution_count": 135,
     "metadata": {},
     "output_type": "execute_result"
    }
   ],
   "source": [
    "test_pred"
   ]
  },
  {
   "cell_type": "markdown",
   "id": "2a958693",
   "metadata": {},
   "source": [
    "## Evaluation"
   ]
  },
  {
   "cell_type": "code",
   "execution_count": 136,
   "id": "a7547ec5",
   "metadata": {},
   "outputs": [
    {
     "name": "stdout",
     "output_type": "stream",
     "text": [
      "RMSE of training data:  1.46  |  RMSE of testing data:  11.37\n",
      "RMSPE of training data:  0.02  |  RMSPE of testing data:  0.11\n",
      "MAPE of training data:  0.02  |  MAPE of testing data:  0.09\n"
     ]
    }
   ],
   "source": [
    "RMSE_train = round(np.sqrt( mean_squared_error( decompose_output1.observed, train_pred )),2)\n",
    "RMSE_test = round(np.sqrt( mean_squared_error( test.Electricty_Consumption_in_TW, test_pred )),2)\n",
    "\n",
    "RMSPE_train = round(np.sqrt( np.mean(np.square(((decompose_output1.observed - train_pred) / decompose_output1.observed)), axis=0)),2)\n",
    "RMSPE_test = round(np.sqrt( np.mean(np.square(((test.Electricty_Consumption_in_TW - test_pred) / test.Electricty_Consumption_in_TW)), axis=0)),2)\n",
    "\n",
    "MAPE_train = round(mean_absolute_percentage_error( decompose_output1.observed, train_pred ), 2)\n",
    "MAPE_test = round(mean_absolute_percentage_error( test.Electricty_Consumption_in_TW, test_pred ), 2)\n",
    "\n",
    "print('RMSE of training data: ', RMSE_train,  ' | ', 'RMSE of testing data: ', RMSE_test)\n",
    "print('RMSPE of training data: ', RMSPE_train,  ' | ', 'RMSPE of testing data: ', RMSPE_test)\n",
    "print('MAPE of training data: ', MAPE_train,  ' | ', 'MAPE of testing data: ', MAPE_test)"
   ]
  },
  {
   "cell_type": "markdown",
   "id": "42374417",
   "metadata": {},
   "source": [
    "### Prediction"
   ]
  },
  {
   "cell_type": "code",
   "execution_count": 137,
   "id": "b1673cc4",
   "metadata": {},
   "outputs": [
    {
     "name": "stderr",
     "output_type": "stream",
     "text": [
      "C:\\Users\\DELL\\anaconda3\\Lib\\site-packages\\statsmodels\\tsa\\base\\tsa_model.py:473: ValueWarning: No frequency information was provided, so inferred frequency MS will be used.\n",
      "  self._init_dates(dates, freq)\n"
     ]
    }
   ],
   "source": [
    "predict=ExponentialSmoothing(data,trend='add',seasonal='mul',seasonal_periods=12).fit()"
   ]
  },
  {
   "cell_type": "code",
   "execution_count": 138,
   "id": "7629ff2a",
   "metadata": {},
   "outputs": [
    {
     "data": {
      "text/plain": [
       "2019-10-01     97.038327\n",
       "2019-11-01     94.752127\n",
       "2019-12-01    105.279781\n",
       "2020-01-01    112.034228\n",
       "2020-02-01    102.196993\n",
       "2020-03-01     98.960061\n",
       "2020-04-01     92.885439\n",
       "2020-05-01     99.409240\n",
       "2020-06-01    113.930480\n",
       "2020-07-01    125.483149\n",
       "2020-08-01    124.167570\n",
       "2020-09-01    111.076163\n",
       "2020-10-01     98.667032\n",
       "2020-11-01     96.340239\n",
       "2020-12-01    107.041883\n",
       "2021-01-01    113.906770\n",
       "2021-02-01    103.902738\n",
       "2021-03-01    100.609486\n",
       "2021-04-01     94.431467\n",
       "2021-05-01    101.061562\n",
       "2021-06-01    115.821546\n",
       "2021-07-01    127.563094\n",
       "2021-08-01    126.222869\n",
       "2021-09-01    112.912232\n",
       "2021-10-01    100.295738\n",
       "2021-11-01     97.928351\n",
       "2021-12-01    108.803984\n",
       "Freq: MS, dtype: float64"
      ]
     },
     "execution_count": 138,
     "metadata": {},
     "output_type": "execute_result"
    }
   ],
   "source": [
    "predict.forecast(27)"
   ]
  },
  {
   "cell_type": "markdown",
   "id": "4fcdbc7c",
   "metadata": {},
   "source": [
    "## Dickey-Fuller Test"
   ]
  },
  {
   "cell_type": "code",
   "execution_count": 139,
   "id": "9d0c0a48",
   "metadata": {},
   "outputs": [
    {
     "data": {
      "text/plain": [
       "(-1.7405933729832546,\n",
       " 0.41032816044686277,\n",
       " 15,\n",
       " 545,\n",
       " {'1%': -3.442405720052601,\n",
       "  '5%': -2.866857804790472,\n",
       "  '10%': -2.5696022094099824},\n",
       " 2295.409663118043)"
      ]
     },
     "execution_count": 139,
     "metadata": {},
     "output_type": "execute_result"
    }
   ],
   "source": [
    "adfuller(data)"
   ]
  },
  {
   "cell_type": "markdown",
   "id": "83ac5ddb",
   "metadata": {},
   "source": [
    "Since the value of p is high, we accept the null hypothesis, that is the data is not stationary. Also, since there is seasonality in the data, we go with SARIMA Model\n",
    "\n",
    "Making the data Stationary\n",
    "\n",
    "Taking Log10"
   ]
  },
  {
   "cell_type": "code",
   "execution_count": 140,
   "id": "a1e7f25d",
   "metadata": {},
   "outputs": [
    {
     "name": "stdout",
     "output_type": "stream",
     "text": [
      "Results of Dickey-Fuller Test:\n",
      "Test Statistic                  -3.001867\n",
      "p-value                          0.034720\n",
      "#lags Used                      15.000000\n",
      "Number of Observations Used    545.000000\n",
      "Critical Value (1%)             -3.442406\n",
      "Critical Value (5%)             -2.866858\n",
      "Critical Value (10%)            -2.569602\n",
      "dtype: float64\n"
     ]
    }
   ],
   "source": [
    "data_log = np.log10(data)\n",
    "\n",
    "print('Results of Dickey-Fuller Test:')\n",
    "dftest = adfuller(data_log)\n",
    "dfoutput = pd.Series(dftest[0:4], index=['Test Statistic', 'p-value', '#lags Used', 'Number of Observations Used'])\n",
    "for key, value in dftest[4].items():\n",
    "    dfoutput['Critical Value (%s)'%key] = value\n",
    "print(dfoutput)"
   ]
  },
  {
   "cell_type": "code",
   "execution_count": 141,
   "id": "978dc101",
   "metadata": {},
   "outputs": [],
   "source": [
    "train_log=np.log10(train)"
   ]
  },
  {
   "cell_type": "markdown",
   "id": "732fcaf9",
   "metadata": {},
   "source": [
    "The data has been made Stationary."
   ]
  },
  {
   "cell_type": "code",
   "execution_count": 142,
   "id": "e77e42cd",
   "metadata": {},
   "outputs": [],
   "source": [
    "p = q = range(0, 3)\n",
    "d = range(2,3)\n",
    "pdq = list(itertools.product(p, d, q))"
   ]
  },
  {
   "cell_type": "code",
   "execution_count": 143,
   "id": "4a01062c",
   "metadata": {},
   "outputs": [],
   "source": [
    "D = range(0,2)\n",
    "P = Q = range(0, 2) \n",
    "seasonal_pdq = [(x[0], x[1], x[2], 12) for x in list(itertools.product(P, D, Q))]"
   ]
  },
  {
   "cell_type": "code",
   "execution_count": 144,
   "id": "d2dcbd7f",
   "metadata": {},
   "outputs": [
    {
     "name": "stderr",
     "output_type": "stream",
     "text": [
      "C:\\Users\\DELL\\anaconda3\\Lib\\site-packages\\statsmodels\\tsa\\base\\tsa_model.py:473: ValueWarning: No frequency information was provided, so inferred frequency MS will be used.\n",
      "  self._init_dates(dates, freq)\n",
      "C:\\Users\\DELL\\anaconda3\\Lib\\site-packages\\statsmodels\\tsa\\base\\tsa_model.py:473: ValueWarning: No frequency information was provided, so inferred frequency MS will be used.\n",
      "  self._init_dates(dates, freq)\n",
      "C:\\Users\\DELL\\anaconda3\\Lib\\site-packages\\statsmodels\\tsa\\base\\tsa_model.py:473: ValueWarning: No frequency information was provided, so inferred frequency MS will be used.\n",
      "  self._init_dates(dates, freq)\n",
      "C:\\Users\\DELL\\anaconda3\\Lib\\site-packages\\statsmodels\\tsa\\base\\tsa_model.py:473: ValueWarning: No frequency information was provided, so inferred frequency MS will be used.\n",
      "  self._init_dates(dates, freq)\n",
      "C:\\Users\\DELL\\anaconda3\\Lib\\site-packages\\statsmodels\\tsa\\base\\tsa_model.py:473: ValueWarning: No frequency information was provided, so inferred frequency MS will be used.\n",
      "  self._init_dates(dates, freq)\n",
      "C:\\Users\\DELL\\anaconda3\\Lib\\site-packages\\statsmodels\\tsa\\base\\tsa_model.py:473: ValueWarning: No frequency information was provided, so inferred frequency MS will be used.\n",
      "  self._init_dates(dates, freq)\n",
      "C:\\Users\\DELL\\anaconda3\\Lib\\site-packages\\statsmodels\\base\\model.py:607: ConvergenceWarning: Maximum Likelihood optimization failed to converge. Check mle_retvals\n",
      "  warnings.warn(\"Maximum Likelihood optimization failed to \"\n",
      "C:\\Users\\DELL\\anaconda3\\Lib\\site-packages\\statsmodels\\tsa\\base\\tsa_model.py:473: ValueWarning: No frequency information was provided, so inferred frequency MS will be used.\n",
      "  self._init_dates(dates, freq)\n",
      "C:\\Users\\DELL\\anaconda3\\Lib\\site-packages\\statsmodels\\tsa\\base\\tsa_model.py:473: ValueWarning: No frequency information was provided, so inferred frequency MS will be used.\n",
      "  self._init_dates(dates, freq)\n",
      "C:\\Users\\DELL\\anaconda3\\Lib\\site-packages\\statsmodels\\tsa\\base\\tsa_model.py:473: ValueWarning: No frequency information was provided, so inferred frequency MS will be used.\n",
      "  self._init_dates(dates, freq)\n",
      "C:\\Users\\DELL\\anaconda3\\Lib\\site-packages\\statsmodels\\tsa\\base\\tsa_model.py:473: ValueWarning: No frequency information was provided, so inferred frequency MS will be used.\n",
      "  self._init_dates(dates, freq)\n",
      "C:\\Users\\DELL\\anaconda3\\Lib\\site-packages\\statsmodels\\base\\model.py:607: ConvergenceWarning: Maximum Likelihood optimization failed to converge. Check mle_retvals\n",
      "  warnings.warn(\"Maximum Likelihood optimization failed to \"\n",
      "C:\\Users\\DELL\\anaconda3\\Lib\\site-packages\\statsmodels\\tsa\\base\\tsa_model.py:473: ValueWarning: No frequency information was provided, so inferred frequency MS will be used.\n",
      "  self._init_dates(dates, freq)\n",
      "C:\\Users\\DELL\\anaconda3\\Lib\\site-packages\\statsmodels\\tsa\\base\\tsa_model.py:473: ValueWarning: No frequency information was provided, so inferred frequency MS will be used.\n",
      "  self._init_dates(dates, freq)\n",
      "C:\\Users\\DELL\\anaconda3\\Lib\\site-packages\\statsmodels\\tsa\\base\\tsa_model.py:473: ValueWarning: No frequency information was provided, so inferred frequency MS will be used.\n",
      "  self._init_dates(dates, freq)\n",
      "C:\\Users\\DELL\\anaconda3\\Lib\\site-packages\\statsmodels\\tsa\\base\\tsa_model.py:473: ValueWarning: No frequency information was provided, so inferred frequency MS will be used.\n",
      "  self._init_dates(dates, freq)\n",
      "C:\\Users\\DELL\\anaconda3\\Lib\\site-packages\\statsmodels\\base\\model.py:607: ConvergenceWarning: Maximum Likelihood optimization failed to converge. Check mle_retvals\n",
      "  warnings.warn(\"Maximum Likelihood optimization failed to \"\n",
      "C:\\Users\\DELL\\anaconda3\\Lib\\site-packages\\statsmodels\\tsa\\base\\tsa_model.py:473: ValueWarning: No frequency information was provided, so inferred frequency MS will be used.\n",
      "  self._init_dates(dates, freq)\n",
      "C:\\Users\\DELL\\anaconda3\\Lib\\site-packages\\statsmodels\\tsa\\base\\tsa_model.py:473: ValueWarning: No frequency information was provided, so inferred frequency MS will be used.\n",
      "  self._init_dates(dates, freq)\n",
      "C:\\Users\\DELL\\anaconda3\\Lib\\site-packages\\statsmodels\\tsa\\base\\tsa_model.py:473: ValueWarning: No frequency information was provided, so inferred frequency MS will be used.\n",
      "  self._init_dates(dates, freq)\n",
      "C:\\Users\\DELL\\anaconda3\\Lib\\site-packages\\statsmodels\\tsa\\base\\tsa_model.py:473: ValueWarning: No frequency information was provided, so inferred frequency MS will be used.\n",
      "  self._init_dates(dates, freq)\n",
      "C:\\Users\\DELL\\anaconda3\\Lib\\site-packages\\statsmodels\\tsa\\base\\tsa_model.py:473: ValueWarning: No frequency information was provided, so inferred frequency MS will be used.\n",
      "  self._init_dates(dates, freq)\n",
      "C:\\Users\\DELL\\anaconda3\\Lib\\site-packages\\statsmodels\\tsa\\base\\tsa_model.py:473: ValueWarning: No frequency information was provided, so inferred frequency MS will be used.\n",
      "  self._init_dates(dates, freq)\n",
      "C:\\Users\\DELL\\anaconda3\\Lib\\site-packages\\statsmodels\\tsa\\base\\tsa_model.py:473: ValueWarning: No frequency information was provided, so inferred frequency MS will be used.\n",
      "  self._init_dates(dates, freq)\n",
      "C:\\Users\\DELL\\anaconda3\\Lib\\site-packages\\statsmodels\\tsa\\base\\tsa_model.py:473: ValueWarning: No frequency information was provided, so inferred frequency MS will be used.\n",
      "  self._init_dates(dates, freq)\n",
      "C:\\Users\\DELL\\anaconda3\\Lib\\site-packages\\statsmodels\\tsa\\base\\tsa_model.py:473: ValueWarning: No frequency information was provided, so inferred frequency MS will be used.\n",
      "  self._init_dates(dates, freq)\n",
      "C:\\Users\\DELL\\anaconda3\\Lib\\site-packages\\statsmodels\\tsa\\base\\tsa_model.py:473: ValueWarning: No frequency information was provided, so inferred frequency MS will be used.\n",
      "  self._init_dates(dates, freq)\n",
      "C:\\Users\\DELL\\anaconda3\\Lib\\site-packages\\statsmodels\\tsa\\base\\tsa_model.py:473: ValueWarning: No frequency information was provided, so inferred frequency MS will be used.\n",
      "  self._init_dates(dates, freq)\n",
      "C:\\Users\\DELL\\anaconda3\\Lib\\site-packages\\statsmodels\\tsa\\base\\tsa_model.py:473: ValueWarning: No frequency information was provided, so inferred frequency MS will be used.\n",
      "  self._init_dates(dates, freq)\n",
      "C:\\Users\\DELL\\anaconda3\\Lib\\site-packages\\statsmodels\\tsa\\base\\tsa_model.py:473: ValueWarning: No frequency information was provided, so inferred frequency MS will be used.\n",
      "  self._init_dates(dates, freq)\n",
      "C:\\Users\\DELL\\anaconda3\\Lib\\site-packages\\statsmodels\\tsa\\base\\tsa_model.py:473: ValueWarning: No frequency information was provided, so inferred frequency MS will be used.\n",
      "  self._init_dates(dates, freq)\n",
      "C:\\Users\\DELL\\anaconda3\\Lib\\site-packages\\statsmodels\\tsa\\base\\tsa_model.py:473: ValueWarning: No frequency information was provided, so inferred frequency MS will be used.\n",
      "  self._init_dates(dates, freq)\n",
      "C:\\Users\\DELL\\anaconda3\\Lib\\site-packages\\statsmodels\\tsa\\base\\tsa_model.py:473: ValueWarning: No frequency information was provided, so inferred frequency MS will be used.\n",
      "  self._init_dates(dates, freq)\n",
      "C:\\Users\\DELL\\anaconda3\\Lib\\site-packages\\statsmodels\\tsa\\base\\tsa_model.py:473: ValueWarning: No frequency information was provided, so inferred frequency MS will be used.\n",
      "  self._init_dates(dates, freq)\n",
      "C:\\Users\\DELL\\anaconda3\\Lib\\site-packages\\statsmodels\\tsa\\base\\tsa_model.py:473: ValueWarning: No frequency information was provided, so inferred frequency MS will be used.\n",
      "  self._init_dates(dates, freq)\n",
      "C:\\Users\\DELL\\anaconda3\\Lib\\site-packages\\statsmodels\\tsa\\base\\tsa_model.py:473: ValueWarning: No frequency information was provided, so inferred frequency MS will be used.\n",
      "  self._init_dates(dates, freq)\n",
      "C:\\Users\\DELL\\anaconda3\\Lib\\site-packages\\statsmodels\\tsa\\base\\tsa_model.py:473: ValueWarning: No frequency information was provided, so inferred frequency MS will be used.\n",
      "  self._init_dates(dates, freq)\n",
      "C:\\Users\\DELL\\anaconda3\\Lib\\site-packages\\statsmodels\\tsa\\base\\tsa_model.py:473: ValueWarning: No frequency information was provided, so inferred frequency MS will be used.\n",
      "  self._init_dates(dates, freq)\n",
      "C:\\Users\\DELL\\anaconda3\\Lib\\site-packages\\statsmodels\\tsa\\base\\tsa_model.py:473: ValueWarning: No frequency information was provided, so inferred frequency MS will be used.\n",
      "  self._init_dates(dates, freq)\n",
      "C:\\Users\\DELL\\anaconda3\\Lib\\site-packages\\statsmodels\\tsa\\base\\tsa_model.py:473: ValueWarning: No frequency information was provided, so inferred frequency MS will be used.\n",
      "  self._init_dates(dates, freq)\n",
      "C:\\Users\\DELL\\anaconda3\\Lib\\site-packages\\statsmodels\\tsa\\base\\tsa_model.py:473: ValueWarning: No frequency information was provided, so inferred frequency MS will be used.\n",
      "  self._init_dates(dates, freq)\n",
      "C:\\Users\\DELL\\anaconda3\\Lib\\site-packages\\statsmodels\\tsa\\base\\tsa_model.py:473: ValueWarning: No frequency information was provided, so inferred frequency MS will be used.\n",
      "  self._init_dates(dates, freq)\n",
      "C:\\Users\\DELL\\anaconda3\\Lib\\site-packages\\statsmodels\\tsa\\base\\tsa_model.py:473: ValueWarning: No frequency information was provided, so inferred frequency MS will be used.\n",
      "  self._init_dates(dates, freq)\n",
      "C:\\Users\\DELL\\anaconda3\\Lib\\site-packages\\statsmodels\\tsa\\base\\tsa_model.py:473: ValueWarning: No frequency information was provided, so inferred frequency MS will be used.\n",
      "  self._init_dates(dates, freq)\n",
      "C:\\Users\\DELL\\anaconda3\\Lib\\site-packages\\statsmodels\\tsa\\base\\tsa_model.py:473: ValueWarning: No frequency information was provided, so inferred frequency MS will be used.\n",
      "  self._init_dates(dates, freq)\n",
      "C:\\Users\\DELL\\anaconda3\\Lib\\site-packages\\statsmodels\\tsa\\base\\tsa_model.py:473: ValueWarning: No frequency information was provided, so inferred frequency MS will be used.\n",
      "  self._init_dates(dates, freq)\n",
      "C:\\Users\\DELL\\anaconda3\\Lib\\site-packages\\statsmodels\\tsa\\base\\tsa_model.py:473: ValueWarning: No frequency information was provided, so inferred frequency MS will be used.\n",
      "  self._init_dates(dates, freq)\n",
      "C:\\Users\\DELL\\anaconda3\\Lib\\site-packages\\statsmodels\\base\\model.py:607: ConvergenceWarning: Maximum Likelihood optimization failed to converge. Check mle_retvals\n",
      "  warnings.warn(\"Maximum Likelihood optimization failed to \"\n",
      "C:\\Users\\DELL\\anaconda3\\Lib\\site-packages\\statsmodels\\tsa\\base\\tsa_model.py:473: ValueWarning: No frequency information was provided, so inferred frequency MS will be used.\n",
      "  self._init_dates(dates, freq)\n",
      "C:\\Users\\DELL\\anaconda3\\Lib\\site-packages\\statsmodels\\tsa\\base\\tsa_model.py:473: ValueWarning: No frequency information was provided, so inferred frequency MS will be used.\n",
      "  self._init_dates(dates, freq)\n",
      "C:\\Users\\DELL\\anaconda3\\Lib\\site-packages\\statsmodels\\tsa\\base\\tsa_model.py:473: ValueWarning: No frequency information was provided, so inferred frequency MS will be used.\n",
      "  self._init_dates(dates, freq)\n",
      "C:\\Users\\DELL\\anaconda3\\Lib\\site-packages\\statsmodels\\tsa\\base\\tsa_model.py:473: ValueWarning: No frequency information was provided, so inferred frequency MS will be used.\n",
      "  self._init_dates(dates, freq)\n",
      "C:\\Users\\DELL\\anaconda3\\Lib\\site-packages\\statsmodels\\base\\model.py:607: ConvergenceWarning: Maximum Likelihood optimization failed to converge. Check mle_retvals\n",
      "  warnings.warn(\"Maximum Likelihood optimization failed to \"\n",
      "C:\\Users\\DELL\\anaconda3\\Lib\\site-packages\\statsmodels\\tsa\\base\\tsa_model.py:473: ValueWarning: No frequency information was provided, so inferred frequency MS will be used.\n",
      "  self._init_dates(dates, freq)\n",
      "C:\\Users\\DELL\\anaconda3\\Lib\\site-packages\\statsmodels\\tsa\\base\\tsa_model.py:473: ValueWarning: No frequency information was provided, so inferred frequency MS will be used.\n",
      "  self._init_dates(dates, freq)\n",
      "C:\\Users\\DELL\\anaconda3\\Lib\\site-packages\\statsmodels\\tsa\\base\\tsa_model.py:473: ValueWarning: No frequency information was provided, so inferred frequency MS will be used.\n",
      "  self._init_dates(dates, freq)\n",
      "C:\\Users\\DELL\\anaconda3\\Lib\\site-packages\\statsmodels\\tsa\\base\\tsa_model.py:473: ValueWarning: No frequency information was provided, so inferred frequency MS will be used.\n",
      "  self._init_dates(dates, freq)\n",
      "C:\\Users\\DELL\\anaconda3\\Lib\\site-packages\\statsmodels\\tsa\\base\\tsa_model.py:473: ValueWarning: No frequency information was provided, so inferred frequency MS will be used.\n",
      "  self._init_dates(dates, freq)\n",
      "C:\\Users\\DELL\\anaconda3\\Lib\\site-packages\\statsmodels\\tsa\\base\\tsa_model.py:473: ValueWarning: No frequency information was provided, so inferred frequency MS will be used.\n",
      "  self._init_dates(dates, freq)\n",
      "C:\\Users\\DELL\\anaconda3\\Lib\\site-packages\\statsmodels\\base\\model.py:607: ConvergenceWarning: Maximum Likelihood optimization failed to converge. Check mle_retvals\n",
      "  warnings.warn(\"Maximum Likelihood optimization failed to \"\n",
      "C:\\Users\\DELL\\anaconda3\\Lib\\site-packages\\statsmodels\\tsa\\base\\tsa_model.py:473: ValueWarning: No frequency information was provided, so inferred frequency MS will be used.\n",
      "  self._init_dates(dates, freq)\n",
      "C:\\Users\\DELL\\anaconda3\\Lib\\site-packages\\statsmodels\\tsa\\base\\tsa_model.py:473: ValueWarning: No frequency information was provided, so inferred frequency MS will be used.\n",
      "  self._init_dates(dates, freq)\n",
      "C:\\Users\\DELL\\anaconda3\\Lib\\site-packages\\statsmodels\\tsa\\base\\tsa_model.py:473: ValueWarning: No frequency information was provided, so inferred frequency MS will be used.\n",
      "  self._init_dates(dates, freq)\n",
      "C:\\Users\\DELL\\anaconda3\\Lib\\site-packages\\statsmodels\\tsa\\base\\tsa_model.py:473: ValueWarning: No frequency information was provided, so inferred frequency MS will be used.\n",
      "  self._init_dates(dates, freq)\n",
      "C:\\Users\\DELL\\anaconda3\\Lib\\site-packages\\statsmodels\\base\\model.py:607: ConvergenceWarning: Maximum Likelihood optimization failed to converge. Check mle_retvals\n",
      "  warnings.warn(\"Maximum Likelihood optimization failed to \"\n",
      "C:\\Users\\DELL\\anaconda3\\Lib\\site-packages\\statsmodels\\tsa\\base\\tsa_model.py:473: ValueWarning: No frequency information was provided, so inferred frequency MS will be used.\n",
      "  self._init_dates(dates, freq)\n",
      "C:\\Users\\DELL\\anaconda3\\Lib\\site-packages\\statsmodels\\tsa\\base\\tsa_model.py:473: ValueWarning: No frequency information was provided, so inferred frequency MS will be used.\n",
      "  self._init_dates(dates, freq)\n",
      "C:\\Users\\DELL\\anaconda3\\Lib\\site-packages\\statsmodels\\base\\model.py:607: ConvergenceWarning: Maximum Likelihood optimization failed to converge. Check mle_retvals\n",
      "  warnings.warn(\"Maximum Likelihood optimization failed to \"\n",
      "C:\\Users\\DELL\\anaconda3\\Lib\\site-packages\\statsmodels\\tsa\\base\\tsa_model.py:473: ValueWarning: No frequency information was provided, so inferred frequency MS will be used.\n",
      "  self._init_dates(dates, freq)\n",
      "C:\\Users\\DELL\\anaconda3\\Lib\\site-packages\\statsmodels\\tsa\\base\\tsa_model.py:473: ValueWarning: No frequency information was provided, so inferred frequency MS will be used.\n",
      "  self._init_dates(dates, freq)\n",
      "C:\\Users\\DELL\\anaconda3\\Lib\\site-packages\\statsmodels\\base\\model.py:607: ConvergenceWarning: Maximum Likelihood optimization failed to converge. Check mle_retvals\n",
      "  warnings.warn(\"Maximum Likelihood optimization failed to \"\n",
      "C:\\Users\\DELL\\anaconda3\\Lib\\site-packages\\statsmodels\\tsa\\base\\tsa_model.py:473: ValueWarning: No frequency information was provided, so inferred frequency MS will be used.\n",
      "  self._init_dates(dates, freq)\n",
      "C:\\Users\\DELL\\anaconda3\\Lib\\site-packages\\statsmodels\\tsa\\base\\tsa_model.py:473: ValueWarning: No frequency information was provided, so inferred frequency MS will be used.\n",
      "  self._init_dates(dates, freq)\n",
      "C:\\Users\\DELL\\anaconda3\\Lib\\site-packages\\statsmodels\\base\\model.py:607: ConvergenceWarning: Maximum Likelihood optimization failed to converge. Check mle_retvals\n",
      "  warnings.warn(\"Maximum Likelihood optimization failed to \"\n",
      "C:\\Users\\DELL\\anaconda3\\Lib\\site-packages\\statsmodels\\tsa\\base\\tsa_model.py:473: ValueWarning: No frequency information was provided, so inferred frequency MS will be used.\n",
      "  self._init_dates(dates, freq)\n",
      "C:\\Users\\DELL\\anaconda3\\Lib\\site-packages\\statsmodels\\tsa\\base\\tsa_model.py:473: ValueWarning: No frequency information was provided, so inferred frequency MS will be used.\n",
      "  self._init_dates(dates, freq)\n",
      "C:\\Users\\DELL\\anaconda3\\Lib\\site-packages\\statsmodels\\tsa\\base\\tsa_model.py:473: ValueWarning: No frequency information was provided, so inferred frequency MS will be used.\n",
      "  self._init_dates(dates, freq)\n",
      "C:\\Users\\DELL\\anaconda3\\Lib\\site-packages\\statsmodels\\tsa\\base\\tsa_model.py:473: ValueWarning: No frequency information was provided, so inferred frequency MS will be used.\n",
      "  self._init_dates(dates, freq)\n",
      "C:\\Users\\DELL\\anaconda3\\Lib\\site-packages\\statsmodels\\tsa\\base\\tsa_model.py:473: ValueWarning: No frequency information was provided, so inferred frequency MS will be used.\n",
      "  self._init_dates(dates, freq)\n",
      "C:\\Users\\DELL\\anaconda3\\Lib\\site-packages\\statsmodels\\tsa\\base\\tsa_model.py:473: ValueWarning: No frequency information was provided, so inferred frequency MS will be used.\n",
      "  self._init_dates(dates, freq)\n",
      "C:\\Users\\DELL\\anaconda3\\Lib\\site-packages\\statsmodels\\tsa\\base\\tsa_model.py:473: ValueWarning: No frequency information was provided, so inferred frequency MS will be used.\n",
      "  self._init_dates(dates, freq)\n",
      "C:\\Users\\DELL\\anaconda3\\Lib\\site-packages\\statsmodels\\tsa\\base\\tsa_model.py:473: ValueWarning: No frequency information was provided, so inferred frequency MS will be used.\n",
      "  self._init_dates(dates, freq)\n",
      "C:\\Users\\DELL\\anaconda3\\Lib\\site-packages\\statsmodels\\tsa\\base\\tsa_model.py:473: ValueWarning: No frequency information was provided, so inferred frequency MS will be used.\n",
      "  self._init_dates(dates, freq)\n",
      "C:\\Users\\DELL\\anaconda3\\Lib\\site-packages\\statsmodels\\tsa\\base\\tsa_model.py:473: ValueWarning: No frequency information was provided, so inferred frequency MS will be used.\n",
      "  self._init_dates(dates, freq)\n",
      "C:\\Users\\DELL\\anaconda3\\Lib\\site-packages\\statsmodels\\tsa\\base\\tsa_model.py:473: ValueWarning: No frequency information was provided, so inferred frequency MS will be used.\n",
      "  self._init_dates(dates, freq)\n",
      "C:\\Users\\DELL\\anaconda3\\Lib\\site-packages\\statsmodels\\tsa\\base\\tsa_model.py:473: ValueWarning: No frequency information was provided, so inferred frequency MS will be used.\n",
      "  self._init_dates(dates, freq)\n",
      "C:\\Users\\DELL\\anaconda3\\Lib\\site-packages\\statsmodels\\tsa\\base\\tsa_model.py:473: ValueWarning: No frequency information was provided, so inferred frequency MS will be used.\n",
      "  self._init_dates(dates, freq)\n",
      "C:\\Users\\DELL\\anaconda3\\Lib\\site-packages\\statsmodels\\tsa\\base\\tsa_model.py:473: ValueWarning: No frequency information was provided, so inferred frequency MS will be used.\n",
      "  self._init_dates(dates, freq)\n",
      "C:\\Users\\DELL\\anaconda3\\Lib\\site-packages\\statsmodels\\tsa\\base\\tsa_model.py:473: ValueWarning: No frequency information was provided, so inferred frequency MS will be used.\n",
      "  self._init_dates(dates, freq)\n",
      "C:\\Users\\DELL\\anaconda3\\Lib\\site-packages\\statsmodels\\tsa\\base\\tsa_model.py:473: ValueWarning: No frequency information was provided, so inferred frequency MS will be used.\n",
      "  self._init_dates(dates, freq)\n",
      "C:\\Users\\DELL\\anaconda3\\Lib\\site-packages\\statsmodels\\tsa\\base\\tsa_model.py:473: ValueWarning: No frequency information was provided, so inferred frequency MS will be used.\n",
      "  self._init_dates(dates, freq)\n",
      "C:\\Users\\DELL\\anaconda3\\Lib\\site-packages\\statsmodels\\tsa\\base\\tsa_model.py:473: ValueWarning: No frequency information was provided, so inferred frequency MS will be used.\n",
      "  self._init_dates(dates, freq)\n",
      "C:\\Users\\DELL\\anaconda3\\Lib\\site-packages\\statsmodels\\tsa\\base\\tsa_model.py:473: ValueWarning: No frequency information was provided, so inferred frequency MS will be used.\n",
      "  self._init_dates(dates, freq)\n",
      "C:\\Users\\DELL\\anaconda3\\Lib\\site-packages\\statsmodels\\tsa\\base\\tsa_model.py:473: ValueWarning: No frequency information was provided, so inferred frequency MS will be used.\n",
      "  self._init_dates(dates, freq)\n",
      "C:\\Users\\DELL\\anaconda3\\Lib\\site-packages\\statsmodels\\tsa\\base\\tsa_model.py:473: ValueWarning: No frequency information was provided, so inferred frequency MS will be used.\n",
      "  self._init_dates(dates, freq)\n",
      "C:\\Users\\DELL\\anaconda3\\Lib\\site-packages\\statsmodels\\tsa\\base\\tsa_model.py:473: ValueWarning: No frequency information was provided, so inferred frequency MS will be used.\n",
      "  self._init_dates(dates, freq)\n",
      "C:\\Users\\DELL\\anaconda3\\Lib\\site-packages\\statsmodels\\tsa\\base\\tsa_model.py:473: ValueWarning: No frequency information was provided, so inferred frequency MS will be used.\n",
      "  self._init_dates(dates, freq)\n",
      "C:\\Users\\DELL\\anaconda3\\Lib\\site-packages\\statsmodels\\tsa\\base\\tsa_model.py:473: ValueWarning: No frequency information was provided, so inferred frequency MS will be used.\n",
      "  self._init_dates(dates, freq)\n",
      "C:\\Users\\DELL\\anaconda3\\Lib\\site-packages\\statsmodels\\tsa\\base\\tsa_model.py:473: ValueWarning: No frequency information was provided, so inferred frequency MS will be used.\n",
      "  self._init_dates(dates, freq)\n",
      "C:\\Users\\DELL\\anaconda3\\Lib\\site-packages\\statsmodels\\tsa\\base\\tsa_model.py:473: ValueWarning: No frequency information was provided, so inferred frequency MS will be used.\n",
      "  self._init_dates(dates, freq)\n",
      "C:\\Users\\DELL\\anaconda3\\Lib\\site-packages\\statsmodels\\base\\model.py:607: ConvergenceWarning: Maximum Likelihood optimization failed to converge. Check mle_retvals\n",
      "  warnings.warn(\"Maximum Likelihood optimization failed to \"\n",
      "C:\\Users\\DELL\\anaconda3\\Lib\\site-packages\\statsmodels\\tsa\\base\\tsa_model.py:473: ValueWarning: No frequency information was provided, so inferred frequency MS will be used.\n",
      "  self._init_dates(dates, freq)\n",
      "C:\\Users\\DELL\\anaconda3\\Lib\\site-packages\\statsmodels\\tsa\\base\\tsa_model.py:473: ValueWarning: No frequency information was provided, so inferred frequency MS will be used.\n",
      "  self._init_dates(dates, freq)\n",
      "C:\\Users\\DELL\\anaconda3\\Lib\\site-packages\\statsmodels\\base\\model.py:607: ConvergenceWarning: Maximum Likelihood optimization failed to converge. Check mle_retvals\n",
      "  warnings.warn(\"Maximum Likelihood optimization failed to \"\n",
      "C:\\Users\\DELL\\anaconda3\\Lib\\site-packages\\statsmodels\\tsa\\base\\tsa_model.py:473: ValueWarning: No frequency information was provided, so inferred frequency MS will be used.\n",
      "  self._init_dates(dates, freq)\n",
      "C:\\Users\\DELL\\anaconda3\\Lib\\site-packages\\statsmodels\\tsa\\base\\tsa_model.py:473: ValueWarning: No frequency information was provided, so inferred frequency MS will be used.\n",
      "  self._init_dates(dates, freq)\n",
      "C:\\Users\\DELL\\anaconda3\\Lib\\site-packages\\statsmodels\\tsa\\base\\tsa_model.py:473: ValueWarning: No frequency information was provided, so inferred frequency MS will be used.\n",
      "  self._init_dates(dates, freq)\n",
      "C:\\Users\\DELL\\anaconda3\\Lib\\site-packages\\statsmodels\\tsa\\base\\tsa_model.py:473: ValueWarning: No frequency information was provided, so inferred frequency MS will be used.\n",
      "  self._init_dates(dates, freq)\n",
      "C:\\Users\\DELL\\anaconda3\\Lib\\site-packages\\statsmodels\\base\\model.py:607: ConvergenceWarning: Maximum Likelihood optimization failed to converge. Check mle_retvals\n",
      "  warnings.warn(\"Maximum Likelihood optimization failed to \"\n",
      "C:\\Users\\DELL\\anaconda3\\Lib\\site-packages\\statsmodels\\tsa\\base\\tsa_model.py:473: ValueWarning: No frequency information was provided, so inferred frequency MS will be used.\n",
      "  self._init_dates(dates, freq)\n",
      "C:\\Users\\DELL\\anaconda3\\Lib\\site-packages\\statsmodels\\tsa\\base\\tsa_model.py:473: ValueWarning: No frequency information was provided, so inferred frequency MS will be used.\n",
      "  self._init_dates(dates, freq)\n",
      "C:\\Users\\DELL\\anaconda3\\Lib\\site-packages\\statsmodels\\base\\model.py:607: ConvergenceWarning: Maximum Likelihood optimization failed to converge. Check mle_retvals\n",
      "  warnings.warn(\"Maximum Likelihood optimization failed to \"\n",
      "C:\\Users\\DELL\\anaconda3\\Lib\\site-packages\\statsmodels\\tsa\\base\\tsa_model.py:473: ValueWarning: No frequency information was provided, so inferred frequency MS will be used.\n",
      "  self._init_dates(dates, freq)\n",
      "C:\\Users\\DELL\\anaconda3\\Lib\\site-packages\\statsmodels\\tsa\\base\\tsa_model.py:473: ValueWarning: No frequency information was provided, so inferred frequency MS will be used.\n",
      "  self._init_dates(dates, freq)\n",
      "C:\\Users\\DELL\\anaconda3\\Lib\\site-packages\\statsmodels\\tsa\\base\\tsa_model.py:473: ValueWarning: No frequency information was provided, so inferred frequency MS will be used.\n",
      "  self._init_dates(dates, freq)\n",
      "C:\\Users\\DELL\\anaconda3\\Lib\\site-packages\\statsmodels\\tsa\\base\\tsa_model.py:473: ValueWarning: No frequency information was provided, so inferred frequency MS will be used.\n",
      "  self._init_dates(dates, freq)\n",
      "C:\\Users\\DELL\\anaconda3\\Lib\\site-packages\\statsmodels\\base\\model.py:607: ConvergenceWarning: Maximum Likelihood optimization failed to converge. Check mle_retvals\n",
      "  warnings.warn(\"Maximum Likelihood optimization failed to \"\n",
      "C:\\Users\\DELL\\anaconda3\\Lib\\site-packages\\statsmodels\\tsa\\base\\tsa_model.py:473: ValueWarning: No frequency information was provided, so inferred frequency MS will be used.\n",
      "  self._init_dates(dates, freq)\n",
      "C:\\Users\\DELL\\anaconda3\\Lib\\site-packages\\statsmodels\\tsa\\base\\tsa_model.py:473: ValueWarning: No frequency information was provided, so inferred frequency MS will be used.\n",
      "  self._init_dates(dates, freq)\n",
      "C:\\Users\\DELL\\anaconda3\\Lib\\site-packages\\statsmodels\\base\\model.py:607: ConvergenceWarning: Maximum Likelihood optimization failed to converge. Check mle_retvals\n",
      "  warnings.warn(\"Maximum Likelihood optimization failed to \"\n",
      "C:\\Users\\DELL\\anaconda3\\Lib\\site-packages\\statsmodels\\tsa\\base\\tsa_model.py:473: ValueWarning: No frequency information was provided, so inferred frequency MS will be used.\n",
      "  self._init_dates(dates, freq)\n",
      "C:\\Users\\DELL\\anaconda3\\Lib\\site-packages\\statsmodels\\tsa\\base\\tsa_model.py:473: ValueWarning: No frequency information was provided, so inferred frequency MS will be used.\n",
      "  self._init_dates(dates, freq)\n",
      "C:\\Users\\DELL\\anaconda3\\Lib\\site-packages\\statsmodels\\tsa\\base\\tsa_model.py:473: ValueWarning: No frequency information was provided, so inferred frequency MS will be used.\n",
      "  self._init_dates(dates, freq)\n",
      "C:\\Users\\DELL\\anaconda3\\Lib\\site-packages\\statsmodels\\tsa\\base\\tsa_model.py:473: ValueWarning: No frequency information was provided, so inferred frequency MS will be used.\n",
      "  self._init_dates(dates, freq)\n",
      "C:\\Users\\DELL\\anaconda3\\Lib\\site-packages\\statsmodels\\base\\model.py:607: ConvergenceWarning: Maximum Likelihood optimization failed to converge. Check mle_retvals\n",
      "  warnings.warn(\"Maximum Likelihood optimization failed to \"\n",
      "C:\\Users\\DELL\\anaconda3\\Lib\\site-packages\\statsmodels\\tsa\\base\\tsa_model.py:473: ValueWarning: No frequency information was provided, so inferred frequency MS will be used.\n",
      "  self._init_dates(dates, freq)\n",
      "C:\\Users\\DELL\\anaconda3\\Lib\\site-packages\\statsmodels\\tsa\\base\\tsa_model.py:473: ValueWarning: No frequency information was provided, so inferred frequency MS will be used.\n",
      "  self._init_dates(dates, freq)\n",
      "C:\\Users\\DELL\\anaconda3\\Lib\\site-packages\\statsmodels\\tsa\\base\\tsa_model.py:473: ValueWarning: No frequency information was provided, so inferred frequency MS will be used.\n",
      "  self._init_dates(dates, freq)\n",
      "C:\\Users\\DELL\\anaconda3\\Lib\\site-packages\\statsmodels\\tsa\\base\\tsa_model.py:473: ValueWarning: No frequency information was provided, so inferred frequency MS will be used.\n",
      "  self._init_dates(dates, freq)\n",
      "C:\\Users\\DELL\\anaconda3\\Lib\\site-packages\\statsmodels\\tsa\\base\\tsa_model.py:473: ValueWarning: No frequency information was provided, so inferred frequency MS will be used.\n",
      "  self._init_dates(dates, freq)\n",
      "C:\\Users\\DELL\\anaconda3\\Lib\\site-packages\\statsmodels\\tsa\\base\\tsa_model.py:473: ValueWarning: No frequency information was provided, so inferred frequency MS will be used.\n",
      "  self._init_dates(dates, freq)\n",
      "C:\\Users\\DELL\\anaconda3\\Lib\\site-packages\\statsmodels\\tsa\\base\\tsa_model.py:473: ValueWarning: No frequency information was provided, so inferred frequency MS will be used.\n",
      "  self._init_dates(dates, freq)\n",
      "C:\\Users\\DELL\\anaconda3\\Lib\\site-packages\\statsmodels\\tsa\\base\\tsa_model.py:473: ValueWarning: No frequency information was provided, so inferred frequency MS will be used.\n",
      "  self._init_dates(dates, freq)\n",
      "C:\\Users\\DELL\\anaconda3\\Lib\\site-packages\\statsmodels\\tsa\\base\\tsa_model.py:473: ValueWarning: No frequency information was provided, so inferred frequency MS will be used.\n",
      "  self._init_dates(dates, freq)\n",
      "C:\\Users\\DELL\\anaconda3\\Lib\\site-packages\\statsmodels\\tsa\\base\\tsa_model.py:473: ValueWarning: No frequency information was provided, so inferred frequency MS will be used.\n",
      "  self._init_dates(dates, freq)\n",
      "C:\\Users\\DELL\\anaconda3\\Lib\\site-packages\\statsmodels\\tsa\\base\\tsa_model.py:473: ValueWarning: No frequency information was provided, so inferred frequency MS will be used.\n",
      "  self._init_dates(dates, freq)\n",
      "C:\\Users\\DELL\\anaconda3\\Lib\\site-packages\\statsmodels\\tsa\\base\\tsa_model.py:473: ValueWarning: No frequency information was provided, so inferred frequency MS will be used.\n",
      "  self._init_dates(dates, freq)\n",
      "C:\\Users\\DELL\\anaconda3\\Lib\\site-packages\\statsmodels\\tsa\\base\\tsa_model.py:473: ValueWarning: No frequency information was provided, so inferred frequency MS will be used.\n",
      "  self._init_dates(dates, freq)\n",
      "C:\\Users\\DELL\\anaconda3\\Lib\\site-packages\\statsmodels\\tsa\\base\\tsa_model.py:473: ValueWarning: No frequency information was provided, so inferred frequency MS will be used.\n",
      "  self._init_dates(dates, freq)\n",
      "C:\\Users\\DELL\\anaconda3\\Lib\\site-packages\\statsmodels\\base\\model.py:607: ConvergenceWarning: Maximum Likelihood optimization failed to converge. Check mle_retvals\n",
      "  warnings.warn(\"Maximum Likelihood optimization failed to \"\n",
      "C:\\Users\\DELL\\anaconda3\\Lib\\site-packages\\statsmodels\\tsa\\base\\tsa_model.py:473: ValueWarning: No frequency information was provided, so inferred frequency MS will be used.\n",
      "  self._init_dates(dates, freq)\n",
      "C:\\Users\\DELL\\anaconda3\\Lib\\site-packages\\statsmodels\\tsa\\base\\tsa_model.py:473: ValueWarning: No frequency information was provided, so inferred frequency MS will be used.\n",
      "  self._init_dates(dates, freq)\n",
      "C:\\Users\\DELL\\anaconda3\\Lib\\site-packages\\statsmodels\\base\\model.py:607: ConvergenceWarning: Maximum Likelihood optimization failed to converge. Check mle_retvals\n",
      "  warnings.warn(\"Maximum Likelihood optimization failed to \"\n",
      "C:\\Users\\DELL\\anaconda3\\Lib\\site-packages\\statsmodels\\tsa\\base\\tsa_model.py:473: ValueWarning: No frequency information was provided, so inferred frequency MS will be used.\n",
      "  self._init_dates(dates, freq)\n",
      "C:\\Users\\DELL\\anaconda3\\Lib\\site-packages\\statsmodels\\tsa\\base\\tsa_model.py:473: ValueWarning: No frequency information was provided, so inferred frequency MS will be used.\n",
      "  self._init_dates(dates, freq)\n",
      "C:\\Users\\DELL\\anaconda3\\Lib\\site-packages\\statsmodels\\tsa\\base\\tsa_model.py:473: ValueWarning: No frequency information was provided, so inferred frequency MS will be used.\n",
      "  self._init_dates(dates, freq)\n",
      "C:\\Users\\DELL\\anaconda3\\Lib\\site-packages\\statsmodels\\tsa\\base\\tsa_model.py:473: ValueWarning: No frequency information was provided, so inferred frequency MS will be used.\n",
      "  self._init_dates(dates, freq)\n",
      "C:\\Users\\DELL\\anaconda3\\Lib\\site-packages\\statsmodels\\base\\model.py:607: ConvergenceWarning: Maximum Likelihood optimization failed to converge. Check mle_retvals\n",
      "  warnings.warn(\"Maximum Likelihood optimization failed to \"\n",
      "C:\\Users\\DELL\\anaconda3\\Lib\\site-packages\\statsmodels\\tsa\\base\\tsa_model.py:473: ValueWarning: No frequency information was provided, so inferred frequency MS will be used.\n",
      "  self._init_dates(dates, freq)\n",
      "C:\\Users\\DELL\\anaconda3\\Lib\\site-packages\\statsmodels\\tsa\\base\\tsa_model.py:473: ValueWarning: No frequency information was provided, so inferred frequency MS will be used.\n",
      "  self._init_dates(dates, freq)\n",
      "C:\\Users\\DELL\\anaconda3\\Lib\\site-packages\\statsmodels\\base\\model.py:607: ConvergenceWarning: Maximum Likelihood optimization failed to converge. Check mle_retvals\n",
      "  warnings.warn(\"Maximum Likelihood optimization failed to \"\n",
      "C:\\Users\\DELL\\anaconda3\\Lib\\site-packages\\statsmodels\\tsa\\base\\tsa_model.py:473: ValueWarning: No frequency information was provided, so inferred frequency MS will be used.\n",
      "  self._init_dates(dates, freq)\n",
      "C:\\Users\\DELL\\anaconda3\\Lib\\site-packages\\statsmodels\\tsa\\base\\tsa_model.py:473: ValueWarning: No frequency information was provided, so inferred frequency MS will be used.\n",
      "  self._init_dates(dates, freq)\n",
      "C:\\Users\\DELL\\anaconda3\\Lib\\site-packages\\statsmodels\\base\\model.py:607: ConvergenceWarning: Maximum Likelihood optimization failed to converge. Check mle_retvals\n",
      "  warnings.warn(\"Maximum Likelihood optimization failed to \"\n",
      "C:\\Users\\DELL\\anaconda3\\Lib\\site-packages\\statsmodels\\tsa\\base\\tsa_model.py:473: ValueWarning: No frequency information was provided, so inferred frequency MS will be used.\n",
      "  self._init_dates(dates, freq)\n",
      "C:\\Users\\DELL\\anaconda3\\Lib\\site-packages\\statsmodels\\tsa\\base\\tsa_model.py:473: ValueWarning: No frequency information was provided, so inferred frequency MS will be used.\n",
      "  self._init_dates(dates, freq)\n",
      "C:\\Users\\DELL\\anaconda3\\Lib\\site-packages\\statsmodels\\tsa\\base\\tsa_model.py:473: ValueWarning: No frequency information was provided, so inferred frequency MS will be used.\n",
      "  self._init_dates(dates, freq)\n",
      "C:\\Users\\DELL\\anaconda3\\Lib\\site-packages\\statsmodels\\tsa\\base\\tsa_model.py:473: ValueWarning: No frequency information was provided, so inferred frequency MS will be used.\n",
      "  self._init_dates(dates, freq)\n",
      "C:\\Users\\DELL\\anaconda3\\Lib\\site-packages\\statsmodels\\tsa\\base\\tsa_model.py:473: ValueWarning: No frequency information was provided, so inferred frequency MS will be used.\n",
      "  self._init_dates(dates, freq)\n",
      "C:\\Users\\DELL\\anaconda3\\Lib\\site-packages\\statsmodels\\tsa\\base\\tsa_model.py:473: ValueWarning: No frequency information was provided, so inferred frequency MS will be used.\n",
      "  self._init_dates(dates, freq)\n",
      "C:\\Users\\DELL\\anaconda3\\Lib\\site-packages\\statsmodels\\tsa\\base\\tsa_model.py:473: ValueWarning: No frequency information was provided, so inferred frequency MS will be used.\n",
      "  self._init_dates(dates, freq)\n",
      "C:\\Users\\DELL\\anaconda3\\Lib\\site-packages\\statsmodels\\tsa\\base\\tsa_model.py:473: ValueWarning: No frequency information was provided, so inferred frequency MS will be used.\n",
      "  self._init_dates(dates, freq)\n",
      "C:\\Users\\DELL\\anaconda3\\Lib\\site-packages\\statsmodels\\base\\model.py:607: ConvergenceWarning: Maximum Likelihood optimization failed to converge. Check mle_retvals\n",
      "  warnings.warn(\"Maximum Likelihood optimization failed to \"\n",
      "C:\\Users\\DELL\\anaconda3\\Lib\\site-packages\\statsmodels\\tsa\\base\\tsa_model.py:473: ValueWarning: No frequency information was provided, so inferred frequency MS will be used.\n",
      "  self._init_dates(dates, freq)\n",
      "C:\\Users\\DELL\\anaconda3\\Lib\\site-packages\\statsmodels\\tsa\\base\\tsa_model.py:473: ValueWarning: No frequency information was provided, so inferred frequency MS will be used.\n",
      "  self._init_dates(dates, freq)\n",
      "C:\\Users\\DELL\\anaconda3\\Lib\\site-packages\\statsmodels\\base\\model.py:607: ConvergenceWarning: Maximum Likelihood optimization failed to converge. Check mle_retvals\n",
      "  warnings.warn(\"Maximum Likelihood optimization failed to \"\n",
      "C:\\Users\\DELL\\anaconda3\\Lib\\site-packages\\statsmodels\\tsa\\base\\tsa_model.py:473: ValueWarning: No frequency information was provided, so inferred frequency MS will be used.\n",
      "  self._init_dates(dates, freq)\n",
      "C:\\Users\\DELL\\anaconda3\\Lib\\site-packages\\statsmodels\\tsa\\base\\tsa_model.py:473: ValueWarning: No frequency information was provided, so inferred frequency MS will be used.\n",
      "  self._init_dates(dates, freq)\n",
      "C:\\Users\\DELL\\anaconda3\\Lib\\site-packages\\statsmodels\\base\\model.py:607: ConvergenceWarning: Maximum Likelihood optimization failed to converge. Check mle_retvals\n",
      "  warnings.warn(\"Maximum Likelihood optimization failed to \"\n"
     ]
    },
    {
     "name": "stdout",
     "output_type": "stream",
     "text": [
      "Best SARIMAX(2, 2, 2)x(1, 0, 1, 12)12 model - AIC:-2488.7804161364156\n"
     ]
    }
   ],
   "source": [
    "best_aic = np.inf\n",
    "best_pdq = None\n",
    "best_seasonal_pdq = None\n",
    "temp_model = None\n",
    "\n",
    "for param in pdq:\n",
    "    for param_seasonal in seasonal_pdq:\n",
    "        \n",
    "        try:\n",
    "            temp_model = sm.tsa.statespace.SARIMAX(train_log,\n",
    "                                             order = param,\n",
    "                                             seasonal_order = param_seasonal,\n",
    "                                             enforce_stationarity=False,\n",
    "                                             enforce_invertibility=False)\n",
    "            results = temp_model.fit()\n",
    "\n",
    "            # print(\"SARIMAX{}x{}12 - AIC:{}\".format(param, param_seasonal, results.aic))\n",
    "            if results.aic < best_aic:\n",
    "                best_aic = results.aic\n",
    "                best_pdq = param\n",
    "                best_seasonal_pdq = param_seasonal\n",
    "        except:\n",
    "            #print(\"Unexpected error:\", sys.exc_info()[0])\n",
    "            continue\n",
    "print(\"Best SARIMAX{}x{}12 model - AIC:{}\".format(best_pdq, best_seasonal_pdq, best_aic))"
   ]
  },
  {
   "cell_type": "code",
   "execution_count": 145,
   "id": "0600f413",
   "metadata": {},
   "outputs": [
    {
     "name": "stderr",
     "output_type": "stream",
     "text": [
      "C:\\Users\\DELL\\anaconda3\\Lib\\site-packages\\statsmodels\\tsa\\base\\tsa_model.py:473: ValueWarning: No frequency information was provided, so inferred frequency MS will be used.\n",
      "  self._init_dates(dates, freq)\n",
      "C:\\Users\\DELL\\anaconda3\\Lib\\site-packages\\statsmodels\\tsa\\base\\tsa_model.py:473: ValueWarning: No frequency information was provided, so inferred frequency MS will be used.\n",
      "  self._init_dates(dates, freq)\n",
      "C:\\Users\\DELL\\anaconda3\\Lib\\site-packages\\statsmodels\\base\\model.py:607: ConvergenceWarning: Maximum Likelihood optimization failed to converge. Check mle_retvals\n",
      "  warnings.warn(\"Maximum Likelihood optimization failed to \"\n"
     ]
    }
   ],
   "source": [
    "best_model=sm.tsa.statespace.SARIMAX(train_log,\n",
    "                                      order=(2, 2, 2),\n",
    "                                      seasonal_order=(1, 0, 1, 12),\n",
    "                                      enforce_stationarity=False,\n",
    "                                      enforce_invertibility=False)\n",
    "best_results = best_model.fit()"
   ]
  },
  {
   "cell_type": "code",
   "execution_count": 146,
   "id": "f9e8deda",
   "metadata": {},
   "outputs": [],
   "source": [
    "train_predict=10**(best_results.predict(start='1973-01-01',end='2005-09-01'))"
   ]
  },
  {
   "cell_type": "code",
   "execution_count": 147,
   "id": "ff6bc001",
   "metadata": {},
   "outputs": [],
   "source": [
    "test_predict=10**(best_results.forecast(168))"
   ]
  },
  {
   "cell_type": "code",
   "execution_count": 148,
   "id": "4df0578e",
   "metadata": {},
   "outputs": [
    {
     "name": "stdout",
     "output_type": "stream",
     "text": [
      "RMSE of training data:  32.77  |  RMSE of testing data:  4.3\n",
      "RMSPE of training data:  0.91  |  RMSPE of testing data:  0.04\n",
      "MAPE of training data:  0.07  |  MAPE of testing data:  0.04\n"
     ]
    }
   ],
   "source": [
    "RMSE_train = round(np.sqrt( mean_squared_error( decompose_output1.observed, train_predict )),2)\n",
    "RMSE_test = round(np.sqrt( mean_squared_error( test.Electricty_Consumption_in_TW, test_predict )),2)\n",
    "\n",
    "RMSPE_train = round(np.sqrt( np.mean(np.square(((decompose_output1.observed - train_predict) / decompose_output1.observed)), axis=0)),2)\n",
    "RMSPE_test = round(np.sqrt( np.mean(np.square(((test.Electricty_Consumption_in_TW - test_predict) / test.Electricty_Consumption_in_TW)), axis=0)),2)\n",
    "\n",
    "MAPE_train = round(mean_absolute_percentage_error( decompose_output1.observed, train_predict ), 2)\n",
    "MAPE_test = round(mean_absolute_percentage_error( test.Electricty_Consumption_in_TW, test_predict ), 2)\n",
    "\n",
    "print('RMSE of training data: ', RMSE_train,  ' | ', 'RMSE of testing data: ', RMSE_test)\n",
    "print('RMSPE of training data: ', RMSPE_train,  ' | ', 'RMSPE of testing data: ', RMSPE_test)\n",
    "print('MAPE of training data: ', MAPE_train,  ' | ', 'MAPE of testing data: ', MAPE_test)"
   ]
  },
  {
   "cell_type": "markdown",
   "id": "21a133ef",
   "metadata": {},
   "source": [
    "### Prediction"
   ]
  },
  {
   "cell_type": "code",
   "execution_count": 149,
   "id": "1e1fffab",
   "metadata": {},
   "outputs": [
    {
     "name": "stderr",
     "output_type": "stream",
     "text": [
      "C:\\Users\\DELL\\anaconda3\\Lib\\site-packages\\statsmodels\\tsa\\base\\tsa_model.py:473: ValueWarning: No frequency information was provided, so inferred frequency MS will be used.\n",
      "  self._init_dates(dates, freq)\n",
      "C:\\Users\\DELL\\anaconda3\\Lib\\site-packages\\statsmodels\\tsa\\base\\tsa_model.py:473: ValueWarning: No frequency information was provided, so inferred frequency MS will be used.\n",
      "  self._init_dates(dates, freq)\n",
      "C:\\Users\\DELL\\anaconda3\\Lib\\site-packages\\statsmodels\\base\\model.py:607: ConvergenceWarning: Maximum Likelihood optimization failed to converge. Check mle_retvals\n",
      "  warnings.warn(\"Maximum Likelihood optimization failed to \"\n"
     ]
    }
   ],
   "source": [
    "best_model=sm.tsa.statespace.SARIMAX(data_log,\n",
    "                                      order=(2, 2, 2),\n",
    "                                      seasonal_order=(0, 1, 1, 12),\n",
    "                                      enforce_stationarity=False,\n",
    "                                      enforce_invertibility=False)\n",
    "best_results = best_model.fit()"
   ]
  },
  {
   "cell_type": "code",
   "execution_count": 150,
   "id": "de4f8635",
   "metadata": {},
   "outputs": [],
   "source": [
    "prediction=10**(best_results.forecast(27))"
   ]
  },
  {
   "cell_type": "code",
   "execution_count": 151,
   "id": "360c6601",
   "metadata": {
    "scrolled": true
   },
   "outputs": [
    {
     "data": {
      "text/plain": [
       "2019-10-01     97.463669\n",
       "2019-11-01     94.982420\n",
       "2019-12-01    105.124305\n",
       "2020-01-01    111.500152\n",
       "2020-02-01    101.920059\n",
       "2020-03-01     97.768663\n",
       "2020-04-01     91.732267\n",
       "2020-05-01     98.121586\n",
       "2020-06-01    112.625593\n",
       "2020-07-01    124.050363\n",
       "2020-08-01    123.033932\n",
       "2020-09-01    110.358048\n",
       "2020-10-01     97.997588\n",
       "2020-11-01     95.603058\n",
       "2020-12-01    105.722282\n",
       "2021-01-01    112.155817\n",
       "2021-02-01    102.506653\n",
       "2021-03-01     98.318821\n",
       "2021-04-01     92.243287\n",
       "2021-05-01     98.657748\n",
       "2021-06-01    113.231233\n",
       "2021-07-01    124.706309\n",
       "2021-08-01    123.673189\n",
       "2021-09-01    110.921542\n",
       "2021-10-01     98.489071\n",
       "2021-11-01     96.073878\n",
       "2021-12-01    106.233373\n",
       "Freq: MS, Name: predicted_mean, dtype: float64"
      ]
     },
     "execution_count": 151,
     "metadata": {},
     "output_type": "execute_result"
    }
   ],
   "source": [
    "prediction"
   ]
  },
  {
   "cell_type": "markdown",
   "id": "3ac6bcac",
   "metadata": {},
   "source": [
    "#### Decomposition model is overfit. Selecting ETS Model, since it has least error overall in comparison to SARIMA"
   ]
  },
  {
   "cell_type": "code",
   "execution_count": null,
   "id": "14e71600",
   "metadata": {},
   "outputs": [],
   "source": []
  }
 ],
 "metadata": {
  "kernelspec": {
   "display_name": "Python 3 (ipykernel)",
   "language": "python",
   "name": "python3"
  },
  "language_info": {
   "codemirror_mode": {
    "name": "ipython",
    "version": 3
   },
   "file_extension": ".py",
   "mimetype": "text/x-python",
   "name": "python",
   "nbconvert_exporter": "python",
   "pygments_lexer": "ipython3",
   "version": "3.11.5"
  }
 },
 "nbformat": 4,
 "nbformat_minor": 5
}
